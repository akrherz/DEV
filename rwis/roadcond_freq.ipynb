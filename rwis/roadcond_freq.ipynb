{
 "cells": [
  {
   "cell_type": "code",
   "execution_count": 2,
   "metadata": {},
   "outputs": [
    {
     "name": "stdout",
     "output_type": "stream",
     "text": [
      "1027\n"
     ]
    }
   ],
   "source": [
    "%matplotlib inline\n",
    "from pyiem.util import get_dbconn\n",
    "from shapely.wkt import loads\n",
    "\n",
    "POSTGIS = get_dbconn('postgis')\n",
    "cursor = POSTGIS.cursor()\n",
    "\n",
    "roads = []\n",
    "freq = []\n",
    "\n",
    "cursor.execute(\"\"\"\n",
    "WITH obs as (\n",
    " SELECT segid, sum(lead - valid) from\n",
    " (SELECT segid, valid,  lead(valid) OVER (PARTITION by segid ORDER by valid ASC),\n",
    " cond_code from roads_2018_2019_log WHERE valid > '2019-01-01') as foo\n",
    " WHERE cond_code > 0 GROUP by segid\n",
    ")\n",
    " SELECT obs.sum, ST_AsEWKT(ST_Transform(base.simple_geom,4326)) from obs JOIN\n",
    " roads_base base on (obs.segid = base.segid) \n",
    "\n",
    "\"\"\")\n",
    "\n",
    "for row in cursor:\n",
    "    if row[1] is None:\n",
    "        continue\n",
    "    roads.append(loads(row[1][10:]))\n",
    "    freq.append(row[0])\n",
    "print(len(freq))"
   ]
  },
  {
   "cell_type": "code",
   "execution_count": 3,
   "metadata": {},
   "outputs": [],
   "source": [
    "import datetime\n",
    "\n",
    "sts = datetime.datetime(2019,1,1)\n",
    "ets = datetime.datetime(2019,2,12,20)\n",
    "period = (ets - sts).total_seconds()"
   ]
  },
  {
   "cell_type": "code",
   "execution_count": 10,
   "metadata": {},
   "outputs": [],
   "source": [
    "from pyiem.plot import MapPlot, whitebluegreenyellowred\n",
    "import numpy as np\n",
    "import matplotlib.colors as mpcolors\n",
    "import cartopy.crs as ccrs\n",
    "\n",
    "cmap = whitebluegreenyellowred()\n",
    "clevs = np.arange(0,41,5)\n",
    "norm = mpcolors.BoundaryNorm(clevs, cmap.N)\n",
    "\n",
    "m = MapPlot(title='1 Jan - 12 Feb 2019 Percent Time with Non-Seasonable Driving Condition',\n",
    "            subtitle='Based on Iowa DOT Road Condition Reports, till 9 PM 12 Feb 2019',\n",
    "            axisbg='white')\n",
    "\n",
    "for geoms, f in zip(roads,freq):\n",
    "    if f is None:\n",
    "        continue\n",
    "    dur = f.days * 86400. + f.seconds\n",
    "    percent = dur / period * 100.\n",
    "    for geo in geoms:\n",
    "        x,y = geo.xy\n",
    "        points = m.ax.projection.transform_points(ccrs.PlateCarree(), np.array(x), np.array(y))\n",
    "        m.ax.plot(points[:, 0], points[:, 1], lw=3., color=cmap( norm([percent,]) )[0])\n",
    "\n",
    "m.draw_colorbar(clevs, cmap, norm, units='percent')\n",
    "m.drawcities()\n",
    "        \n",
    "m.postprocess(filename='test.png')"
   ]
  },
  {
   "cell_type": "code",
   "execution_count": null,
   "metadata": {},
   "outputs": [],
   "source": []
  }
 ],
 "metadata": {
  "kernelspec": {
   "display_name": "Python 3",
   "language": "python",
   "name": "python3"
  },
  "language_info": {
   "codemirror_mode": {
    "name": "ipython",
    "version": 3
   },
   "file_extension": ".py",
   "mimetype": "text/x-python",
   "name": "python",
   "nbconvert_exporter": "python",
   "pygments_lexer": "ipython3",
   "version": "3.6.7"
  }
 },
 "nbformat": 4,
 "nbformat_minor": 1
}

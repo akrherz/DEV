{
 "cells": [
  {
   "cell_type": "code",
   "execution_count": 17,
   "metadata": {},
   "outputs": [
    {
     "name": "stdout",
     "output_type": "stream",
     "text": [
      "974\n"
     ]
    }
   ],
   "source": [
    "from pyiem.util import get_dbconn, get_sqlalchemy_conn\n",
    "import geopandas as gpd\n",
    "\n",
    "with get_sqlalchemy_conn(\"postgis\") as conn:\n",
    "    df = gpd.read_postgis(\"\"\"\n",
    "WITH obs as (\n",
    " SELECT segid, sum(lead - valid) from\n",
    " (SELECT segid, valid,  lead(valid) OVER (PARTITION by segid ORDER by valid ASC),\n",
    " cond_code from roads_log WHERE valid > '2021-11-01' and valid < '2022-04-04') as foo\n",
    " WHERE cond_code > 0 GROUP by segid\n",
    ")\n",
    " SELECT obs.sum, base.simple_geom from obs JOIN\n",
    " roads_base base on (obs.segid = base.segid) \n",
    "\n",
    "\"\"\",\n",
    "                         conn,\n",
    "                          geom_col=\"simple_geom\",\n",
    "                         )\n",
    "\n",
    "print(len(df.index))"
   ]
  },
  {
   "cell_type": "code",
   "execution_count": 18,
   "metadata": {},
   "outputs": [],
   "source": [
    "import datetime\n",
    "\n",
    "sts = datetime.datetime(2021,11,1)\n",
    "ets = datetime.datetime(2022,4,4)\n",
    "period = (ets - sts).total_seconds()"
   ]
  },
  {
   "cell_type": "code",
   "execution_count": 19,
   "metadata": {},
   "outputs": [],
   "source": [
    "from pyiem.plot import MapPlot, whitebluegreenyellowred\n",
    "import numpy as np\n",
    "import matplotlib.colors as mpcolors\n",
    "import cartopy.crs as ccrs\n",
    "\n",
    "cmap = whitebluegreenyellowred()\n",
    "clevs = np.arange(0,9,1)\n",
    "norm = mpcolors.BoundaryNorm(clevs, cmap.N)\n",
    "df[\"color\"] = [x for x in cmap(norm(df[\"sum\"].dt.total_seconds() / period * 100.))]\n",
    "\n",
    "mp = MapPlot(title='1 Nov 2021 - 4 Apr 2022 Percent Time with Non-Seasonable Driving Condition',\n",
    "            subtitle='Based on Iowa DOT Road Condition Reports, till 10 PM 4 Apr 2022',\n",
    "            axisbg='white',\n",
    "            twitter=True)\n",
    "\n",
    "df.to_crs(mp.panels[0].crs).plot(\n",
    "    aspect=None,\n",
    "    ax=mp.panels[0].ax,\n",
    "    color=df[\"color\"],\n",
    "    lw=3,\n",
    "    zorder=10,\n",
    ")\n",
    "\n",
    "mp.draw_colorbar(clevs, cmap, norm, units='percent')\n",
    "mp.drawcities()\n",
    "        \n",
    "mp.postprocess(filename='220405.png')\n",
    "mp.close()"
   ]
  },
  {
   "cell_type": "code",
   "execution_count": null,
   "metadata": {},
   "outputs": [],
   "source": []
  },
  {
   "cell_type": "code",
   "execution_count": null,
   "metadata": {},
   "outputs": [],
   "source": []
  }
 ],
 "metadata": {
  "kernelspec": {
   "display_name": "Python 3 (ipykernel)",
   "language": "python",
   "name": "python3"
  },
  "language_info": {
   "codemirror_mode": {
    "name": "ipython",
    "version": 3
   },
   "file_extension": ".py",
   "mimetype": "text/x-python",
   "name": "python",
   "nbconvert_exporter": "python",
   "pygments_lexer": "ipython3",
   "version": "3.10.4"
  }
 },
 "nbformat": 4,
 "nbformat_minor": 1
}

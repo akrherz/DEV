{
 "cells": [
  {
   "cell_type": "code",
   "execution_count": 1,
   "metadata": {},
   "outputs": [],
   "source": [
    "from pandas.io.sql import read_sql\n",
    "from pyiem.util import get_dbconn\n",
    "\n",
    "COOP = get_dbconn(\"coop\")\n",
    "\n",
    "df = read_sql(\n",
    "    \"\"\"\n",
    "WITH data as (\n",
    "    SELECT station, year, min(extract(doy from day)) as doy from alldata\n",
    "    WHERE low < 32 and month > 6 and substr(station, 3, 1) != 'C' and\n",
    "    substr(station, 3, 4) != '0000' GROUP by station, year),\n",
    "agg1 as (\n",
    "   SELECT station, avg(doy), max(year) from data GROUP by station\n",
    ")\n",
    "   \n",
    "SELECT agg1.station, agg1.avg, ST_x(geom), ST_Y(geom), agg1.max, t.state from stations t, agg1\n",
    "WHERE agg1.station = t.id and t.network ~* 'CLIMATE' and\n",
    "t.state in ('IA', 'ND', 'SD', 'KS', 'NE', 'MO', 'MN', 'WI', 'IL', 'IN', 'OH', 'KY', 'MI')\n",
    "\"\"\",\n",
    "    COOP,\n",
    "    index_col=\"station\",\n",
    ")"
   ]
  },
  {
   "cell_type": "code",
   "execution_count": 2,
   "metadata": {},
   "outputs": [
    {
     "data": {
      "text/html": [
       "<div>\n",
       "<style scoped>\n",
       "    .dataframe tbody tr th:only-of-type {\n",
       "        vertical-align: middle;\n",
       "    }\n",
       "\n",
       "    .dataframe tbody tr th {\n",
       "        vertical-align: top;\n",
       "    }\n",
       "\n",
       "    .dataframe thead th {\n",
       "        text-align: right;\n",
       "    }\n",
       "</style>\n",
       "<table border=\"1\" class=\"dataframe\">\n",
       "  <thead>\n",
       "    <tr style=\"text-align: right;\">\n",
       "      <th></th>\n",
       "      <th>avg</th>\n",
       "      <th>st_x</th>\n",
       "      <th>st_y</th>\n",
       "      <th>max</th>\n",
       "      <th>state</th>\n",
       "    </tr>\n",
       "    <tr>\n",
       "      <th>station</th>\n",
       "      <th></th>\n",
       "      <th></th>\n",
       "      <th></th>\n",
       "      <th></th>\n",
       "      <th></th>\n",
       "    </tr>\n",
       "  </thead>\n",
       "  <tbody>\n",
       "    <tr>\n",
       "      <th>KS8235</th>\n",
       "      <td>281.078125</td>\n",
       "      <td>-101.766667</td>\n",
       "      <td>38.450000</td>\n",
       "      <td>2020</td>\n",
       "      <td>KS</td>\n",
       "    </tr>\n",
       "    <tr>\n",
       "      <th>KS1029</th>\n",
       "      <td>279.975309</td>\n",
       "      <td>-101.433333</td>\n",
       "      <td>39.366667</td>\n",
       "      <td>2020</td>\n",
       "      <td>KS</td>\n",
       "    </tr>\n",
       "  </tbody>\n",
       "</table>\n",
       "</div>"
      ],
      "text/plain": [
       "                avg        st_x       st_y   max state\n",
       "station                                               \n",
       "KS8235   281.078125 -101.766667  38.450000  2020    KS\n",
       "KS1029   279.975309 -101.433333  39.366667  2020    KS"
      ]
     },
     "execution_count": 2,
     "metadata": {},
     "output_type": "execute_result"
    }
   ],
   "source": [
    "df[(df[\"state\"] == \"KS\") & (df[\"max\"] == 2020)]"
   ]
  },
  {
   "cell_type": "code",
   "execution_count": 6,
   "metadata": {},
   "outputs": [],
   "source": [
    "import datetime\n",
    "\n",
    "labels = []\n",
    "ticks = []\n",
    "tickrange = range(int(df[\"avg\"].min()) - 2, int(df[\"avg\"].max()) + 2, 5)\n",
    "for i in tickrange:\n",
    "    ticks.append(i)\n",
    "    ts = datetime.datetime(2000, 1, 1) + datetime.timedelta(days=(i - 1))\n",
    "    labels.append(ts.strftime(\"%-d %b\"))"
   ]
  },
  {
   "cell_type": "code",
   "execution_count": 9,
   "metadata": {},
   "outputs": [],
   "source": [
    "df[\"x\"] = \"x\"\n",
    "df2 = df[df[\"max\"] == 2020]\n",
    "from pyiem.plot import MapPlot, get_cmap\n",
    "\n",
    "m = MapPlot(\n",
    "    sector=\"midwest\",\n",
    "    subtitle='Climatology based on long term climate sites, \"x\" denotes 2020 observation below 32 till 24 Sep',\n",
    "    title=\"Average First Fall Date below 32$^\\circ$F Air Temperature\",\n",
    ")\n",
    "cmap = get_cmap(\"Spectral\")\n",
    "m.contourf(\n",
    "    df[\"st_x\"],\n",
    "    df[\"st_y\"],\n",
    "    df[\"avg\"],\n",
    "    tickrange,\n",
    "    clevlabels=labels,\n",
    "    cmap=cmap,\n",
    "    extend=\"neither\",\n",
    ")\n",
    "m.plot_values(df2[\"st_x\"], df2[\"st_y\"], df2[\"x\"], \"%s\", labelbuffer=3)\n",
    "# m.drawcounties()\n",
    "\n",
    "m.postprocess(filename=\"200925.png\")"
   ]
  },
  {
   "cell_type": "code",
   "execution_count": null,
   "metadata": {},
   "outputs": [],
   "source": []
  }
 ],
 "metadata": {
  "kernelspec": {
   "display_name": "Python 3",
   "language": "python",
   "name": "python3"
  },
  "language_info": {
   "codemirror_mode": {
    "name": "ipython",
    "version": 3
   },
   "file_extension": ".py",
   "mimetype": "text/x-python",
   "name": "python",
   "nbconvert_exporter": "python",
   "pygments_lexer": "ipython3",
   "version": "3.8.10"
  }
 },
 "nbformat": 4,
 "nbformat_minor": 1
}

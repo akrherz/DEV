{
 "cells": [
  {
   "cell_type": "code",
   "execution_count": 6,
   "metadata": {},
   "outputs": [
    {
     "name": "stdout",
     "output_type": "stream",
     "text": [
      "            date  tmpf last_date last_tmpf last_low\n",
      "hr                                                 \n",
      "0.0   2017-11-08  36.0      None      None     None\n",
      "1.0   2017-11-09  40.0      None      None     None\n",
      "2.0   2017-11-09  40.0      None      None     None\n",
      "3.0   2017-11-09  41.0      None      None     None\n",
      "4.0   2017-11-09  40.0      None      None     None\n",
      "5.0   2017-11-09  36.0      None      None     None\n",
      "6.0   2017-11-09  33.0      None      None     None\n",
      "7.0   2017-11-09  31.0      None      None     None\n",
      "8.0   2017-11-09  30.0      None      None     None\n",
      "9.0   2017-11-09  30.0      None      None     None\n",
      "10.0  2017-11-09  30.0      None      None     None\n",
      "11.0  2017-11-09  31.0      None      None     None\n",
      "12.0  2017-11-09  32.0      None      None     None\n",
      "13.0  2017-11-09  33.0      None      None     None\n",
      "14.0  2017-11-09  34.0      None      None     None\n",
      "15.0  2017-11-09  33.0      None      None     None\n",
      "16.0  2017-11-09  30.0      None      None     None\n",
      "17.0  2017-11-09  28.0      None      None     None\n",
      "18.0  2017-11-09  26.0      None      None     None\n",
      "19.0  2017-11-09  25.0      None      None     None\n",
      "20.0  2017-11-09  24.0      None      None     None\n",
      "21.0  2017-11-09  23.0      None      None     None\n",
      "22.0  2017-11-09  23.0      None      None     None\n",
      "23.0  2017-11-09  22.0      None      None     None\n"
     ]
    }
   ],
   "source": [
    "%matplotlib inline\n",
    "from pyiem.util import get_dbconn\n",
    "from pandas.io.sql import read_sql\n",
    "asos_pgconn = get_dbconn('asos', user='nobody')\n",
    "acursor = asos_pgconn.cursor()\n",
    "\n",
    "today = read_sql(\"\"\"SELECT date(valid ) as date,\n",
    "  extract(hour  from valid + '10 minutes'::interval) as hr\n",
    "  , min(round(tmpf::numeric,0)) as tmpf from alldata\n",
    "  where station = 'DSM' and valid > '2017-11-08 23:50' \n",
    "  and valid < '2017-11-09 23:00' and tmpf is not null\n",
    "  GROUP by date, hr ORDER by date, hr ASC\n",
    "  \"\"\", asos_pgconn, index_col='hr')\n",
    "today['last_date'] = None\n",
    "today['last_tmpf'] = None\n",
    "today['last_low'] = None\n",
    "print(today)"
   ]
  },
  {
   "cell_type": "code",
   "execution_count": 2,
   "metadata": {},
   "outputs": [],
   "source": [
    "import mx.DateTime\n",
    "thursdays =[]\n",
    "for yr in range(1880,2015):\n",
    "  nov1 = mx.DateTime.DateTime(yr, 2, 14)\n",
    "  turkey = nov1\n",
    "  #turkey = nov1 + mx.DateTime.RelativeDateTime(weekday=(mx.DateTime.Thursday,4))\n",
    "  thursdays.append(turkey.strftime(\"%Y-%m-%d\"))"
   ]
  },
  {
   "cell_type": "code",
   "execution_count": 7,
   "metadata": {},
   "outputs": [
    {
     "name": "stdout",
     "output_type": "stream",
     "text": [
      "Processing hour: 0.0\n",
      "Processing hour: 1.0\n",
      "Processing hour: 2.0\n",
      "Processing hour: 3.0\n",
      "Processing hour: 4.0\n",
      "Processing hour: 5.0\n",
      "Processing hour: 6.0\n",
      "Processing hour: 7.0\n",
      "Processing hour: 8.0\n",
      "Processing hour: 9.0\n",
      "Processing hour: 10.0\n",
      "Processing hour: 11.0\n",
      "Processing hour: 12.0\n",
      "Processing hour: 13.0\n",
      "Processing hour: 14.0\n",
      "Processing hour: 15.0\n",
      "Processing hour: 16.0\n",
      "Processing hour: 17.0\n",
      "Processing hour: 18.0\n",
      "Processing hour: 19.0\n",
      "Processing hour: 20.0\n",
      "Processing hour: 21.0\n",
      "Processing hour: 22.0\n",
      "Processing hour: 23.0\n",
      "            date  tmpf                  last_date last_tmpf last_low\n",
      "hr                                                                  \n",
      "0.0   2017-11-08  36.0  2017-11-07 23:54:00-06:00      28.9       29\n",
      "1.0   2017-11-09  40.0  2017-11-08 00:54:00-06:00        27       22\n",
      "2.0   2017-11-09  40.0  2017-11-08 01:54:00-06:00        27       22\n",
      "3.0   2017-11-09  41.0  2017-11-08 02:54:00-06:00        27       22\n",
      "4.0   2017-11-09  40.0  2017-11-08 03:54:00-06:00        25       22\n",
      "5.0   2017-11-09  36.0  2017-11-08 04:54:00-06:00      24.1       22\n",
      "6.0   2017-11-09  33.0  2017-11-08 05:54:00-06:00        23       22\n",
      "7.0   2017-11-09  31.0  2017-11-08 06:54:00-06:00      21.9       22\n",
      "8.0   2017-11-09  30.0  2017-11-08 07:54:00-06:00      26.1       22\n",
      "9.0   2017-11-09  30.0  2014-11-01 08:54:00-05:00     30.02       23\n",
      "10.0  2017-11-09  30.0  2008-11-09 09:54:00-06:00     26.06       22\n",
      "11.0  2017-11-09  31.0  2008-11-09 10:54:00-06:00     26.96       22\n",
      "12.0  2017-11-09  32.0  2008-11-09 11:54:00-06:00     28.94       22\n",
      "13.0  2017-11-09  33.0  2008-11-09 12:54:00-06:00     30.02       22\n",
      "14.0  2017-11-09  34.0  2008-11-09 13:54:00-06:00     30.92       22\n",
      "15.0  2017-11-09  33.0  2008-11-09 15:03:00-06:00        32       22\n",
      "16.0  2017-11-09  30.0  2000-11-09 15:54:00-06:00     30.02       27\n",
      "17.0  2017-11-09  28.0  1993-11-05 17:00:00-06:00     28.04       22\n",
      "18.0  2017-11-09  26.0  1993-11-06 18:00:00-06:00     26.06       20\n",
      "19.0  2017-11-09  25.0  1995-11-03 19:00:00-06:00     24.98       18\n",
      "20.0  2017-11-09  24.0  1995-11-03 20:00:00-06:00     21.92       18\n",
      "21.0  2017-11-09  23.0  1995-11-03 21:00:00-06:00     21.92       18\n",
      "22.0  2017-11-09  23.0  1995-11-03 22:00:00-06:00     19.94       18\n",
      "23.0  2017-11-09  22.0  1995-11-03 23:00:00-06:00     19.04       18\n"
     ]
    }
   ],
   "source": [
    "COOP = get_dbconn('coop', user='nobody')\n",
    "ccursor = COOP.cursor()\n",
    "dates = []\n",
    "highs = []\n",
    "for hr, row in today.iterrows():\n",
    "    print(\"Processing hour: %s\" % (hr, ))\n",
    "    acursor.execute(\"\"\"\n",
    "    SELECT valid, tmpf from alldata WHERE \n",
    "    extract(hour from valid + '10 minutes') = %s and station = 'DSM' \n",
    "    and round(tmpf::numeric, 0) <= %s\n",
    "    and valid < %s and extract(month from valid) = 11 and\n",
    "    extract(day from valid) < 10\n",
    "    ORDER by valid DESC LIMIT 1\n",
    "    \"\"\", (hr, row['tmpf'], row['date']))\n",
    "    row = acursor.fetchone()\n",
    "    if row is not None:\n",
    "        today.at[hr, 'last_tmpf'] = row[1]\n",
    "        today.at[hr, 'last_date'] = row[0]\n",
    "    \n",
    "        ccursor.execute(\"\"\"\n",
    "        SELECT low from alldata_ia where station = 'IA2203'\n",
    "        and day = %s\"\"\", (row[0].strftime(\"%Y-%m-%d\"),))\n",
    "        row2 = ccursor.fetchone()\n",
    "        today.at[hr, 'last_low'] = row2[0]\n",
    "\n",
    "print(today)"
   ]
  },
  {
   "cell_type": "code",
   "execution_count": 10,
   "metadata": {},
   "outputs": [
    {
     "data": {
      "image/png": "[encoded data removed]",
      "text/plain": [
       "<matplotlib.figure.Figure at 0x7f6919b605d0>"
      ]
     },
     "metadata": {},
     "output_type": "display_data"
    }
   ],
   "source": [
    "import datetime\n",
    "import matplotlib.pyplot as plt\n",
    "\n",
    "(fig, ax) = plt.subplots(1,1, figsize=(9,9))\n",
    "\n",
    "ax.text(0.5, 0.97, '9 Nov 2017 Des Moines Hourly Temperatures', ha='center', size=16)\n",
    "ax.text(0.5, 0.94, 'Last date [1-9 Nov] with as cold a temperature [1933-2017]',\n",
    "        ha='center', size=12)\n",
    "\n",
    "ax.text(0.1, 0.90, 'Hour', ha='center')\n",
    "ax.text(0.25, 0.90, 'Temp [F]', ha='center')\n",
    "ax.text(0.5, 0.90, 'Previous Date', ha='center')\n",
    "ax.text(0.8, 0.90, 'Low that Date', ha='center')\n",
    "\n",
    "ax.plot([0.,1.], [0.89,0.89])\n",
    "\n",
    "y = 0.865\n",
    "for hr, row in today.iterrows():\n",
    "    ts = datetime.datetime(2000,1,1, int(hr))\n",
    "    color = 'k' if row['last_date'].year > 2008 else 'r'\n",
    "    ax.text(0.1, y, \"%s\" % (ts.strftime(\"%-I %p\"),), ha='center', color=color)\n",
    "    ax.text(0.25, y, \"%.0f\" % (row['tmpf'],), ha='center', color=color)\n",
    "    ax.text(0.5, y, \"%s\" % (row['last_date'].strftime(\"%-d %b %Y\"),), ha='center', color=color)\n",
    "    ax.text(0.8, y, \"%s\" % (row['last_low'],), ha='center', color=color)\n",
    "    if hr in (5,11,17):\n",
    "        ax.plot([0,1], [y-0.01,y-0.01], color='k')\n",
    "    y -= 0.035\n",
    "\n",
    "ax.set_ylim(-0.2,1)\n",
    "ax.get_xaxis().set_visible(False)\n",
    "ax.get_yaxis().set_visible(False)\n",
    "ax.set_xlim(0,1)\n",
    "ax.axis('off')\n",
    "    \n",
    "fig.savefig('test.png')\n"
   ]
  },
  {
   "cell_type": "code",
   "execution_count": null,
   "metadata": {},
   "outputs": [],
   "source": []
  }
 ],
 "metadata": {
  "kernelspec": {
   "display_name": "Python 2",
   "language": "python",
   "name": "python2"
  },
  "language_info": {
   "codemirror_mode": {
    "name": "ipython",
    "version": 2
   },
   "file_extension": ".py",
   "mimetype": "text/x-python",
   "name": "python",
   "nbconvert_exporter": "python",
   "pygments_lexer": "ipython2",
   "version": "2.7.14"
  }
 },
 "nbformat": 4,
 "nbformat_minor": 1
}

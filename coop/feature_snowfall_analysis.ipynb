{
 "cells": [
  {
   "cell_type": "code",
   "execution_count": 1,
   "metadata": {},
   "outputs": [],
   "source": [
    "# Use autoplot 207's code for this app\n",
    "import sys\n",
    "sys.path.insert(0, \"/opt/iem/htdocs/plotting/auto/scripts200/\")\n",
    "from p207 import load_data, compute_grid_bounds, add_zeros, do_analysis, USEME\n",
    "from pyiem.plot import MapPlot, nwssnow\n",
    "from pyiem.util import get_dbconn, utc\n",
    "import numpy as np"
   ]
  },
  {
   "cell_type": "code",
   "execution_count": 2,
   "metadata": {},
   "outputs": [],
   "source": [
    "STORM_NUMBER = 13\n",
    "TITLE = \"23-24 January 2021\"\n",
    "SUBTITLE = \"8 AM 24 January 2021\"\n",
    "sts = utc(2021, 1, 24, 5)\n",
    "ets = utc(2021, 12, 30, 23, 0)\n",
    "# Get available data\n",
    "ctx = {'coop': 'yes', 'csector': 'IA', 't': 'state', 'sz': 40, 'z': 'yes', 'f': 'linear', 'v': 'snow'}\n",
    "df = load_data(ctx, sts, ets)\n",
    "# figure out our grid bounds\n",
    "ctx[\"bnds2163\"] = compute_grid_bounds(ctx)\n",
    "# add zeros and QC\n",
    "df = add_zeros(df, ctx)"
   ]
  },
  {
   "cell_type": "code",
   "execution_count": 3,
   "metadata": {},
   "outputs": [],
   "source": [
    "def workflow(ctx, df, isfinal=False, lower=0, upper=2):\n",
    "    # do gridding\n",
    "    df2 = df[df[USEME]]\n",
    "    lons, lats, vals = do_analysis(df2, ctx)\n",
    "    mp = MapPlot(\n",
    "        sector=\"state\",\n",
    "        state=ctx[\"csector\"],\n",
    "        axisbg=\"white\",\n",
    "        title=\"%s - IEM Snowfall Total Analysis\" % (TITLE, ),\n",
    "        subtitle=(\"Snowfall totals till %s from NWS COOP, LSR, CoCoRaHS Reports; \"\n",
    "                  \"IEM 2020-2021 Winter Storm #%s\") % (SUBTITLE, STORM_NUMBER),\n",
    "        twitter=True,\n",
    "    )\n",
    "    mp.contourf(\n",
    "        lons, lats, vals, np.array([0.1, 1, 2, 3, 4, 6, 8, 12, 18, 24, 30, 36]), cmap=nwssnow(), clip_on=True)\n",
    "    df_useme_plot = df2[(df2['val']>=lower)&(df2['val'] < upper)]\n",
    "    print(df_useme_plot)\n",
    "    mp.drawcounties()\n",
    "    if isfinal:\n",
    "        mp.drawcities()\n",
    "    else:\n",
    "        mp.plot_values(df_useme_plot['lon'], df_useme_plot['lat'], df_useme_plot['val'],\n",
    "            '%s', labels=df_useme_plot['nwsli'].values,\n",
    "            textsize=10, labeltextsize=10, labelbuffer=1)\n",
    "    return mp"
   ]
  },
  {
   "cell_type": "code",
   "execution_count": 15,
   "metadata": {},
   "outputs": [
    {
     "name": "stdout",
     "output_type": "stream",
     "text": [
      "     state  wfo  val       lon      lat                               geo  \\\n",
      "434     NY  BGM  1.9  -76.0400  42.1400    POINT (1941131.124 -30388.783)   \n",
      "436     WI  MKX  1.9  -88.0200  42.9000    POINT (971644.186 -162066.466)   \n",
      "437     WI  MKX  1.9  -87.7200  43.7500     POINT (981765.478 -64718.572)   \n",
      "438     IA  DVN  1.9  -91.7500  41.5500    POINT (685409.802 -349137.776)   \n",
      "439     WI  MKX  1.9  -89.3900  42.9200    POINT (861078.127 -175249.237)   \n",
      "...    ...  ...  ...       ...      ...                               ...   \n",
      "2134    TX  LUB  0.0 -100.0263  34.6888    POINT (-2414.392 -1145005.606)   \n",
      "2135    TX  LUB  0.0 -101.2464  33.8761  POINT (-115605.600 -1234133.028)   \n",
      "2136    TX  LUB  0.0 -100.9336  34.2675   POINT (-86167.235 -1191181.913)   \n",
      "2137    TX  LUB  0.0 -100.9561  34.2319   POINT (-88283.702 -1195099.822)   \n",
      "2138    TX  LUB  0.0 -102.7111  34.6425  POINT (-248980.505 -1146156.139)   \n",
      "\n",
      "      used_for_analysis  nwsli  plotme source  \n",
      "434                True    434    True    LSR  \n",
      "436                True    436    True    LSR  \n",
      "437                True    437    True    LSR  \n",
      "438                True    438    True    LSR  \n",
      "439                True    439    True    LSR  \n",
      "...                 ...    ...     ...    ...  \n",
      "2134               True  DOBT2    True   COOP  \n",
      "2135               True  FLDT2    True   COOP  \n",
      "2136               True  FLMT2    True   COOP  \n",
      "2137               True  FMTT2    True   COOP  \n",
      "2138               True  FRIT2    True   COOP  \n",
      "\n",
      "[1386 rows x 10 columns]\n"
     ]
    }
   ],
   "source": [
    "cull = [548, 507, 'DAKI4', 'IA-KS-4', 'SACI4', 'GTHI4', 555, 'IA-AL-6']\n",
    "if cull:\n",
    "    df.loc[df['nwsli'].isin(cull), USEME] = False\n",
    "# df.loc[df[df[\"state\"] == \"MN\"].index, USEME] = False\n",
    "hardcode = [\n",
    "]\n",
    "for nwsli, val in hardcode:\n",
    "    df.loc[df['nwsli'] == nwsli, 'val'] = val\n",
    "\n",
    "ctx['csector'] = \"IA\"\n",
    "mp = workflow(ctx, df, isfinal=True, lower=0, upper=2)\n",
    "res = mp.postprocess(filename='210124.png')\n",
    "mp.close()"
   ]
  },
  {
   "cell_type": "code",
   "execution_count": null,
   "metadata": {},
   "outputs": [],
   "source": []
  },
  {
   "cell_type": "code",
   "execution_count": null,
   "metadata": {},
   "outputs": [],
   "source": []
  }
 ],
 "metadata": {
  "kernelspec": {
   "display_name": "Python 3",
   "language": "python",
   "name": "python3"
  },
  "language_info": {
   "codemirror_mode": {
    "name": "ipython",
    "version": 3
   },
   "file_extension": ".py",
   "mimetype": "text/x-python",
   "name": "python",
   "nbconvert_exporter": "python",
   "pygments_lexer": "ipython3",
   "version": "3.8.6"
  }
 },
 "nbformat": 4,
 "nbformat_minor": 1
}

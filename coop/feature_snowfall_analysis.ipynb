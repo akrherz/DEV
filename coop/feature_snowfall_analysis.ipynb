{
 "cells": [
  {
   "cell_type": "code",
   "execution_count": 1,
   "metadata": {},
   "outputs": [],
   "source": [
    "# Use autoplot 207's code for this app\n",
    "import sys\n",
    "sys.path.insert(0, \"/opt/iem/htdocs/plotting/auto/scripts200/\")\n",
    "from p207 import load_data, compute_grid_bounds, add_zeros, do_analysis, USEME\n",
    "from pyiem.plot import MapPlot, nwssnow\n",
    "from pyiem.util import get_dbconn, utc\n",
    "import numpy as np\n",
    "import pandas as pd"
   ]
  },
  {
   "cell_type": "code",
   "execution_count": 10,
   "metadata": {},
   "outputs": [],
   "source": [
    "STORM_NUMBER = 7\n",
    "TITLE = \"1-2 February 2022\"\n",
    "SUBTITLE = \"8 AM 3 February 2022\"\n",
    "sts = utc(2022, 2, 2, 6)\n",
    "ets = utc(2022, 2, 4, 20, 0)\n",
    "# Get available data\n",
    "ctx = {'coop': 'yes', 'csector': 'IA', 't': 'state', 'sz': 60, 'z': 'yes', 'f': 'linear', 'v': 'snow', 'wfo': 'DMX'}\n",
    "df = load_data(ctx, sts, ets)\n",
    "# figure out our grid bounds\n",
    "ctx[\"bnds2163\"] = compute_grid_bounds(ctx)\n",
    "# add zeros and QC\n",
    "df = add_zeros(df, ctx)"
   ]
  },
  {
   "cell_type": "code",
   "execution_count": 5,
   "metadata": {},
   "outputs": [],
   "source": [
    "def workflow(ctx, df, isfinal=False, lower=0, upper=2):\n",
    "    # do gridding\n",
    "    df2 = df[df[USEME]]\n",
    "    lons, lats, vals = do_analysis(df2, ctx)\n",
    "    mp = MapPlot(\n",
    "        sector=\"state\",\n",
    "        state=ctx[\"csector\"],\n",
    "        axisbg=\"white\",\n",
    "        title=\"%s - IEM Snowfall Total Analysis\" % (TITLE, ),\n",
    "        subtitle=(\"Snowfall totals till %s from NWS COOP, LSR, CoCoRaHS Reports; \"\n",
    "                  \"IEM 2021-2022 Winter Storm #%s\") % (SUBTITLE, STORM_NUMBER),\n",
    "        twitter=True,\n",
    "    )\n",
    "    mp.contourf(\n",
    "        lons, lats, vals, np.array([0.1, 1, 2, 3, 4, 6, 8, 12, 18, 24, 30, 36]), cmap=nwssnow(), clip_on=True)\n",
    "    df_useme_plot = df2[(df2['val']>=lower)&(df2['val'] < upper)]\n",
    "    print(df2)\n",
    "    mp.drawcounties()\n",
    "    if isfinal:\n",
    "        mp.drawcities()\n",
    "    else:\n",
    "        mp.plot_values(df_useme_plot['lon'], df_useme_plot['lat'], df_useme_plot['val'].values,\n",
    "            '%s', labels=df_useme_plot['nwsli'].values,\n",
    "            textsize=10, labeltextsize=10, labelbuffer=1)\n",
    "    return mp"
   ]
  },
  {
   "cell_type": "code",
   "execution_count": 16,
   "metadata": {},
   "outputs": [
    {
     "name": "stdout",
     "output_type": "stream",
     "text": [
      "     state  wfo   val       lon      lat                              geo  \\\n",
      "0       CO  PUB  22.0 -104.8400  38.7400  POINT (-420114.074 -683522.480)   \n",
      "1       CO  PUB  22.0 -104.8800  38.7400  POINT (-423581.194 -683319.830)   \n",
      "2       CO  PUB  22.0 -104.8400  38.7500  POINT (-420053.206 -682413.408)   \n",
      "3       NM  ABQ  21.0 -106.2500  36.7000  POINT (-558038.711 -901349.509)   \n",
      "4       NM  ABQ  21.0 -105.3700  36.5300  POINT (-480721.184 -925612.543)   \n",
      "...    ...  ...   ...       ...      ...                              ...   \n",
      "4810    TX  LUB   0.0 -100.3369  33.6266  POINT (-31347.067 -1262526.539)   \n",
      "4814    TX  LUB   0.0 -100.0859  34.3906   POINT (-7915.974 -1178022.229)   \n",
      "4817    TX  LUB   0.0 -100.5378  34.7259  POINT (-49347.120 -1140740.878)   \n",
      "4823    TX  LUB   0.0 -100.3878  33.8769  POINT (-35970.134 -1234808.482)   \n",
      "4824    TX  LUB   0.0 -100.2980  33.8084  POINT (-27664.624 -1242422.761)   \n",
      "\n",
      "      used_for_analysis  nwsli  plotme source  xcell  ycell  \n",
      "0                  True      0    True    LSR    -10     -2  \n",
      "1                  True      1    True    LSR    -10     -2  \n",
      "2                  True      2    True    LSR    -10     -2  \n",
      "3                  True      3    True    LSR    -12     -6  \n",
      "4                  True      4    True    LSR    -11     -6  \n",
      "...                 ...    ...     ...    ...    ...    ...  \n",
      "4810               True  GHRT2    True   COOP     -3    -12  \n",
      "4814               True  KRKT2    True   COOP     -3    -10  \n",
      "4817               True  MEMT2    True   COOP     -4    -10  \n",
      "4823               True  PDHT2    True   COOP     -3    -11  \n",
      "4824               True  PDUT2    True   COOP     -3    -11  \n",
      "\n",
      "[2213 rows x 12 columns]\n"
     ]
    }
   ],
   "source": [
    "cull = ['3OI']\n",
    "if cull:\n",
    "    df.loc[df['nwsli'].isin(cull), USEME] = False\n",
    "# df.loc[df[df[\"val\"] < 1].index, USEME] = False\n",
    "hardcode = [\n",
    "    ['IA-AP-8', 0.2],\n",
    "    ['MTAI4', 0],\n",
    "]\n",
    "for nwsli, val in hardcode:\n",
    "    df.loc[df['nwsli'] == nwsli, 'val'] = val\n",
    "\n",
    "ctx['csector'] = \"IA\"\n",
    "mp = workflow(ctx, df, isfinal=True, lower=0, upper=6)\n",
    "res = mp.postprocess(filename='220203.png')\n",
    "mp.close()"
   ]
  },
  {
   "cell_type": "code",
   "execution_count": null,
   "metadata": {},
   "outputs": [],
   "source": []
  },
  {
   "cell_type": "code",
   "execution_count": null,
   "metadata": {},
   "outputs": [],
   "source": []
  }
 ],
 "metadata": {
  "kernelspec": {
   "display_name": "Python 3 (ipykernel)",
   "language": "python",
   "name": "python3"
  },
  "language_info": {
   "codemirror_mode": {
    "name": "ipython",
    "version": 3
   },
   "file_extension": ".py",
   "mimetype": "text/x-python",
   "name": "python",
   "nbconvert_exporter": "python",
   "pygments_lexer": "ipython3",
   "version": "3.10.2"
  }
 },
 "nbformat": 4,
 "nbformat_minor": 1
}

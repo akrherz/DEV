{
 "cells": [
  {
   "cell_type": "code",
   "execution_count": 1,
   "metadata": {},
   "outputs": [],
   "source": [
    "# Use autoplot 207's code for this app\n",
    "import sys\n",
    "sys.path.insert(0, \"/opt/iem/htdocs/plotting/auto/scripts200/\")\n",
    "from p207 import load_data, compute_grid_bounds, add_zeros, do_analysis, USEME\n",
    "from pyiem.plot import MapPlot, nwssnow\n",
    "from pyiem.util import get_dbconn, utc\n",
    "import numpy as np"
   ]
  },
  {
   "cell_type": "code",
   "execution_count": 2,
   "metadata": {},
   "outputs": [],
   "source": [
    "STORM_NUMBER = 9\n",
    "TITLE = \"29-30 December 2020\"\n",
    "SUBTITLE = \"8 AM 30 December 2020\"\n",
    "sts = utc(2020, 12, 29, 20)\n",
    "ets = utc(2020, 12, 30, 23, 0)\n",
    "# Get available data\n",
    "ctx = {'coop': 'yes', 'csector': 'IA', 't': 'state', 'sz': 20, 'z': 'no', 'f': 'linear'}\n",
    "df = load_data(ctx, sts, ets)\n",
    "# figure out our grid bounds\n",
    "ctx[\"bnds2163\"] = compute_grid_bounds(ctx)\n",
    "# add zeros and QC\n",
    "df = add_zeros(df, ctx)"
   ]
  },
  {
   "cell_type": "code",
   "execution_count": 3,
   "metadata": {},
   "outputs": [],
   "source": [
    "def workflow(ctx, df, isfinal=False, lower=0, upper=2):\n",
    "    # do gridding\n",
    "    df2 = df[df[USEME]]\n",
    "    lons, lats, vals = do_analysis(df2, ctx)\n",
    "    mp = MapPlot(\n",
    "        sector=\"state\",\n",
    "        state=ctx[\"csector\"],\n",
    "        axisbg=\"white\",\n",
    "        title=\"%s - IEM Snowfall Total Analysis\" % (TITLE, ),\n",
    "        subtitle=(\"Snowfall totals till %s from NWS COOP, LSR, CoCoRaHS Reports; \"\n",
    "                  \"IEM 2020-2021 Winter Storm #%s\") % (SUBTITLE, STORM_NUMBER),\n",
    "        twitter=True,\n",
    "    )\n",
    "    mp.contourf(\n",
    "        lons, lats, vals, np.array([0.1, 1, 2, 3, 4, 6, 8, 12, 18, 24, 30, 36]), cmap=nwssnow(), clip_on=True)\n",
    "    df_useme_plot = df2[(df2['val']>=lower)&(df2['val'] < upper)]\n",
    "    print(df_useme_plot)\n",
    "    mp.drawcounties()\n",
    "    if isfinal:\n",
    "        mp.drawcities()\n",
    "    else:\n",
    "        mp.plot_values(df_useme_plot['lon'], df_useme_plot['lat'], df_useme_plot['val'],\n",
    "            '%s', labels=df_useme_plot['nwsli'].values,\n",
    "            textsize=10, labeltextsize=10, labelbuffer=1)\n",
    "    return mp"
   ]
  },
  {
   "cell_type": "code",
   "execution_count": 23,
   "metadata": {},
   "outputs": [
    {
     "name": "stdout",
     "output_type": "stream",
     "text": [
      "     state  wfo     val      lon      lat                             geo  \\\n",
      "1079    WI  ARX  0.8000 -91.2600  43.8700   POINT (698970.665 -88064.625)   \n",
      "1686    MO  LSX  0.8000 -91.8872  39.9714  POINT (690634.382 -525103.964)   \n",
      "1711    MO  LSX  0.5000 -91.5200  40.1400  POINT (719929.037 -503305.640)   \n",
      "1716    IL  LSX  0.5000 -91.6000  39.9058  POINT (715685.978 -529926.375)   \n",
      "1732    IL  ILX  0.4000 -90.4639  40.5914  POINT (803584.004 -443610.148)   \n",
      "1765    IA  DVN  0.2000 -91.3667  40.4000  POINT (730000.687 -473178.864)   \n",
      "1780    MN  MPX  0.2000 -93.7364  43.7462  POINT (502555.941 -120076.303)   \n",
      "1872    IL  ILX  0.0001 -90.2289  39.7136  POINT (834276.358 -538352.857)   \n",
      "\n",
      "      used_for_analysis  nwsli  plotme source  \n",
      "1079               True   1079    True    LSR  \n",
      "1686               True  SFFM7    True   COOP  \n",
      "1711               True  CANM7    True   COOP  \n",
      "1716               True  QLDI2    True   COOP  \n",
      "1732               True  PRCI2    True   COOP  \n",
      "1765               True  EOKI4    True   COOP  \n",
      "1780               True  WELM5    True   COOP  \n",
      "1872               True  JCKI2    True   COOP  \n"
     ]
    }
   ],
   "source": [
    "cull = ['IA-DL-33', 144, 475, 'WMTI4', 203, 'RKWI4', 'ALXI4', 635, 695, 648, 1059, 1018, 1009, 977, '3OI']\n",
    "if cull:\n",
    "    df.loc[df['nwsli'].isin(cull), USEME] = False\n",
    "# df.loc[df[df[\"state\"] == \"MN\"].index, USEME] = False\n",
    "hardcode = [\n",
    "    ['AMOI4', 8],\n",
    "    ['IA-PA-5', 1]\n",
    "]\n",
    "for nwsli, val in hardcode:\n",
    "    df.loc[df['nwsli'] == nwsli, 'val'] = val\n",
    "\n",
    "ctx['csector'] = \"IA\"\n",
    "mp = workflow(ctx, df, isfinal=True, lower=0, upper=1)\n",
    "res = mp.postprocess(filename='201230.png')\n",
    "mp.close()"
   ]
  },
  {
   "cell_type": "code",
   "execution_count": null,
   "metadata": {},
   "outputs": [],
   "source": []
  },
  {
   "cell_type": "code",
   "execution_count": null,
   "metadata": {},
   "outputs": [],
   "source": []
  }
 ],
 "metadata": {
  "kernelspec": {
   "display_name": "Python 3",
   "language": "python",
   "name": "python3"
  },
  "language_info": {
   "codemirror_mode": {
    "name": "ipython",
    "version": 3
   },
   "file_extension": ".py",
   "mimetype": "text/x-python",
   "name": "python",
   "nbconvert_exporter": "python",
   "pygments_lexer": "ipython3",
   "version": "3.8.6"
  }
 },
 "nbformat": 4,
 "nbformat_minor": 1
}

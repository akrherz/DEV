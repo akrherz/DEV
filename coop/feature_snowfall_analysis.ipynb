{
 "cells": [
  {
   "cell_type": "code",
   "execution_count": 1,
   "metadata": {},
   "outputs": [],
   "source": [
    "# Use autoplot 207's code for this app\n",
    "import sys\n",
    "sys.path.insert(0, \"/opt/iem/htdocs/plotting/auto/scripts200/\")\n",
    "from p207 import load_data, compute_grid_bounds, add_zeros, do_analysis, USEME\n",
    "from pyiem.plot import MapPlot, nwssnow\n",
    "from pyiem.util import get_dbconn, utc\n",
    "import numpy as np"
   ]
  },
  {
   "cell_type": "code",
   "execution_count": 5,
   "metadata": {},
   "outputs": [],
   "source": [
    "STORM_NUMBER = 12\n",
    "TITLE = \"16-17 January 2021\"\n",
    "SUBTITLE = \"8 AM 18 January 2021\"\n",
    "sts = utc(2021, 1, 17, 10)\n",
    "ets = utc(2021, 12, 30, 23, 0)\n",
    "# Get available data\n",
    "ctx = {'coop': 'yes', 'csector': 'IA', 't': 'state', 'sz': 40, 'z': 'yes', 'f': 'linear', 'v': 'snow'}\n",
    "df = load_data(ctx, sts, ets)\n",
    "# figure out our grid bounds\n",
    "ctx[\"bnds2163\"] = compute_grid_bounds(ctx)\n",
    "# add zeros and QC\n",
    "df = add_zeros(df, ctx)"
   ]
  },
  {
   "cell_type": "code",
   "execution_count": 6,
   "metadata": {},
   "outputs": [],
   "source": [
    "def workflow(ctx, df, isfinal=False, lower=0, upper=2):\n",
    "    # do gridding\n",
    "    df2 = df[df[USEME]]\n",
    "    lons, lats, vals = do_analysis(df2, ctx)\n",
    "    mp = MapPlot(\n",
    "        sector=\"state\",\n",
    "        state=ctx[\"csector\"],\n",
    "        axisbg=\"white\",\n",
    "        title=\"%s - IEM Snowfall Total Analysis\" % (TITLE, ),\n",
    "        subtitle=(\"Snowfall totals till %s from NWS COOP, LSR, CoCoRaHS Reports; \"\n",
    "                  \"IEM 2020-2021 Winter Storm #%s\") % (SUBTITLE, STORM_NUMBER),\n",
    "        twitter=True,\n",
    "    )\n",
    "    mp.contourf(\n",
    "        lons, lats, vals, np.array([0.1, 1, 2, 3, 4, 6, 8, 12, 18, 24, 30, 36]), cmap=nwssnow(), clip_on=True)\n",
    "    df_useme_plot = df2[(df2['val']>=lower)&(df2['val'] < upper)]\n",
    "    print(df_useme_plot)\n",
    "    mp.drawcounties()\n",
    "    if isfinal:\n",
    "        mp.drawcities()\n",
    "    else:\n",
    "        mp.plot_values(df_useme_plot['lon'], df_useme_plot['lat'], df_useme_plot['val'],\n",
    "            '%s', labels=df_useme_plot['nwsli'].values,\n",
    "            textsize=10, labeltextsize=10, labelbuffer=1)\n",
    "    return mp"
   ]
  },
  {
   "cell_type": "code",
   "execution_count": 15,
   "metadata": {},
   "outputs": [
    {
     "name": "stdout",
     "output_type": "stream",
     "text": [
      "    state  wfo  val         lon        lat                               geo  \\\n",
      "146    NH  GYX  3.9  -71.250000  44.260000    POINT (2229769.547 320491.966)   \n",
      "147    WV  PBZ  3.9  -79.430000  39.100000   POINT (1754911.568 -436411.614)   \n",
      "148    PA  PBZ  3.8  -79.800000  40.770000   POINT (1681116.601 -262428.805)   \n",
      "149    MT  MSO  3.7 -114.200000  48.360000   POINT (-1042632.923 466740.043)   \n",
      "150    OH  CLE  3.5  -81.320000  41.430000   POINT (1541461.766 -220432.561)   \n",
      "..    ...  ...  ...         ...        ...                               ...   \n",
      "449    PA  CTP  2.0  -78.600000  41.566700   POINT (1756132.468 -150604.995)   \n",
      "450    AK  AJK  2.0 -130.020679  55.912184  POINT (-1819166.543 1573054.661)   \n",
      "451    NY  BGM  2.0  -75.519700  42.511700     POINT (1969740.443 22194.395)   \n",
      "452    WA  SEW  2.0 -121.742200  46.786100   POINT (-1630257.464 421714.888)   \n",
      "453    KY  RLX  2.0  -83.018100  38.494400   POINT (1467630.198 -572488.406)   \n",
      "\n",
      "     used_for_analysis  nwsli  plotme source  \n",
      "146               True    146    True    LSR  \n",
      "147               True    147    True    LSR  \n",
      "148               True    148    True    LSR  \n",
      "149               True    149    True    LSR  \n",
      "150               True    150    True    LSR  \n",
      "..                 ...    ...     ...    ...  \n",
      "449               True  WLXP1    True   COOP  \n",
      "450               True  HYDA2    True   COOP  \n",
      "451               True  NRWN6    True   COOP  \n",
      "452               True  ASFW1    True   COOP  \n",
      "453               True  WRNK2    True   COOP  \n",
      "\n",
      "[133 rows x 10 columns]\n"
     ]
    }
   ],
   "source": [
    "cull = ['IA-WB-17', 'IA-DV-2', 'LYNW3', 'SBNW3']\n",
    "if cull:\n",
    "    df.loc[df['nwsli'].isin(cull), USEME] = False\n",
    "# df.loc[df[df[\"state\"] == \"MN\"].index, USEME] = False\n",
    "hardcode = [\n",
    "]\n",
    "for nwsli, val in hardcode:\n",
    "    df.loc[df['nwsli'] == nwsli, 'val'] = val\n",
    "\n",
    "ctx['csector'] = \"IA\"\n",
    "mp = workflow(ctx, df, isfinal=True, lower=2, upper=4)\n",
    "res = mp.postprocess(filename='210118.png')\n",
    "mp.close()"
   ]
  },
  {
   "cell_type": "code",
   "execution_count": null,
   "metadata": {},
   "outputs": [],
   "source": []
  },
  {
   "cell_type": "code",
   "execution_count": null,
   "metadata": {},
   "outputs": [],
   "source": []
  }
 ],
 "metadata": {
  "kernelspec": {
   "display_name": "Python 3",
   "language": "python",
   "name": "python3"
  },
  "language_info": {
   "codemirror_mode": {
    "name": "ipython",
    "version": 3
   },
   "file_extension": ".py",
   "mimetype": "text/x-python",
   "name": "python",
   "nbconvert_exporter": "python",
   "pygments_lexer": "ipython3",
   "version": "3.8.6"
  }
 },
 "nbformat": 4,
 "nbformat_minor": 1
}

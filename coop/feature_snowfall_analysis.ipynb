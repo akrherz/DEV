{
 "cells": [
  {
   "cell_type": "code",
   "execution_count": 1,
   "metadata": {},
   "outputs": [],
   "source": [
    "# Use autoplot 207's code for this app\n",
    "import sys\n",
    "sys.path.insert(0, \"/opt/iem/htdocs/plotting/auto/scripts200/\")\n",
    "from p207 import load_data, compute_grid_bounds, add_zeros, do_analysis, USEME\n",
    "from pyiem.plot import MapPlot, nwssnow\n",
    "from pyiem.util import get_dbconn, utc\n",
    "import numpy as np"
   ]
  },
  {
   "cell_type": "code",
   "execution_count": 2,
   "metadata": {},
   "outputs": [],
   "source": [
    "STORM_NUMBER = 4\n",
    "TITLE = \"10 November 2020\"\n",
    "SUBTITLE = \"8 AM 11 November 2020\"\n",
    "sts = utc(2020, 11, 10, 18)\n",
    "ets = utc(2020, 11, 26, 23, 0)\n",
    "# Get available data\n",
    "ctx = {'coop': 'yes', 'csector': 'IA', 't': 'state', 'sz': 25, 'z': 'yes', 'f': 'linear'}\n",
    "df = load_data(ctx, sts, ets)\n",
    "# figure out our grid bounds\n",
    "ctx[\"bnds2163\"] = compute_grid_bounds(ctx)\n",
    "# add zeros and QC\n",
    "df = add_zeros(df, ctx)"
   ]
  },
  {
   "cell_type": "code",
   "execution_count": 3,
   "metadata": {},
   "outputs": [],
   "source": [
    "def workflow(ctx, df, isfinal=False, lower=0, upper=2):\n",
    "    # do gridding\n",
    "    df2 = df[df[USEME]]\n",
    "    lons, lats, vals = do_analysis(df2, ctx)\n",
    "    mp = MapPlot(\n",
    "        sector=\"state\",\n",
    "        state=ctx[\"csector\"],\n",
    "        axisbg=\"white\",\n",
    "        title=\"%s - IEM Snowfall Total Analysis\" % (TITLE, ),\n",
    "        subtitle=(\"Snowfall totals till %s, \"\n",
    "                  \"IEM 2020-2021 Winter Storm #%s\") % (SUBTITLE, STORM_NUMBER),\n",
    "    )\n",
    "    mp.contourf(\n",
    "        lons, lats, vals, np.array([0.1, 1, 2, 3, 4, 6, 8, 12, 18, 24, 30, 36]), cmap=nwssnow(), clip_on=True)\n",
    "    df_useme_plot = df2[(df2['val']>=lower)&(df2['val'] < upper)]\n",
    "    print(df_useme_plot)\n",
    "    mp.drawcounties()\n",
    "    if isfinal:\n",
    "        mp.drawcities()\n",
    "    else:\n",
    "        mp.plot_values(df_useme_plot['lon'], df_useme_plot['lat'], df_useme_plot['val'],\n",
    "            '%s', labels=df_useme_plot['nwsli'].values,\n",
    "            textsize=10, labeltextsize=10, labelbuffer=0)\n",
    "    return mp"
   ]
  },
  {
   "cell_type": "code",
   "execution_count": 8,
   "metadata": {},
   "outputs": [
    {
     "name": "stdout",
     "output_type": "stream",
     "text": [
      "    state  wfo  val      lon      lat                             geo  \\\n",
      "92     NE  FSD  5.6 -96.7500  42.5900  POINT (266027.797 -262679.490)   \n",
      "97     SD  FSD  5.5 -96.7300  43.5900  POINT (263289.773 -151499.387)   \n",
      "98     SD  FSD  5.5 -96.6900  43.4400  POINT (267176.206 -168037.237)   \n",
      "103    SD  FSD  5.4 -96.9300  43.9200  POINT (245828.848 -115452.554)   \n",
      "104    SD  FSD  5.3 -96.9200  42.7600  POINT (251424.451 -244327.742)   \n",
      "106    SD  FSD  5.0 -96.8100  43.5100  POINT (257196.078 -160644.554)   \n",
      "108    IA  FSD  5.0 -96.5600  42.8300  POINT (280470.481 -235379.491)   \n",
      "119    SD  FSD  5.0 -96.9600  44.0000  POINT (243098.863 -106652.045)   \n",
      "121    SD  FSD  5.0 -96.7800  43.6900  POINT (258832.639 -140547.276)   \n",
      "122    SD  FSD  5.0 -96.7600  43.6900  POINT (260439.241 -140483.545)   \n",
      "132    SD  FSD  4.6 -96.9400  42.7900  POINT (249670.505 -241055.457)   \n",
      "135    IA  FSD  4.5 -95.8400  43.1800  POINT (337170.812 -193775.968)   \n",
      "136    SD  FSD  4.5 -96.7000  43.5000  POINT (266103.363 -161402.811)   \n",
      "139    MN  FSD  4.5 -96.1300  43.8700  POINT (310096.121 -118276.638)   \n",
      "145    IA  FSD  4.0 -96.0600  43.0000  POINT (320305.987 -214655.969)   \n",
      "151    IA  FSD  4.0 -96.4000  42.9900  POINT (292736.787 -217042.185)   \n",
      "159    IA  FSD  4.0 -96.1800  43.1100  POINT (309997.685 -202899.120)   \n",
      "162    IA  FSD  4.0 -96.0500  43.0000  POINT (321118.158 -214616.722)   \n",
      "167    SD  FSD  4.0 -96.7100  43.8200  POINT (263878.405 -125876.625)   \n",
      "177    IA  FSD  3.4 -95.1900  43.4200  POINT (388234.599 -164231.911)   \n",
      "178    MN  FSD  3.3 -95.1200  43.8700  POINT (390917.169 -113927.502)   \n",
      "185    MN  FSD  3.0 -95.5700  43.6500  POINT (356231.489 -140424.188)   \n",
      "246    SD  ABR  5.4 -96.9300  43.9300  POINT (245787.318 -114341.234)   \n",
      "248    SD  FSD  5.3 -96.9194  42.7625  POINT (251463.145 -244048.105)   \n",
      "254    IA  FSD  4.5 -95.8528  43.1808  POINT (336130.033 -193739.882)   \n",
      "259    IA  FSD  4.0 -96.0539  43.0008  POINT (320797.195 -214543.173)   \n",
      "263    IA  FSD  3.4 -95.1822  43.4314  POINT (388789.467 -162928.852)   \n",
      "264    MN  FSD  3.3 -95.1000  43.8736  POINT (392493.037 -113431.497)   \n",
      "268    IA  DMX  3.0 -94.2500  43.3853  POINT (464229.843 -163171.271)   \n",
      "270    MN  FSD  3.0 -95.5792  43.6544  POINT (355466.377 -139975.671)   \n",
      "\n",
      "     used_for_analysis  nwsli  plotme source  \n",
      "92                True     92    True    LSR  \n",
      "97                True     97    True    LSR  \n",
      "98                True     98    True    LSR  \n",
      "103               True    103    True    LSR  \n",
      "104               True    104    True    LSR  \n",
      "106               True    106    True    LSR  \n",
      "108               True    108    True    LSR  \n",
      "119               True    119    True    LSR  \n",
      "121               True    121    True    LSR  \n",
      "122               True    122    True    LSR  \n",
      "132               True    132    True    LSR  \n",
      "135               True    135    True    LSR  \n",
      "136               True    136    True    LSR  \n",
      "139               True    139    True    LSR  \n",
      "145               True    145    True    LSR  \n",
      "151               True    151    True    LSR  \n",
      "159               True    159    True    LSR  \n",
      "162               True    162    True    LSR  \n",
      "167               True    167    True    LSR  \n",
      "177               True    177    True    LSR  \n",
      "178               True    178    True    LSR  \n",
      "185               True    185    True    LSR  \n",
      "246               True  CHES2    True   COOP  \n",
      "248               True  VRMS2    True   COOP  \n",
      "254               True  SHDI4    True   COOP  \n",
      "259               True  ORCI4    True   COOP  \n",
      "263               True  VICI4    True   COOP  \n",
      "264               True  WDOM5    True   COOP  \n",
      "268               True  SWEI4    True   COOP  \n",
      "270               True  WRNM5    True   COOP  \n"
     ]
    }
   ],
   "source": [
    "cull = []\n",
    "if cull:\n",
    "    df.loc[df['nwsli'].isin(cull), USEME] = False\n",
    "# df.loc[df[df[\"state\"] == \"MN\"].index, USEME] = False\n",
    "hardcode = [\n",
    "]\n",
    "for nwsli, val in hardcode:\n",
    "    df.loc[df['nwsli'] == nwsli, 'val'] = val\n",
    "\n",
    "ctx['csector'] = \"IA\"\n",
    "mp = workflow(ctx, df, isfinal=True, lower=2, upper=6.)\n",
    "res = mp.postprocess(filename='201111.png')\n",
    "mp.close()"
   ]
  },
  {
   "cell_type": "code",
   "execution_count": null,
   "metadata": {},
   "outputs": [],
   "source": []
  },
  {
   "cell_type": "code",
   "execution_count": null,
   "metadata": {},
   "outputs": [],
   "source": []
  }
 ],
 "metadata": {
  "kernelspec": {
   "display_name": "Python 3",
   "language": "python",
   "name": "python3"
  },
  "language_info": {
   "codemirror_mode": {
    "name": "ipython",
    "version": 3
   },
   "file_extension": ".py",
   "mimetype": "text/x-python",
   "name": "python",
   "nbconvert_exporter": "python",
   "pygments_lexer": "ipython3",
   "version": "3.8.6"
  }
 },
 "nbformat": 4,
 "nbformat_minor": 1
}

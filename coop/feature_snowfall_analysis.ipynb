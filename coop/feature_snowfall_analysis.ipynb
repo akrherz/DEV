{
 "cells": [
  {
   "cell_type": "code",
   "execution_count": 1,
   "metadata": {},
   "outputs": [],
   "source": [
    "# Use autoplot 207's code for this app\n",
    "import sys\n",
    "sys.path.insert(0, \"/opt/iem/htdocs/plotting/auto/scripts200/\")\n",
    "from p207 import load_data, compute_grid_bounds, add_zeros, do_analysis, USEME\n",
    "from pyiem.plot import MapPlot, nwssnow\n",
    "from pyiem.util import get_dbconn, utc\n",
    "import numpy as np"
   ]
  },
  {
   "cell_type": "code",
   "execution_count": 13,
   "metadata": {},
   "outputs": [],
   "source": [
    "STORM_NUMBER = 6\n",
    "TITLE = \"11-12 December 2020\"\n",
    "SUBTITLE = \"8 AM 13 December 2020\"\n",
    "sts = utc(2020, 12, 12, 6)\n",
    "ets = utc(2020, 12, 26, 23, 0)\n",
    "# Get available data\n",
    "ctx = {'coop': 'yes', 'csector': 'IA', 't': 'state', 'sz': 30, 'z': 'yes', 'f': 'linear'}\n",
    "df = load_data(ctx, sts, ets)\n",
    "# figure out our grid bounds\n",
    "ctx[\"bnds2163\"] = compute_grid_bounds(ctx)\n",
    "# add zeros and QC\n",
    "df = add_zeros(df, ctx)"
   ]
  },
  {
   "cell_type": "code",
   "execution_count": 6,
   "metadata": {},
   "outputs": [],
   "source": [
    "def workflow(ctx, df, isfinal=False, lower=0, upper=2):\n",
    "    # do gridding\n",
    "    df2 = df[df[USEME]]\n",
    "    lons, lats, vals = do_analysis(df2, ctx)\n",
    "    mp = MapPlot(\n",
    "        sector=\"state\",\n",
    "        state=ctx[\"csector\"],\n",
    "        axisbg=\"white\",\n",
    "        title=\"%s - IEM Snowfall Total Analysis\" % (TITLE, ),\n",
    "        subtitle=(\"Snowfall totals till %s, \"\n",
    "                  \"IEM 2020-2021 Winter Storm #%s\") % (SUBTITLE, STORM_NUMBER),\n",
    "    )\n",
    "    mp.contourf(\n",
    "        lons, lats, vals, np.array([0.1, 1, 2, 3, 4, 6, 8, 12, 18, 24, 30, 36]), cmap=nwssnow(), clip_on=True)\n",
    "    df_useme_plot = df2[(df2['val']>=lower)&(df2['val'] < upper)]\n",
    "    print(df_useme_plot)\n",
    "    mp.drawcounties()\n",
    "    if isfinal:\n",
    "        mp.drawcities()\n",
    "    else:\n",
    "        mp.plot_values(df_useme_plot['lon'], df_useme_plot['lat'], df_useme_plot['val'],\n",
    "            '%s', labels=df_useme_plot['nwsli'].values,\n",
    "            textsize=10, labeltextsize=10, labelbuffer=0)\n",
    "    return mp"
   ]
  },
  {
   "cell_type": "code",
   "execution_count": 25,
   "metadata": {},
   "outputs": [
    {
     "name": "stdout",
     "output_type": "stream",
     "text": [
      "     state  wfo     val      lon      lat                             geo  \\\n",
      "299     NE  OAX  3.9000 -96.2400  41.2900  POINT (314175.324 -405286.993)   \n",
      "301     NE  OAX  3.9000 -96.6300  40.7700  POINT (283890.014 -464451.320)   \n",
      "303     IA  DVN  3.8000 -91.4100  41.9300  POINT (709248.404 -304167.420)   \n",
      "304     IL  DVN  3.8000 -90.4600  41.4300  POINT (793521.450 -350810.336)   \n",
      "305     NE  OAX  3.8000 -96.6900  40.7500  POINT (278924.717 -466877.017)   \n",
      "...    ...  ...     ...      ...      ...                             ...   \n",
      "1447    IA  DMX  0.0001 -93.2000  42.7500  POINT (554550.774 -227104.626)   \n",
      "1448    MO  DVN  0.0001 -92.1667  40.4608  POINT (662006.546 -473190.125)   \n",
      "1463    NE  FSD  0.0001 -96.9600  42.3800  POINT (249695.415 -286673.667)   \n",
      "1516    IA  FSD  0.0001 -95.6110  42.5463  POINT (359418.267 -263183.403)   \n",
      "1544    IL  ILX  0.0001 -90.3853  40.9464  POINT (805752.989 -403577.078)   \n",
      "\n",
      "      used_for_analysis  nwsli  plotme source  \n",
      "299                True    299    True    LSR  \n",
      "301                True    301    True    LSR  \n",
      "303                True    303    True    LSR  \n",
      "304                True    304    True    LSR  \n",
      "305                True    305    True    LSR  \n",
      "...                 ...    ...     ...    ...  \n",
      "1447               True  HPTI4    True   COOP  \n",
      "1448               True  MMPM7    True   COOP  \n",
      "1463               True  NESN1    True   COOP  \n",
      "1516               True  HLSI4    True   COOP  \n",
      "1544               True  GBGI2    True   COOP  \n",
      "\n",
      "[258 rows x 10 columns]\n"
     ]
    }
   ],
   "source": [
    "cull = [358, 'CINI4', 102, 183, 'LSXI4', 174, 200, 'MTAI4', 'VNTI4', 618, 734, 718, 632, 551, 468, 'AESI4', 344, 215]\n",
    "if cull:\n",
    "    df.loc[df['nwsli'].isin(cull), USEME] = False\n",
    "# df.loc[df[df[\"state\"] == \"MN\"].index, USEME] = False\n",
    "hardcode = [\n",
    "]\n",
    "for nwsli, val in hardcode:\n",
    "    df.loc[df['nwsli'] == nwsli, 'val'] = val\n",
    "\n",
    "ctx['csector'] = \"IA\"\n",
    "mp = workflow(ctx, df, isfinal=True, lower=0, upper=4)\n",
    "res = mp.postprocess(filename='201213.png')\n",
    "mp.close()"
   ]
  },
  {
   "cell_type": "code",
   "execution_count": null,
   "metadata": {},
   "outputs": [],
   "source": []
  },
  {
   "cell_type": "code",
   "execution_count": null,
   "metadata": {},
   "outputs": [],
   "source": []
  }
 ],
 "metadata": {
  "kernelspec": {
   "display_name": "Python 3",
   "language": "python",
   "name": "python3"
  },
  "language_info": {
   "codemirror_mode": {
    "name": "ipython",
    "version": 3
   },
   "file_extension": ".py",
   "mimetype": "text/x-python",
   "name": "python",
   "nbconvert_exporter": "python",
   "pygments_lexer": "ipython3",
   "version": "3.8.6"
  }
 },
 "nbformat": 4,
 "nbformat_minor": 1
}

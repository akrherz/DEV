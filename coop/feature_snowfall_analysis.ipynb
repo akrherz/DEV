{
 "cells": [
  {
   "cell_type": "code",
   "execution_count": 1,
   "metadata": {},
   "outputs": [],
   "source": [
    "# Use autoplot 207's code for this app\n",
    "import sys\n",
    "sys.path.insert(0, \"/opt/iem/htdocs/plotting/auto/scripts200/\")\n",
    "from p207 import load_data, compute_grid_bounds, add_zeros, do_analysis, USEME\n",
    "from pyiem.plot import MapPlot, nwssnow\n",
    "from pyiem.util import get_dbconn, utc\n",
    "import numpy as np"
   ]
  },
  {
   "cell_type": "code",
   "execution_count": 9,
   "metadata": {},
   "outputs": [],
   "source": [
    "STORM_NUMBER = 2\n",
    "TITLE = \"19 October 2020\"\n",
    "SUBTITLE = \"4 PM 19 October 2020\"\n",
    "sts = utc(2020, 10, 19, 17)\n",
    "ets = utc(2020, 10, 19, 23, 0)\n",
    "# Get available data\n",
    "ctx = {'coop': 'no', 'csector': 'IA', 't': 'state', 'sz': 15, 'z': 'yes', 'f': 'linear'}\n",
    "df = load_data(ctx, sts, ets)\n",
    "# figure out our grid bounds\n",
    "ctx[\"bnds2163\"] = compute_grid_bounds(ctx)\n",
    "# add zeros and QC\n",
    "df = add_zeros(df, ctx)"
   ]
  },
  {
   "cell_type": "code",
   "execution_count": 10,
   "metadata": {},
   "outputs": [],
   "source": [
    "def workflow(ctx, df, isfinal=False, lower=0, upper=2):\n",
    "    # do gridding\n",
    "    df2 = df[df[USEME]]\n",
    "    lons, lats, vals = do_analysis(df2, ctx)\n",
    "    mp = MapPlot(\n",
    "        sector=\"state\",\n",
    "        state=ctx[\"csector\"],\n",
    "        axisbg=\"white\",\n",
    "        title=\"%s - IEM Snowfall Total Analysis\" % (TITLE, ),\n",
    "        subtitle=(\"Snowfall totals till %s, \"\n",
    "                  \"IEM 2019-2020 Winter Storm #%s\") % (SUBTITLE, STORM_NUMBER),\n",
    "    )\n",
    "    mp.contourf(\n",
    "        lons, lats, vals, np.array([0.1, 1, 2, 3, 4, 6, 8, 12, 18, 24, 30, 36]), cmap=nwssnow(), clip_on=True)\n",
    "    df_useme_plot = df2[(df2['val']>=lower)&(df2['val'] < upper)]\n",
    "    print(df_useme_plot)\n",
    "    mp.drawcounties()\n",
    "    if isfinal:\n",
    "        mp.drawcities()\n",
    "    else:\n",
    "        mp.plot_values(df_useme_plot['lon'], df_useme_plot['lat'], df_useme_plot['val'],\n",
    "            '%s', labels=df_useme_plot['nwsli'].values,\n",
    "            textsize=10, labeltextsize=10, labelbuffer=0)\n",
    "    return mp"
   ]
  },
  {
   "cell_type": "code",
   "execution_count": 13,
   "metadata": {},
   "outputs": [
    {
     "name": "stdout",
     "output_type": "stream",
     "text": [
      "    state  wfo  val        lon        lat                             geo  \\\n",
      "61      Z  NaN  0.0 -97.109778  40.201616  POINT (245614.744 -529110.167)   \n",
      "62      Z  NaN  0.0 -96.580703  40.186179  POINT (290614.744 -529110.167)   \n",
      "63      Z  NaN  0.0 -96.051856  40.168154  POINT (335614.744 -529110.167)   \n",
      "64      Z  NaN  0.0 -95.523271  40.147545  POINT (380614.744 -529110.167)   \n",
      "65      Z  NaN  0.0 -94.994984  40.124354  POINT (425614.744 -529110.167)   \n",
      "..    ...  ...  ...        ...        ...                             ...   \n",
      "183     Z  NaN  0.0 -91.905237  43.592862  POINT (650614.744 -124110.167)   \n",
      "184     Z  NaN  0.0 -91.348846  43.551335  POINT (695614.744 -124110.167)   \n",
      "185     Z  NaN  0.0 -90.793145  43.507064  POINT (740614.744 -124110.167)   \n",
      "186     Z  NaN  0.0 -90.238177  43.460054  POINT (785614.744 -124110.167)   \n",
      "187     Z  NaN  0.0 -89.683981  43.410311  POINT (830614.744 -124110.167)   \n",
      "\n",
      "     used_for_analysis nwsli  plotme source  \n",
      "61                True    Z1   False    NaN  \n",
      "62                True    Z2   False    NaN  \n",
      "63                True    Z3   False    NaN  \n",
      "64                True    Z4   False    NaN  \n",
      "65                True    Z5   False    NaN  \n",
      "..                 ...   ...     ...    ...  \n",
      "183               True  Z123   False    NaN  \n",
      "184               True  Z124   False    NaN  \n",
      "185               True  Z125   False    NaN  \n",
      "186               True  Z126   False    NaN  \n",
      "187               True  Z127   False    NaN  \n",
      "\n",
      "[124 rows x 10 columns]\n"
     ]
    }
   ],
   "source": [
    "cull = []\n",
    "if cull:\n",
    "    df.loc[df['nwsli'].isin(cull), USEME] = False\n",
    "hardcode = [\n",
    "    ['Z58', 3],\n",
    "    ['Z59', 2.],\n",
    "    ['Z72', 3.],\n",
    "]\n",
    "for nwsli, val in hardcode:\n",
    "    df.loc[df['nwsli'] == nwsli, 'val'] = val\n",
    "\n",
    "ctx['csector'] = \"IA\"\n",
    "mp = workflow(ctx, df, isfinal=True, lower=0, upper=0.0001)\n",
    "res = mp.postprocess(filename='201019.png')\n",
    "mp.close()"
   ]
  },
  {
   "cell_type": "code",
   "execution_count": null,
   "metadata": {},
   "outputs": [],
   "source": []
  },
  {
   "cell_type": "code",
   "execution_count": null,
   "metadata": {},
   "outputs": [],
   "source": []
  }
 ],
 "metadata": {
  "kernelspec": {
   "display_name": "Python 3",
   "language": "python",
   "name": "python3"
  },
  "language_info": {
   "codemirror_mode": {
    "name": "ipython",
    "version": 3
   },
   "file_extension": ".py",
   "mimetype": "text/x-python",
   "name": "python",
   "nbconvert_exporter": "python",
   "pygments_lexer": "ipython3",
   "version": "3.8.6"
  }
 },
 "nbformat": 4,
 "nbformat_minor": 1
}

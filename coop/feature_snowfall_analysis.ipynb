{
 "cells": [
  {
   "cell_type": "code",
   "execution_count": 1,
   "metadata": {},
   "outputs": [],
   "source": [
    "# Use autoplot 207's code for this app\n",
    "import sys\n",
    "sys.path.insert(0, \"/opt/iem/htdocs/plotting/auto/scripts200/\")\n",
    "from p207 import load_data, compute_grid_bounds, add_zeros, do_analysis, USEME\n",
    "from pyiem.plot import MapPlot, nwssnow\n",
    "from pyiem.util import get_dbconn, utc\n",
    "import numpy as np"
   ]
  },
  {
   "cell_type": "code",
   "execution_count": 22,
   "metadata": {},
   "outputs": [],
   "source": [
    "STORM_NUMBER = 14\n",
    "TITLE = \"25-26 January 2021\"\n",
    "SUBTITLE = \"8 PM 26 January 2021\"\n",
    "sts = utc(2021, 1, 26, 0)\n",
    "ets = utc(2021, 12, 30, 23, 0)\n",
    "# Get available data\n",
    "ctx = {'coop': 'yes', 'csector': 'IA', 't': 'state', 'sz': 30, 'z': 'yes', 'f': 'linear', 'v': 'snow'}\n",
    "df = load_data(ctx, sts, ets)\n",
    "# figure out our grid bounds\n",
    "ctx[\"bnds2163\"] = compute_grid_bounds(ctx)\n",
    "# add zeros and QC\n",
    "df = add_zeros(df, ctx)"
   ]
  },
  {
   "cell_type": "code",
   "execution_count": 6,
   "metadata": {},
   "outputs": [],
   "source": [
    "def workflow(ctx, df, isfinal=False, lower=0, upper=2):\n",
    "    # do gridding\n",
    "    df2 = df[df[USEME]]\n",
    "    lons, lats, vals = do_analysis(df2, ctx)\n",
    "    mp = MapPlot(\n",
    "        sector=\"state\",\n",
    "        state=ctx[\"csector\"],\n",
    "        axisbg=\"white\",\n",
    "        title=\"%s - IEM Snowfall Total Analysis\" % (TITLE, ),\n",
    "        subtitle=(\"Snowfall totals till %s from NWS COOP, LSR, CoCoRaHS Reports; \"\n",
    "                  \"IEM 2020-2021 Winter Storm #%s\") % (SUBTITLE, STORM_NUMBER),\n",
    "        twitter=True,\n",
    "    )\n",
    "    mp.contourf(\n",
    "        lons, lats, vals, np.array([0.1, 1, 2, 3, 4, 6, 8, 12, 18, 24, 30, 36]), cmap=nwssnow(), clip_on=True)\n",
    "    df_useme_plot = df2[(df2['val']>=lower)&(df2['val'] < upper)]\n",
    "    print(df_useme_plot)\n",
    "    mp.drawcounties()\n",
    "    if isfinal:\n",
    "        mp.drawcities()\n",
    "    else:\n",
    "        mp.plot_values(df_useme_plot['lon'], df_useme_plot['lat'], df_useme_plot['val'],\n",
    "            '%s', labels=df_useme_plot['nwsli'].values,\n",
    "            textsize=10, labeltextsize=10, labelbuffer=1)\n",
    "    return mp"
   ]
  },
  {
   "cell_type": "code",
   "execution_count": 23,
   "metadata": {},
   "outputs": [
    {
     "name": "stdout",
     "output_type": "stream",
     "text": [
      "     state  wfo  val       lon      lat                               geo  \\\n",
      "258     IA  DMX  5.0  -94.8800  42.2500    POINT (421199.998 -292600.224)   \n",
      "450     07  MKX  5.9  -87.9200  43.0300    POINT (977587.280 -146530.626)   \n",
      "451     IL  LOT  5.9  -87.8200  42.0800   POINT (1000947.121 -250103.106)   \n",
      "452     WI  MKX  5.9  -88.4300  42.5900    POINT (943442.466 -201085.075)   \n",
      "453     WI  MKX  5.8  -90.0700  43.1800    POINT (802794.049 -153443.681)   \n",
      "...    ...  ...  ...       ...      ...                               ...   \n",
      "1902    WI  MKX  4.0  -87.8117  43.6567     POINT (976034.361 -76111.577)   \n",
      "1903    NV  VEF  4.0 -116.0033  36.2786  POINT (-1428016.472 -832323.901)   \n",
      "1905    IA  DMX  4.0  -94.6606  42.7292    POINT (435824.046 -238257.441)   \n",
      "1906    CO  PUB  4.0 -105.1472  38.7731   POINT (-446524.115 -678252.838)   \n",
      "1907    IL  LOT  4.0  -88.1639  42.1153    POINT (972383.689 -250355.212)   \n",
      "\n",
      "      used_for_analysis  nwsli  plotme source  \n",
      "258                True    258    True    LSR  \n",
      "450                True    450    True    LSR  \n",
      "451                True    451    True    LSR  \n",
      "452                True    452    True    LSR  \n",
      "453                True    453    True    LSR  \n",
      "...                 ...    ...     ...    ...  \n",
      "1902               True  GIBW3    True   COOP  \n",
      "1903               True  PAHN2    True   COOP  \n",
      "1905               True  POCI4    True   COOP  \n",
      "1906               True  CRIC2    True   COOP  \n",
      "1907               True  BARI2    True   COOP  \n",
      "\n",
      "[339 rows x 10 columns]\n"
     ]
    }
   ],
   "source": [
    "cull = ['CLUI4', 'IA-ST-3', 'AMOI4', 'IA-LN-30', 'TLDI4', 'VNTI4', 623, 'GRWI4', 'MSHI4', 'ZRGI4', 360, 380]\n",
    "if cull:\n",
    "    df.loc[df['nwsli'].isin(cull), USEME] = False\n",
    "# df.loc[df[df[\"state\"] == \"MN\"].index, USEME] = False\n",
    "hardcode = [\n",
    "    ['IA-DV-3', 4],\n",
    "    [258, 5],\n",
    "    ['IA-SR-19', 8],\n",
    "    [305, 8],\n",
    "    [365, 8],\n",
    "    ['PEAI4', 8],\n",
    "    ['HRFI4', 8],\n",
    "    [29, 11.5],\n",
    "    ['IA-DL-33', 10],\n",
    "    ['MHRI4', 7],\n",
    "    [528, 7],\n",
    "    ['IA-JH-1', 7],\n",
    "    \n",
    "]\n",
    "for nwsli, val in hardcode:\n",
    "    df.loc[df['nwsli'] == nwsli, 'val'] = val\n",
    "\n",
    "ctx['csector'] = \"IA\"\n",
    "mp = workflow(ctx, df, isfinal=True, lower=4, upper=6)\n",
    "res = mp.postprocess(filename='210126.png')\n",
    "mp.close()"
   ]
  },
  {
   "cell_type": "code",
   "execution_count": null,
   "metadata": {},
   "outputs": [],
   "source": []
  },
  {
   "cell_type": "code",
   "execution_count": null,
   "metadata": {},
   "outputs": [],
   "source": []
  }
 ],
 "metadata": {
  "kernelspec": {
   "display_name": "Python 3",
   "language": "python",
   "name": "python3"
  },
  "language_info": {
   "codemirror_mode": {
    "name": "ipython",
    "version": 3
   },
   "file_extension": ".py",
   "mimetype": "text/x-python",
   "name": "python",
   "nbconvert_exporter": "python",
   "pygments_lexer": "ipython3",
   "version": "3.8.6"
  }
 },
 "nbformat": 4,
 "nbformat_minor": 1
}

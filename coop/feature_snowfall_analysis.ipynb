{
 "cells": [
  {
   "cell_type": "code",
   "execution_count": 1,
   "metadata": {},
   "outputs": [],
   "source": [
    "# Use autoplot 207's code for this app\n",
    "import sys\n",
    "sys.path.insert(0, \"/opt/iem/htdocs/plotting/auto/scripts200/\")\n",
    "from p207 import load_data, compute_grid_bounds, add_zeros, do_analysis, USEME\n",
    "from pyiem.plot import MapPlot, nwssnow\n",
    "from pyiem.util import get_dbconn, utc\n",
    "import numpy as np"
   ]
  },
  {
   "cell_type": "code",
   "execution_count": 10,
   "metadata": {},
   "outputs": [],
   "source": [
    "STORM_NUMBER = 11\n",
    "TITLE = \"14-15 January 2021\"\n",
    "SUBTITLE = \"8 AM 16 January 2021\"\n",
    "sts = utc(2021, 1, 15, 10)\n",
    "ets = utc(2021, 12, 30, 23, 0)\n",
    "# Get available data\n",
    "ctx = {'coop': 'yes', 'csector': 'IA', 't': 'state', 'sz': 40, 'z': 'yes', 'f': 'linear', 'v': 'snow'}\n",
    "df = load_data(ctx, sts, ets)\n",
    "# figure out our grid bounds\n",
    "ctx[\"bnds2163\"] = compute_grid_bounds(ctx)\n",
    "# add zeros and QC\n",
    "df = add_zeros(df, ctx)"
   ]
  },
  {
   "cell_type": "code",
   "execution_count": 11,
   "metadata": {},
   "outputs": [],
   "source": [
    "def workflow(ctx, df, isfinal=False, lower=0, upper=2):\n",
    "    # do gridding\n",
    "    df2 = df[df[USEME]]\n",
    "    lons, lats, vals = do_analysis(df2, ctx)\n",
    "    mp = MapPlot(\n",
    "        sector=\"state\",\n",
    "        state=ctx[\"csector\"],\n",
    "        axisbg=\"white\",\n",
    "        title=\"%s - IEM Snowfall Total Analysis\" % (TITLE, ),\n",
    "        subtitle=(\"Snowfall totals till %s from NWS COOP, LSR, CoCoRaHS Reports; \"\n",
    "                  \"IEM 2020-2021 Winter Storm #%s\") % (SUBTITLE, STORM_NUMBER),\n",
    "        twitter=True,\n",
    "    )\n",
    "    mp.contourf(\n",
    "        lons, lats, vals, np.array([0.1, 1, 2, 3, 4, 6, 8, 12, 18, 24, 30, 36]), cmap=nwssnow(), clip_on=True)\n",
    "    df_useme_plot = df2[(df2['val']>=lower)&(df2['val'] < upper)]\n",
    "    print(df_useme_plot)\n",
    "    mp.drawcounties()\n",
    "    if isfinal:\n",
    "        mp.drawcities()\n",
    "    else:\n",
    "        mp.plot_values(df_useme_plot['lon'], df_useme_plot['lat'], df_useme_plot['val'],\n",
    "            '%s', labels=df_useme_plot['nwsli'].values,\n",
    "            textsize=10, labeltextsize=10, labelbuffer=1)\n",
    "    return mp"
   ]
  },
  {
   "cell_type": "code",
   "execution_count": 25,
   "metadata": {},
   "outputs": [
    {
     "name": "stdout",
     "output_type": "stream",
     "text": [
      "     state  wfo  val         lon        lat                               geo  \\\n",
      "2       VT  ALY  9.0  -72.880000  42.870000    POINT (2159893.731 128078.312)   \n",
      "3       NY  ALY  9.0  -74.330000  42.300000     POINT (2068711.290 29128.630)   \n",
      "4       AK  AJK  9.0 -135.450000  59.240000  POINT (-1937805.026 2044889.191)   \n",
      "5       VT  ALY  8.7  -73.020000  42.820000    POINT (2151047.912 118997.703)   \n",
      "6       VT  ALY  8.5  -72.780000  42.980000    POINT (2163518.675 142498.924)   \n",
      "...    ...  ...  ...         ...        ...                               ...   \n",
      "1037    IA  DMX  6.0  -94.616700  42.400000    POINT (441754.058 -274563.300)   \n",
      "1038    IA  DMX  6.0  -94.990800  42.423900    POINT (410946.142 -273857.425)   \n",
      "1039    IA  DMX  6.0  -93.799864  41.783269    POINT (513678.738 -338241.280)   \n",
      "1040    IA  DMX  6.0  -94.965020  41.494340    POINT (419220.955 -376916.846)   \n",
      "1041    IA  DMX  6.0  -95.003100  41.418100    POINT (416553.379 -385572.801)   \n",
      "\n",
      "      used_for_analysis     nwsli  plotme source  \n",
      "2                  True         2    True    LSR  \n",
      "3                  True         3    True    LSR  \n",
      "4                  True         4    True    LSR  \n",
      "5                  True         5    True    LSR  \n",
      "6                  True         6    True    LSR  \n",
      "...                 ...       ...     ...    ...  \n",
      "1037               True     RKWI4    True   COOP  \n",
      "1038               True     SACI4    True   COOP  \n",
      "1039               True  IA-PK-36    True   COOP  \n",
      "1040               True   IA-CS-5    True   COOP  \n",
      "1041               True     ATLI4    True   COOP  \n",
      "\n",
      "[85 rows x 10 columns]\n"
     ]
    }
   ],
   "source": [
    "cull = ['JFFI4', 496, 9, 320, 322, 395, 66, 68, 'IA-SR-2', 'IA-PK-115', 'IA-PK-68', 'IA-SR-12', 53, 49, 39]\n",
    "if cull:\n",
    "    df.loc[df['nwsli'].isin(cull), USEME] = False\n",
    "# df.loc[df[df[\"state\"] == \"MN\"].index, USEME] = False\n",
    "hardcode = [\n",
    "    ['CKPI4', 4],\n",
    "    ['CINI4', 4],\n",
    "    ['IA-PA-5', 4],\n",
    "    ['MSNI4', 4],\n",
    "]\n",
    "for nwsli, val in hardcode:\n",
    "    df.loc[df['nwsli'] == nwsli, 'val'] = val\n",
    "\n",
    "ctx['csector'] = \"IA\"\n",
    "mp = workflow(ctx, df, isfinal=True, lower=6, upper=10)\n",
    "res = mp.postprocess(filename='210116.png')\n",
    "mp.close()"
   ]
  },
  {
   "cell_type": "code",
   "execution_count": null,
   "metadata": {},
   "outputs": [],
   "source": []
  },
  {
   "cell_type": "code",
   "execution_count": null,
   "metadata": {},
   "outputs": [],
   "source": []
  }
 ],
 "metadata": {
  "kernelspec": {
   "display_name": "Python 3",
   "language": "python",
   "name": "python3"
  },
  "language_info": {
   "codemirror_mode": {
    "name": "ipython",
    "version": 3
   },
   "file_extension": ".py",
   "mimetype": "text/x-python",
   "name": "python",
   "nbconvert_exporter": "python",
   "pygments_lexer": "ipython3",
   "version": "3.8.6"
  }
 },
 "nbformat": 4,
 "nbformat_minor": 1
}

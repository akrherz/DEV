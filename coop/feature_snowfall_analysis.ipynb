{
 "cells": [
  {
   "cell_type": "code",
   "execution_count": 1,
   "metadata": {},
   "outputs": [],
   "source": [
    "# Use autoplot 207's code for this app\n",
    "import sys\n",
    "sys.path.insert(0, \"/opt/iem/htdocs/plotting/auto/scripts200/\")\n",
    "from p207 import load_data, compute_grid_bounds, add_zeros, do_analysis, USEME\n",
    "from pyiem.plot import MapPlot, nwssnow\n",
    "from pyiem.util import get_dbconn, utc\n",
    "import numpy as np\n",
    "import pandas as pd"
   ]
  },
  {
   "cell_type": "code",
   "execution_count": 21,
   "metadata": {},
   "outputs": [],
   "source": [
    "STORM_NUMBER = 4\n",
    "TITLE = \"1-2 January 2022\"\n",
    "SUBTITLE = \"8 AM 2 January 2022\"\n",
    "sts = utc(2022, 1, 1, 18)\n",
    "ets = utc(2022, 1, 30, 20, 0)\n",
    "# Get available data\n",
    "ctx = {'coop': 'yes', 'csector': 'IA', 't': 'state', 'sz': 60, 'z': 'yes', 'f': 'linear', 'v': 'snow'}\n",
    "df = load_data(ctx, sts, ets)\n",
    "# figure out our grid bounds\n",
    "ctx[\"bnds2163\"] = compute_grid_bounds(ctx)\n",
    "# add zeros and QC\n",
    "df = add_zeros(df, ctx)"
   ]
  },
  {
   "cell_type": "code",
   "execution_count": 22,
   "metadata": {},
   "outputs": [],
   "source": [
    "def workflow(ctx, df, isfinal=False, lower=0, upper=2):\n",
    "    # do gridding\n",
    "    df2 = df[df[USEME]]\n",
    "    lons, lats, vals = do_analysis(df2, ctx)\n",
    "    mp = MapPlot(\n",
    "        sector=\"state\",\n",
    "        state=ctx[\"csector\"],\n",
    "        axisbg=\"white\",\n",
    "        title=\"%s - IEM Snowfall Total Analysis\" % (TITLE, ),\n",
    "        subtitle=(\"Snowfall totals till %s from NWS COOP, LSR, CoCoRaHS Reports; \"\n",
    "                  \"IEM 2021-2022 Winter Storm #%s\") % (SUBTITLE, STORM_NUMBER),\n",
    "        twitter=True,\n",
    "    )\n",
    "    mp.contourf(\n",
    "        lons, lats, vals, np.array([0.1, 1, 2, 3, 4, 6, 8, 12, 18, 24, 30, 36]), cmap=nwssnow(), clip_on=True)\n",
    "    df_useme_plot = df2[(df2['val']>=lower)&(df2['val'] < upper)]\n",
    "    print(df2)\n",
    "    mp.drawcounties()\n",
    "    if isfinal:\n",
    "        mp.drawcities()\n",
    "    else:\n",
    "        mp.plot_values(df_useme_plot['lon'], df_useme_plot['lat'], df_useme_plot['val'].values,\n",
    "            '%s', labels=df_useme_plot['nwsli'].values,\n",
    "            textsize=10, labeltextsize=10, labelbuffer=1)\n",
    "    return mp"
   ]
  },
  {
   "cell_type": "code",
   "execution_count": 32,
   "metadata": {},
   "outputs": [
    {
     "name": "stdout",
     "output_type": "stream",
     "text": [
      "     state  wfo   val       lon      lat                               geo  \\\n",
      "0       AK  AJK  30.0 -130.0300  55.9200  POINT (-1819334.227 1574082.671)   \n",
      "1       AK  AJK  24.0 -139.7300  59.5500  POINT (-2125633.723 2191635.469)   \n",
      "2       CO  GJT  22.0 -107.1100  38.8900   POINT (-615310.861 -652769.985)   \n",
      "3       AK  AJK  17.3 -134.4500  58.3000  POINT (-1938907.052 1925615.468)   \n",
      "4       CO  GJT  16.0 -107.7000  37.7400   POINT (-677258.767 -775529.859)   \n",
      "...    ...  ...   ...       ...      ...                               ...   \n",
      "2445    WI  GRB   0.0  -87.8119  45.4825     POINT (945709.523 125196.948)   \n",
      "2446    WI  GRB   0.0  -88.9056  45.6719     POINT (858648.796 133851.846)   \n",
      "2447    WI  GRB   0.0  -88.4377  44.2769     POINT (916646.214 -14988.856)   \n",
      "2448    WI  GRB   0.0  -89.7267  45.8994     POINT (792312.235 150567.651)   \n",
      "2449    WI  GRB   0.0  -89.1133  44.6398      POINT (858124.569 17678.059)   \n",
      "\n",
      "      used_for_analysis  nwsli  plotme source  \n",
      "0                  True      0    True    LSR  \n",
      "1                  True      1    True    LSR  \n",
      "2                  True      2    True    LSR  \n",
      "3                  True      3    True    LSR  \n",
      "4                  True      4    True    LSR  \n",
      "...                 ...    ...     ...    ...  \n",
      "2445               True  ABGW3    True   COOP  \n",
      "2446               True  AGNW3    True   COOP  \n",
      "2447               True  APPW3    True   COOP  \n",
      "2448               True  AVTW3    True   COOP  \n",
      "2449               True  BFSW3    True   COOP  \n",
      "\n",
      "[2216 rows x 10 columns]\n"
     ]
    }
   ],
   "source": [
    "cull = ['GRTM7', 352, 461, 290, 'SGYI4', 117, 137, 'IA-WS-7', 114, 119, 146, 147, 115, 48, 'DSXI4', 36, 40,\n",
    "       112, 'DVNI4']\n",
    "if cull:\n",
    "    df.loc[df['nwsli'].isin(cull), USEME] = False\n",
    "# df.loc[df[df[\"val\"] < 1].index, USEME] = False\n",
    "hardcode = [\n",
    "\n",
    "]\n",
    "for nwsli, val in hardcode:\n",
    "    df.loc[df['nwsli'] == nwsli, 'val'] = val\n",
    "\n",
    "ctx['csector'] = \"IA\"\n",
    "mp = workflow(ctx, df, isfinal=True, lower=6, upper=400)\n",
    "res = mp.postprocess(filename='220102.png')\n",
    "mp.close()"
   ]
  },
  {
   "cell_type": "code",
   "execution_count": null,
   "metadata": {},
   "outputs": [],
   "source": []
  },
  {
   "cell_type": "code",
   "execution_count": null,
   "metadata": {},
   "outputs": [],
   "source": []
  }
 ],
 "metadata": {
  "kernelspec": {
   "display_name": "Python 3 (ipykernel)",
   "language": "python",
   "name": "python3"
  },
  "language_info": {
   "codemirror_mode": {
    "name": "ipython",
    "version": 3
   },
   "file_extension": ".py",
   "mimetype": "text/x-python",
   "name": "python",
   "nbconvert_exporter": "python",
   "pygments_lexer": "ipython3",
   "version": "3.8.12"
  }
 },
 "nbformat": 4,
 "nbformat_minor": 1
}

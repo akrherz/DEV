{
 "cells": [
  {
   "cell_type": "code",
   "execution_count": 1,
   "metadata": {},
   "outputs": [],
   "source": [
    "# Use autoplot 207's code for this app\n",
    "import sys\n",
    "sys.path.insert(0, \"/opt/iem/htdocs/plotting/auto/scripts200/\")\n",
    "from p207 import load_data, compute_grid_bounds, add_zeros, do_analysis, USEME\n",
    "from pyiem.plot import MapPlot, nwssnow\n",
    "from pyiem.util import get_dbconn, utc\n",
    "import numpy as np"
   ]
  },
  {
   "cell_type": "code",
   "execution_count": 5,
   "metadata": {},
   "outputs": [],
   "source": [
    "STORM_NUMBER = 24\n",
    "TITLE = \"14-15 March 2021\"\n",
    "SUBTITLE = \"8 AM 16 March 2021\"\n",
    "sts = utc(2021, 3, 15, 0)\n",
    "ets = utc(2021, 3, 22, 17, 0)\n",
    "# Get available data\n",
    "ctx = {'coop': 'yes', 'csector': 'IA', 't': 'state', 'sz': 30, 'z': 'yes', 'f': 'linear', 'v': 'snow'}\n",
    "df = load_data(ctx, sts, ets)\n",
    "# figure out our grid bounds\n",
    "ctx[\"bnds2163\"] = compute_grid_bounds(ctx)\n",
    "# add zeros and QC\n",
    "df = add_zeros(df, ctx)"
   ]
  },
  {
   "cell_type": "code",
   "execution_count": 6,
   "metadata": {},
   "outputs": [],
   "source": [
    "def workflow(ctx, df, isfinal=False, lower=0, upper=2):\n",
    "    # do gridding\n",
    "    df2 = df[df[USEME]]\n",
    "    lons, lats, vals = do_analysis(df2, ctx)\n",
    "    mp = MapPlot(\n",
    "        sector=\"state\",\n",
    "        state=ctx[\"csector\"],\n",
    "        axisbg=\"white\",\n",
    "        title=\"%s - IEM Snowfall Total Analysis\" % (TITLE, ),\n",
    "        subtitle=(\"Snowfall totals till %s from NWS COOP, LSR, CoCoRaHS Reports; \"\n",
    "                  \"IEM 2020-2021 Winter Storm #%s\") % (SUBTITLE, STORM_NUMBER),\n",
    "        twitter=True,\n",
    "    )\n",
    "    mp.contourf(\n",
    "        lons, lats, vals, np.array([0.1, 1, 2, 3, 4, 6, 8, 12, 18, 24, 30, 36]), cmap=nwssnow(), clip_on=True)\n",
    "    df_useme_plot = df2[(df2['val']>=lower)&(df2['val'] < upper)]\n",
    "    print(df_useme_plot)\n",
    "    mp.drawcounties()\n",
    "    if isfinal:\n",
    "        mp.drawcities()\n",
    "    else:\n",
    "        mp.plot_values(df_useme_plot['lon'], df_useme_plot['lat'], df_useme_plot['val'],\n",
    "            '%s', labels=df_useme_plot['nwsli'].values,\n",
    "            textsize=10, labeltextsize=10, labelbuffer=1)\n",
    "    return mp"
   ]
  },
  {
   "cell_type": "code",
   "execution_count": 24,
   "metadata": {},
   "outputs": [
    {
     "name": "stdout",
     "output_type": "stream",
     "text": [
      "     state  wfo  val       lon      lat                                geo  \\\n",
      "713     SD  ABR  3.9  -96.5400  44.7300      POINT (273224.397 -24194.207)   \n",
      "714     AZ  FGZ  3.9 -111.6700  35.1400  POINT (-1060936.086 -1021675.486)   \n",
      "715     IA  DVN  3.8  -90.7300  42.4100     POINT (759234.612 -244937.769)   \n",
      "716     AK  AFC  3.8 -149.7300  61.2100   POINT (-2440898.106 2654212.427)   \n",
      "717     CO  PUB  3.8 -106.1500  38.0900    POINT (-538596.202 -748049.695)   \n",
      "...    ...  ...  ...       ...      ...                                ...   \n",
      "1491    CO  BOU  2.0 -104.3280  40.6350    POINT (-365266.623 -475674.572)   \n",
      "1492    IA  DVN  2.0  -90.2500  41.7800     POINT (806419.700 -310049.639)   \n",
      "1493    CA  STO  2.0 -120.9475  39.9366   POINT (-1764058.186 -337365.277)   \n",
      "1494    WI  MKX  2.0  -89.4781  43.0603     POINT (852008.011 -160669.995)   \n",
      "1495    CO  PUB  2.0 -104.5569  37.1506    POINT (-404572.612 -861138.955)   \n",
      "\n",
      "      used_for_analysis  nwsli  plotme source  \n",
      "713                True    713    True    LSR  \n",
      "714                True    714    True    LSR  \n",
      "715                True    715    True    LSR  \n",
      "716                True    716    True    LSR  \n",
      "717                True    717    True    LSR  \n",
      "...                 ...    ...     ...    ...  \n",
      "1491               True  BDLC2    True   COOP  \n",
      "1492               True  CLNI4    True   COOP  \n",
      "1493               True  QCYC1    True   COOP  \n",
      "1494               True  CHMW3    True   COOP  \n",
      "1495               True  TDLC2    True   COOP  \n",
      "\n",
      "[374 rows x 10 columns]\n"
     ]
    }
   ],
   "source": [
    "cull = ['IA-MC-13', 'TLDI4', 602, 547, 691, 656, 730, 816, 'HPTI4', 760, 743, 937, 'SPTI4', 'SXRI4', 'HLSI4', \n",
    "        1041, 'IA-ID-4', 875, 812]\n",
    "if cull:\n",
    "    df.loc[df['nwsli'].isin(cull), USEME] = False\n",
    "# df.loc[df[df[\"val\"] < 1].index, USEME] = False\n",
    "hardcode = [\n",
    "    ['RINI4', 6],\n",
    "    ['IA-BV-1', 4]\n",
    "]\n",
    "for nwsli, val in hardcode:\n",
    "    df.loc[df['nwsli'] == nwsli, 'val'] = val\n",
    "\n",
    "ctx['csector'] = \"IA\"\n",
    "mp = workflow(ctx, df, isfinal=True, lower=2, upper=4)\n",
    "res = mp.postprocess(filename='210316.png')\n",
    "mp.close()"
   ]
  },
  {
   "cell_type": "code",
   "execution_count": null,
   "metadata": {},
   "outputs": [],
   "source": []
  },
  {
   "cell_type": "code",
   "execution_count": null,
   "metadata": {},
   "outputs": [],
   "source": []
  }
 ],
 "metadata": {
  "kernelspec": {
   "display_name": "Python 3",
   "language": "python",
   "name": "python3"
  },
  "language_info": {
   "codemirror_mode": {
    "name": "ipython",
    "version": 3
   },
   "file_extension": ".py",
   "mimetype": "text/x-python",
   "name": "python",
   "nbconvert_exporter": "python",
   "pygments_lexer": "ipython3",
   "version": "3.8.8"
  }
 },
 "nbformat": 4,
 "nbformat_minor": 1
}

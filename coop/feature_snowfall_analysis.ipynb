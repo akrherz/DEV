{
 "cells": [
  {
   "cell_type": "code",
   "execution_count": 1,
   "metadata": {},
   "outputs": [],
   "source": [
    "# Use autoplot 207's code for this app\n",
    "import sys\n",
    "sys.path.insert(0, \"/opt/iem/htdocs/plotting/auto/scripts200/\")\n",
    "from p207 import load_data, compute_grid_bounds, add_zeros, do_analysis, USEME\n",
    "from pyiem.plot import MapPlot, nwssnow\n",
    "from pyiem.util import get_dbconn, utc\n",
    "import numpy as np"
   ]
  },
  {
   "cell_type": "code",
   "execution_count": 21,
   "metadata": {},
   "outputs": [],
   "source": [
    "STORM_NUMBER = 5\n",
    "TITLE = \"23-24 November 2020\"\n",
    "SUBTITLE = \"8 AM 24 November 2020\"\n",
    "sts = utc(2020, 11, 24, 0)\n",
    "ets = utc(2020, 11, 26, 23, 0)\n",
    "# Get available data\n",
    "ctx = {'coop': 'yes', 'csector': 'IA', 't': 'state', 'sz': 20, 'z': 'yes', 'f': 'linear'}\n",
    "df = load_data(ctx, sts, ets)\n",
    "# figure out our grid bounds\n",
    "ctx[\"bnds2163\"] = compute_grid_bounds(ctx)\n",
    "# add zeros and QC\n",
    "df = add_zeros(df, ctx)"
   ]
  },
  {
   "cell_type": "code",
   "execution_count": 3,
   "metadata": {},
   "outputs": [],
   "source": [
    "def workflow(ctx, df, isfinal=False, lower=0, upper=2):\n",
    "    # do gridding\n",
    "    df2 = df[df[USEME]]\n",
    "    lons, lats, vals = do_analysis(df2, ctx)\n",
    "    mp = MapPlot(\n",
    "        sector=\"state\",\n",
    "        state=ctx[\"csector\"],\n",
    "        axisbg=\"white\",\n",
    "        title=\"%s - IEM Snowfall Total Analysis\" % (TITLE, ),\n",
    "        subtitle=(\"Snowfall totals till %s, \"\n",
    "                  \"IEM 2020-2021 Winter Storm #%s\") % (SUBTITLE, STORM_NUMBER),\n",
    "    )\n",
    "    mp.contourf(\n",
    "        lons, lats, vals, np.array([0.1, 1, 2, 3, 4, 6, 8, 12, 18, 24, 30, 36]), cmap=nwssnow(), clip_on=True)\n",
    "    df_useme_plot = df2[(df2['val']>=lower)&(df2['val'] < upper)]\n",
    "    print(df_useme_plot)\n",
    "    mp.drawcounties()\n",
    "    if isfinal:\n",
    "        mp.drawcities()\n",
    "    else:\n",
    "        mp.plot_values(df_useme_plot['lon'], df_useme_plot['lat'], df_useme_plot['val'],\n",
    "            '%s', labels=df_useme_plot['nwsli'].values,\n",
    "            textsize=10, labeltextsize=10, labelbuffer=0)\n",
    "    return mp"
   ]
  },
  {
   "cell_type": "code",
   "execution_count": 31,
   "metadata": {},
   "outputs": [
    {
     "name": "stdout",
     "output_type": "stream",
     "text": [
      "  state  wfo  val    lon    lat                             geo  \\\n",
      "2    IL  DVN  3.5 -89.94  42.46  POINT (822881.353 -231766.510)   \n",
      "\n",
      "   used_for_analysis nwsli  plotme source  \n",
      "2               True     2    True    LSR  \n"
     ]
    }
   ],
   "source": [
    "cull = ['MTAI4', 'CLDI4',  'MKTI4', 'GTTI4', 'PEAI4', 'Z8', 'Z7', 'Z12', 'Z13', 'CHRI4', 3]\n",
    "if cull:\n",
    "    df.loc[df['nwsli'].isin(cull), USEME] = False\n",
    "# df.loc[df[df[\"state\"] == \"MN\"].index, USEME] = False\n",
    "hardcode = [\n",
    "]\n",
    "for nwsli, val in hardcode:\n",
    "    df.loc[df['nwsli'] == nwsli, 'val'] = val\n",
    "\n",
    "ctx['csector'] = \"IA\"\n",
    "mp = workflow(ctx, df, isfinal=True, lower=3, upper=6)\n",
    "res = mp.postprocess(filename='201124.png')\n",
    "mp.close()"
   ]
  },
  {
   "cell_type": "code",
   "execution_count": null,
   "metadata": {},
   "outputs": [],
   "source": []
  },
  {
   "cell_type": "code",
   "execution_count": null,
   "metadata": {},
   "outputs": [],
   "source": []
  }
 ],
 "metadata": {
  "kernelspec": {
   "display_name": "Python 3",
   "language": "python",
   "name": "python3"
  },
  "language_info": {
   "codemirror_mode": {
    "name": "ipython",
    "version": 3
   },
   "file_extension": ".py",
   "mimetype": "text/x-python",
   "name": "python",
   "nbconvert_exporter": "python",
   "pygments_lexer": "ipython3",
   "version": "3.8.6"
  }
 },
 "nbformat": 4,
 "nbformat_minor": 1
}

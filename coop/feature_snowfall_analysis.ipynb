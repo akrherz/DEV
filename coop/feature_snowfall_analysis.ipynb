{
 "cells": [
  {
   "cell_type": "code",
   "execution_count": 1,
   "metadata": {},
   "outputs": [],
   "source": [
    "# Use autoplot 207's code for this app\n",
    "import sys\n",
    "sys.path.insert(0, \"/opt/iem/htdocs/plotting/auto/scripts200/\")\n",
    "from p207 import load_data, compute_grid_bounds, add_zeros, do_analysis, USEME\n",
    "from pyiem.plot import MapPlot, nwssnow\n",
    "from pyiem.util import get_dbconn, utc\n",
    "import numpy as np"
   ]
  },
  {
   "cell_type": "code",
   "execution_count": 9,
   "metadata": {},
   "outputs": [],
   "source": [
    "STORM_NUMBER = 3\n",
    "TITLE = \"25-26 October 2020\"\n",
    "SUBTITLE = \"8 AM 26 October 2020\"\n",
    "sts = utc(2020, 10, 26, 0)\n",
    "ets = utc(2020, 10, 26, 23, 0)\n",
    "# Get available data\n",
    "ctx = {'coop': 'yes', 'csector': 'IA', 't': 'state', 'sz': 25, 'z': 'yes', 'f': 'linear'}\n",
    "df = load_data(ctx, sts, ets)\n",
    "# figure out our grid bounds\n",
    "ctx[\"bnds2163\"] = compute_grid_bounds(ctx)\n",
    "# add zeros and QC\n",
    "df = add_zeros(df, ctx)"
   ]
  },
  {
   "cell_type": "code",
   "execution_count": 10,
   "metadata": {},
   "outputs": [],
   "source": [
    "def workflow(ctx, df, isfinal=False, lower=0, upper=2):\n",
    "    # do gridding\n",
    "    df2 = df[df[USEME]]\n",
    "    lons, lats, vals = do_analysis(df2, ctx)\n",
    "    mp = MapPlot(\n",
    "        sector=\"state\",\n",
    "        state=ctx[\"csector\"],\n",
    "        axisbg=\"white\",\n",
    "        title=\"%s - IEM Snowfall Total Analysis\" % (TITLE, ),\n",
    "        subtitle=(\"Snowfall totals till %s, \"\n",
    "                  \"IEM 2020-2021 Winter Storm #%s\") % (SUBTITLE, STORM_NUMBER),\n",
    "    )\n",
    "    mp.contourf(\n",
    "        lons, lats, vals, np.array([0.1, 1, 2, 3, 4, 6, 8, 12, 18, 24, 30, 36]), cmap=nwssnow(), clip_on=True)\n",
    "    df_useme_plot = df2[(df2['val']>=lower)&(df2['val'] < upper)]\n",
    "    print(df_useme_plot)\n",
    "    mp.drawcounties()\n",
    "    if isfinal:\n",
    "        mp.drawcities()\n",
    "    else:\n",
    "        mp.plot_values(df_useme_plot['lon'], df_useme_plot['lat'], df_useme_plot['val'],\n",
    "            '%s', labels=df_useme_plot['nwsli'].values,\n",
    "            textsize=10, labeltextsize=10, labelbuffer=0)\n",
    "    return mp"
   ]
  },
  {
   "cell_type": "code",
   "execution_count": 15,
   "metadata": {},
   "outputs": [
    {
     "name": "stdout",
     "output_type": "stream",
     "text": [
      "     state  wfo     val        lon        lat                             geo  \\\n",
      "520     IA  DMX  0.0001 -93.950800  40.623300  POINT (510344.175 -467845.090)   \n",
      "522     IA  ARX  0.0001 -91.523000  42.811500  POINT (690068.855 -207518.151)   \n",
      "526     IA  ARX  0.0001 -91.530000  42.680000  POINT (690983.458 -222140.482)   \n",
      "528     IA  ARX  0.0001 -91.875100  42.680100  POINT (662946.976 -224987.271)   \n",
      "530     IA  ARX  0.0001 -91.453700  42.775400  POINT (696095.426 -210928.088)   \n",
      "531     IL  DVN  0.0001 -90.548000  41.399900  POINT (786613.638 -354986.323)   \n",
      "533     IL  DVN  0.0001 -89.900000  41.250000  POINT (842189.464 -365143.856)   \n",
      "534     IL  DVN  0.0001 -89.616700  42.300000  POINT (851350.765 -246146.121)   \n",
      "535     IL  DVN  0.0001 -90.250000  42.333300  POINT (799311.450 -248851.961)   \n",
      "551     MO  EAX  0.0001 -94.834100  40.345800  POINT (437804.033 -503699.378)   \n",
      "553     MO  EAX  0.0001 -94.497700  40.464000  POINT (465425.071 -488746.829)   \n",
      "558     MO  EAX  0.0001 -94.026900  40.257500  POINT (506754.041 -508883.490)   \n",
      "560     IA  DVN  0.0001 -91.950000  41.033300  POINT (674285.065 -408020.340)   \n",
      "569     WI  MKX  0.0001 -89.478100  43.060300  POINT (852008.011 -160669.995)   \n",
      "571     WI  MKX  0.0001 -90.118600  42.677800  POINT (805505.947 -209460.796)   \n",
      "577     WI  MKX  0.0001 -89.531100  43.321700  POINT (844084.400 -132332.388)   \n",
      "581     IA  DMX  0.0001 -92.773900  42.355300  POINT (592976.083 -267880.876)   \n",
      "583     WI  MKX  0.0001 -89.999700  43.520600  POINT (803874.584 -115086.227)   \n",
      "595     IA  DMX  0.0001 -93.200000  42.750000  POINT (554550.774 -227104.626)   \n",
      "610     IA  DVN  0.0001 -90.700000  42.066700  POINT (765896.277 -282647.276)   \n",
      "614     IA  DVN  0.0001 -91.683300  41.283300  POINT (693825.346 -378115.097)   \n",
      "623     NE  OAX  0.0001 -96.088900  40.236100  POINT (332127.278 -521716.781)   \n",
      "626     IA  DMX  0.0001 -92.375500  42.531300  POINT (623776.138 -245411.397)   \n",
      "1263     Z  NaN  0.0000 -92.710013  39.994091  POINT (620614.744 -529110.167)   \n",
      "1264     Z  NaN  0.0000 -92.634996  40.665858  POINT (620614.744 -454110.167)   \n",
      "1265     Z  NaN  0.0000 -89.983474  40.453015  POINT (845614.744 -454110.167)   \n",
      "1266     Z  NaN  0.0000 -89.771457  41.790129  POINT (845614.744 -304110.167)   \n",
      "\n",
      "      used_for_analysis  nwsli  plotme source  \n",
      "520                True    3OI    True   COOP  \n",
      "522                True  VOLI4    True   COOP  \n",
      "526                True  SPTI4    True   COOP  \n",
      "528                True  OLNI4    True   COOP  \n",
      "530                True  EKRI4    True   COOP  \n",
      "531                True  QCAI2    True   COOP  \n",
      "533                True  KEWI2    True   COOP  \n",
      "534                True  FEEI2    True   COOP  \n",
      "535                True  EZBI2    True   COOP  \n",
      "551                True  MYVM7    True   COOP  \n",
      "553                True  GRTM7    True   COOP  \n",
      "558                True  BEYM7    True   COOP  \n",
      "560                True  FRFI4    True   COOP  \n",
      "569                True  CHMW3    True   COOP  \n",
      "571                True  DARW3    True   COOP  \n",
      "577                True  LODW3    True   COOP  \n",
      "581                True  GNDI4    True   COOP  \n",
      "583                True  RBGW3    True   COOP  \n",
      "595                True  HPTI4    True   COOP  \n",
      "610                True  MKTI4    True   COOP  \n",
      "614                True  WSHI4    True   COOP  \n",
      "623                True  TBLN1    True   COOP  \n",
      "626                True  ALXI4    True   COOP  \n",
      "1263               True     Z1   False    NaN  \n",
      "1264               True     Z2   False    NaN  \n",
      "1265               True     Z3   False    NaN  \n",
      "1266               True     Z4   False    NaN  \n"
     ]
    }
   ],
   "source": [
    "cull = ['Z5', 'CINI4', 'OSEI4']\n",
    "if cull:\n",
    "    df.loc[df['nwsli'].isin(cull), USEME] = False\n",
    "# df.loc[df[df[\"state\"] == \"MN\"].index, USEME] = False\n",
    "hardcode = [\n",
    "    ['DUBI4', 0.1],\n",
    "]\n",
    "for nwsli, val in hardcode:\n",
    "    df.loc[df['nwsli'] == nwsli, 'val'] = val\n",
    "\n",
    "ctx['csector'] = \"IA\"\n",
    "mp = workflow(ctx, df, isfinal=True, lower=0, upper=0.1)\n",
    "res = mp.postprocess(filename='201026.png')\n",
    "mp.close()"
   ]
  },
  {
   "cell_type": "code",
   "execution_count": null,
   "metadata": {},
   "outputs": [],
   "source": []
  },
  {
   "cell_type": "code",
   "execution_count": null,
   "metadata": {},
   "outputs": [],
   "source": []
  }
 ],
 "metadata": {
  "kernelspec": {
   "display_name": "Python 3",
   "language": "python",
   "name": "python3"
  },
  "language_info": {
   "codemirror_mode": {
    "name": "ipython",
    "version": 3
   },
   "file_extension": ".py",
   "mimetype": "text/x-python",
   "name": "python",
   "nbconvert_exporter": "python",
   "pygments_lexer": "ipython3",
   "version": "3.8.6"
  }
 },
 "nbformat": 4,
 "nbformat_minor": 1
}

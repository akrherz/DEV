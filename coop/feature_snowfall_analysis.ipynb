{
 "cells": [
  {
   "cell_type": "code",
   "execution_count": 1,
   "metadata": {},
   "outputs": [],
   "source": [
    "# Use autoplot 207's code for this app\n",
    "import sys\n",
    "sys.path.insert(0, \"/opt/iem/htdocs/plotting/auto/scripts200/\")\n",
    "from p207 import load_data, compute_grid_bounds, add_zeros, do_analysis, USEME\n",
    "from pyiem.plot import MapPlot, nwssnow\n",
    "from pyiem.util import get_dbconn, utc\n",
    "import numpy as np\n",
    "import pandas as pd"
   ]
  },
  {
   "cell_type": "code",
   "execution_count": 2,
   "metadata": {},
   "outputs": [],
   "source": [
    "STORM_NUMBER = 3\n",
    "TITLE = \"29 December 2021\"\n",
    "SUBTITLE = \"8 AM 30 December 2021\"\n",
    "sts = utc(2021, 12, 29, 18)\n",
    "ets = utc(2021, 12, 30, 20, 0)\n",
    "# Get available data\n",
    "ctx = {'coop': 'yes', 'csector': 'IA', 't': 'state', 'sz': 50, 'z': 'yes', 'f': 'linear', 'v': 'snow'}\n",
    "df = load_data(ctx, sts, ets)\n",
    "# figure out our grid bounds\n",
    "ctx[\"bnds2163\"] = compute_grid_bounds(ctx)\n",
    "# add zeros and QC\n",
    "df = add_zeros(df, ctx)"
   ]
  },
  {
   "cell_type": "code",
   "execution_count": 3,
   "metadata": {},
   "outputs": [],
   "source": [
    "def workflow(ctx, df, isfinal=False, lower=0, upper=2):\n",
    "    # do gridding\n",
    "    df2 = df[df[USEME]]\n",
    "    lons, lats, vals = do_analysis(df2, ctx)\n",
    "    mp = MapPlot(\n",
    "        sector=\"state\",\n",
    "        state=ctx[\"csector\"],\n",
    "        axisbg=\"white\",\n",
    "        title=\"%s - IEM Snowfall Total Analysis\" % (TITLE, ),\n",
    "        subtitle=(\"Snowfall totals till %s from NWS COOP, LSR, CoCoRaHS Reports; \"\n",
    "                  \"IEM 2021-2022 Winter Storm #%s\") % (SUBTITLE, STORM_NUMBER),\n",
    "        twitter=True,\n",
    "    )\n",
    "    mp.contourf(\n",
    "        lons, lats, vals, np.array([0.1, 1, 2, 3, 4, 6, 8, 12, 18, 24, 30, 36]), cmap=nwssnow(), clip_on=True)\n",
    "    df_useme_plot = df2[(df2['val']>=lower)&(df2['val'] < upper)]\n",
    "    print(df2)\n",
    "    mp.drawcounties()\n",
    "    if isfinal:\n",
    "        mp.drawcities()\n",
    "    else:\n",
    "        mp.plot_values(df_useme_plot['lon'], df_useme_plot['lat'], df_useme_plot['val'].values,\n",
    "            '%s', labels=df_useme_plot['nwsli'].values,\n",
    "            textsize=10, labeltextsize=10, labelbuffer=1)\n",
    "    return mp"
   ]
  },
  {
   "cell_type": "code",
   "execution_count": 8,
   "metadata": {},
   "outputs": [
    {
     "name": "stdout",
     "output_type": "stream",
     "text": [
      "     state  wfo   val       lon      lat                                geo  \\\n",
      "0       MN  FGF  17.0  -94.9900  47.2700      POINT (377773.589 264197.989)   \n",
      "1       CO  GJT  12.0 -107.7800  37.7000    POINT (-684655.559 -779304.905)   \n",
      "2       ID  PIH  11.0 -111.5700  44.0000     POINT (-921591.196 -45460.723)   \n",
      "3       AZ  FGZ  10.3 -109.9700  34.1500   POINT (-918990.705 -1150676.101)   \n",
      "4       AZ  FGZ  10.1 -111.6700  35.1400  POINT (-1060936.086 -1021675.486)   \n",
      "...    ...  ...   ...       ...      ...                                ...   \n",
      "1407    MO  LSX   0.0  -90.6147  38.7256     POINT (813251.132 -651423.470)   \n",
      "1408    MO  LSX   0.0  -90.5000  38.7833     POINT (822447.835 -643915.699)   \n",
      "1409    MO  LSX   0.0  -91.8872  39.9714     POINT (690634.382 -525103.964)   \n",
      "1410    MO  LSX   0.0  -92.0500  39.6833     POINT (679754.161 -558353.413)   \n",
      "1411    MO  LSX   0.0  -90.5667  38.8000     POINT (816506.000 -642726.766)   \n",
      "\n",
      "      used_for_analysis  nwsli  plotme source  \n",
      "0                  True      0    True    LSR  \n",
      "1                  True      1    True    LSR  \n",
      "2                  True      2    True    LSR  \n",
      "3                  True      3    True    LSR  \n",
      "4                  True      4    True    LSR  \n",
      "...                 ...    ...     ...    ...  \n",
      "1407               True  HRVM7    True   COOP  \n",
      "1408               True  SCHM7    True   COOP  \n",
      "1409               True  SFFM7    True   COOP  \n",
      "1410               True  SLBM7    True   COOP  \n",
      "1411               True  SPEM7    True   COOP  \n",
      "\n",
      "[1365 rows x 10 columns]\n"
     ]
    }
   ],
   "source": [
    "cull = ['CIYI4', 'GLDI2']\n",
    "if cull:\n",
    "    df.loc[df['nwsli'].isin(cull), USEME] = False\n",
    "# df.loc[df[df[\"val\"] < 1].index, USEME] = False\n",
    "hardcode = [\n",
    "\n",
    "]\n",
    "for nwsli, val in hardcode:\n",
    "    df.loc[df['nwsli'] == nwsli, 'val'] = val\n",
    "\n",
    "ctx['csector'] = \"IA\"\n",
    "mp = workflow(ctx, df, isfinal=True, lower=0, upper=2)\n",
    "res = mp.postprocess(filename='211230.png')\n",
    "mp.close()"
   ]
  },
  {
   "cell_type": "code",
   "execution_count": null,
   "metadata": {},
   "outputs": [],
   "source": []
  },
  {
   "cell_type": "code",
   "execution_count": null,
   "metadata": {},
   "outputs": [],
   "source": []
  }
 ],
 "metadata": {
  "kernelspec": {
   "display_name": "Python 3 (ipykernel)",
   "language": "python",
   "name": "python3"
  },
  "language_info": {
   "codemirror_mode": {
    "name": "ipython",
    "version": 3
   },
   "file_extension": ".py",
   "mimetype": "text/x-python",
   "name": "python",
   "nbconvert_exporter": "python",
   "pygments_lexer": "ipython3",
   "version": "3.8.12"
  }
 },
 "nbformat": 4,
 "nbformat_minor": 1
}

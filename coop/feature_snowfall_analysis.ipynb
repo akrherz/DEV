{
 "cells": [
  {
   "cell_type": "code",
   "execution_count": 1,
   "metadata": {},
   "outputs": [],
   "source": [
    "# Use autoplot 207's code for this app\n",
    "import sys\n",
    "sys.path.insert(0, \"/opt/iem/htdocs/plotting/auto/scripts200/\")\n",
    "from p207 import load_data, compute_grid_bounds, add_zeros, do_analysis, USEME\n",
    "from pyiem.plot import MapPlot, nwssnow\n",
    "from pyiem.util import get_dbconn, utc\n",
    "import numpy as np\n",
    "import pandas as pd"
   ]
  },
  {
   "cell_type": "code",
   "execution_count": 10,
   "metadata": {},
   "outputs": [
    {
     "name": "stderr",
     "output_type": "stream",
     "text": [
      "/opt/miniconda3/envs/prod/lib/python3.8/site-packages/pandas/io/sql.py:758: UserWarning: pandas only support SQLAlchemy connectable(engine/connection) ordatabase string URI or sqlite3 DBAPI2 connectionother DBAPI2 objects are not tested, please consider using SQLAlchemy\n",
      "  warnings.warn(\n",
      "/opt/miniconda3/envs/prod/lib/python3.8/site-packages/pandas/io/sql.py:758: UserWarning: pandas only support SQLAlchemy connectable(engine/connection) ordatabase string URI or sqlite3 DBAPI2 connectionother DBAPI2 objects are not tested, please consider using SQLAlchemy\n",
      "  warnings.warn(\n"
     ]
    }
   ],
   "source": [
    "STORM_NUMBER = 6\n",
    "TITLE = \"22-23 January 2022\"\n",
    "SUBTITLE = \"8 AM 23 January 2022\"\n",
    "sts = utc(2022, 1, 23, 6)\n",
    "ets = utc(2022, 1, 30, 20, 0)\n",
    "# Get available data\n",
    "ctx = {'coop': 'yes', 'csector': 'IA', 't': 'state', 'sz': 60, 'z': 'yes', 'f': 'linear', 'v': 'snow'}\n",
    "df = load_data(ctx, sts, ets)\n",
    "# figure out our grid bounds\n",
    "ctx[\"bnds2163\"] = compute_grid_bounds(ctx)\n",
    "# add zeros and QC\n",
    "df = add_zeros(df, ctx)"
   ]
  },
  {
   "cell_type": "code",
   "execution_count": 3,
   "metadata": {},
   "outputs": [],
   "source": [
    "def workflow(ctx, df, isfinal=False, lower=0, upper=2):\n",
    "    # do gridding\n",
    "    df2 = df[df[USEME]]\n",
    "    lons, lats, vals = do_analysis(df2, ctx)\n",
    "    mp = MapPlot(\n",
    "        sector=\"state\",\n",
    "        state=ctx[\"csector\"],\n",
    "        axisbg=\"white\",\n",
    "        title=\"%s - IEM Snowfall Total Analysis\" % (TITLE, ),\n",
    "        subtitle=(\"Snowfall totals till %s from NWS COOP, LSR, CoCoRaHS Reports; \"\n",
    "                  \"IEM 2021-2022 Winter Storm #%s\") % (SUBTITLE, STORM_NUMBER),\n",
    "        twitter=True,\n",
    "    )\n",
    "    mp.contourf(\n",
    "        lons, lats, vals, np.array([0.1, 1, 2, 3, 4, 6, 8, 12, 18, 24, 30, 36]), cmap=nwssnow(), clip_on=True)\n",
    "    df_useme_plot = df2[(df2['val']>=lower)&(df2['val'] < upper)]\n",
    "    print(df2)\n",
    "    mp.drawcounties()\n",
    "    if isfinal:\n",
    "        mp.drawcities()\n",
    "    else:\n",
    "        mp.plot_values(df_useme_plot['lon'], df_useme_plot['lat'], df_useme_plot['val'].values,\n",
    "            '%s', labels=df_useme_plot['nwsli'].values,\n",
    "            textsize=10, labeltextsize=10, labelbuffer=1)\n",
    "    return mp"
   ]
  },
  {
   "cell_type": "code",
   "execution_count": 13,
   "metadata": {},
   "outputs": [
    {
     "name": "stdout",
     "output_type": "stream",
     "text": [
      "     state  wfo   val      lon      lat                             geo  \\\n",
      "0       NY  BUF  16.0 -75.6200  43.9700  POINT (1914645.136 176616.083)   \n",
      "1       NY  BUF  14.0 -76.1800  43.8500  POINT (1876129.664 150521.630)   \n",
      "2       NY  BUF  13.0 -79.0300  42.6500  POINT (1691980.871 -42152.463)   \n",
      "5       NY  BUF  10.6 -78.9600  42.6900  POINT (1696357.608 -36349.618)   \n",
      "13      MI  APX   7.1 -85.0500  44.9000   POINT (1169168.635 97306.807)   \n",
      "...    ...  ...   ...      ...      ...                             ...   \n",
      "1754    MO  PAH   0.0 -90.4100  36.7600  POINT (854233.660 -866613.971)   \n",
      "1755    MO  SGF   0.0 -94.0264  38.2000  POINT (522361.809 -736981.865)   \n",
      "1756    MO  SGF   0.0 -93.5853  37.3131  POINT (567891.952 -832356.818)   \n",
      "1757    MO  SGF   0.0 -93.1969  36.5258  POINT (608738.041 -916792.491)   \n",
      "1758    MO  SGF   0.0 -93.4167  37.6000  POINT (580451.159 -799428.038)   \n",
      "\n",
      "      used_for_analysis  nwsli  plotme source  xcell  ycell  \n",
      "0                  True      0    True    LSR     27     11  \n",
      "1                  True      1    True    LSR     27     11  \n",
      "2                  True      2    True    LSR     24      8  \n",
      "5                  True      5    True    LSR     24      8  \n",
      "13                 True     13    True    LSR     15     10  \n",
      "...                 ...    ...     ...    ...    ...    ...  \n",
      "1754               True  PPBM7    True   COOP     10     -5  \n",
      "1755               True  APCM7    True   COOP      4     -3  \n",
      "1756               True  ASGM7    True   COOP      5     -5  \n",
      "1757               True  BNNM7    True   COOP      6     -6  \n",
      "1758               True  BVRM7    True   COOP      5     -4  \n",
      "\n",
      "[1327 rows x 12 columns]\n"
     ]
    }
   ],
   "source": [
    "cull = ['IA-AL-3', 238, 319]\n",
    "if cull:\n",
    "    df.loc[df['nwsli'].isin(cull), USEME] = False\n",
    "# df.loc[df[df[\"val\"] < 1].index, USEME] = False\n",
    "hardcode = [\n",
    "\n",
    "]\n",
    "for nwsli, val in hardcode:\n",
    "    df.loc[df['nwsli'] == nwsli, 'val'] = val\n",
    "\n",
    "ctx['csector'] = \"IA\"\n",
    "mp = workflow(ctx, df, isfinal=True, lower=0, upper=2)\n",
    "res = mp.postprocess(filename='220123.png')\n",
    "mp.close()"
   ]
  },
  {
   "cell_type": "code",
   "execution_count": null,
   "metadata": {},
   "outputs": [],
   "source": []
  },
  {
   "cell_type": "code",
   "execution_count": null,
   "metadata": {},
   "outputs": [],
   "source": []
  }
 ],
 "metadata": {
  "kernelspec": {
   "display_name": "Python 3 (ipykernel)",
   "language": "python",
   "name": "python3"
  },
  "language_info": {
   "codemirror_mode": {
    "name": "ipython",
    "version": 3
   },
   "file_extension": ".py",
   "mimetype": "text/x-python",
   "name": "python",
   "nbconvert_exporter": "python",
   "pygments_lexer": "ipython3",
   "version": "3.8.12"
  }
 },
 "nbformat": 4,
 "nbformat_minor": 1
}

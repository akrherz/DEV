{
 "cells": [
  {
   "cell_type": "code",
   "execution_count": 1,
   "metadata": {},
   "outputs": [],
   "source": [
    "# Use autoplot 207's code for this app\n",
    "import sys\n",
    "sys.path.insert(0, \"/opt/iem/htdocs/plotting/auto/scripts200/\")\n",
    "from p207 import load_data, compute_grid_bounds, add_zeros, do_analysis, USEME\n",
    "from pyiem.plot import MapPlot, nwssnow\n",
    "from pyiem.util import get_dbconn, utc\n",
    "import numpy as np"
   ]
  },
  {
   "cell_type": "code",
   "execution_count": 2,
   "metadata": {},
   "outputs": [],
   "source": [
    "STORM_NUMBER = 22\n",
    "TITLE = \"15-16 February 2021\"\n",
    "SUBTITLE = \"8 AM 16 February 2021\"\n",
    "sts = utc(2021, 2, 16, 0)\n",
    "ets = utc(2021, 2, 17, 17, 0)\n",
    "# Get available data\n",
    "ctx = {'coop': 'yes', 'csector': 'IA', 't': 'state', 'sz': 30, 'z': 'yes', 'f': 'linear', 'v': 'snow'}\n",
    "df = load_data(ctx, sts, ets)\n",
    "# figure out our grid bounds\n",
    "ctx[\"bnds2163\"] = compute_grid_bounds(ctx)\n",
    "# add zeros and QC\n",
    "df = add_zeros(df, ctx)"
   ]
  },
  {
   "cell_type": "code",
   "execution_count": 3,
   "metadata": {},
   "outputs": [],
   "source": [
    "def workflow(ctx, df, isfinal=False, lower=0, upper=2):\n",
    "    # do gridding\n",
    "    df2 = df[df[USEME]]\n",
    "    lons, lats, vals = do_analysis(df2, ctx)\n",
    "    mp = MapPlot(\n",
    "        sector=\"state\",\n",
    "        state=ctx[\"csector\"],\n",
    "        axisbg=\"white\",\n",
    "        title=\"%s - IEM Snowfall Total Analysis\" % (TITLE, ),\n",
    "        subtitle=(\"Snowfall totals till %s from NWS COOP, LSR, CoCoRaHS Reports; \"\n",
    "                  \"IEM 2020-2021 Winter Storm #%s\") % (SUBTITLE, STORM_NUMBER),\n",
    "        twitter=True,\n",
    "    )\n",
    "    mp.contourf(\n",
    "        lons, lats, vals, np.array([0.1, 1, 2, 3, 4, 6, 8, 12, 18, 24, 30, 36]), cmap=nwssnow(), clip_on=True)\n",
    "    df_useme_plot = df2[(df2['val']>=lower)&(df2['val'] < upper)]\n",
    "    print(df_useme_plot)\n",
    "    mp.drawcounties()\n",
    "    if isfinal:\n",
    "        mp.drawcities()\n",
    "    else:\n",
    "        mp.plot_values(df_useme_plot['lon'], df_useme_plot['lat'], df_useme_plot['val'],\n",
    "            '%s', labels=df_useme_plot['nwsli'].values,\n",
    "            textsize=10, labeltextsize=10, labelbuffer=1)\n",
    "    return mp"
   ]
  },
  {
   "cell_type": "code",
   "execution_count": 11,
   "metadata": {},
   "outputs": [
    {
     "name": "stdout",
     "output_type": "stream",
     "text": [
      "     state  wfo  val        lon       lat                              geo  \\\n",
      "596     VT  BTV  4.9  -73.06000  44.85000   POINT (2074761.441 334491.101)   \n",
      "597     MS  MEG  4.9  -89.67000  34.95000  POINT (942241.123 -1058502.768)   \n",
      "598     NY  BUF  4.9  -78.05000  43.00000    POINT (1758519.836 16648.392)   \n",
      "599     MO  SGF  4.9  -93.95000  37.39000   POINT (535103.582 -826240.958)   \n",
      "600     CO  GJT  4.9 -106.95000  39.17000  POINT (-599047.442 -622919.325)   \n",
      "...    ...  ...  ...        ...       ...                              ...   \n",
      "1609    IA  DVN  1.0  -91.26944  41.58222   POINT (724784.868 -341444.962)   \n",
      "1610    NY  BGM  1.0  -75.51970  42.51170    POINT (1969740.443 22194.395)   \n",
      "1611    NH  GYX  1.0  -71.18330  44.45000   POINT (2227291.308 342482.996)   \n",
      "1612    NH  BOX  1.0  -72.31310  42.99630   POINT (2198224.968 156878.209)   \n",
      "1646    IA  DVN  1.0  -90.49841  41.97619   POINT (783539.197 -290755.957)   \n",
      "\n",
      "      used_for_analysis     nwsli  plotme source  \n",
      "596                True       596    True    LSR  \n",
      "597                True       597    True    LSR  \n",
      "598                True       598    True    LSR  \n",
      "599                True       599    True    LSR  \n",
      "600                True       600    True    LSR  \n",
      "...                 ...       ...     ...    ...  \n",
      "1609               True  IA-MC-15    True   COOP  \n",
      "1610               True     NRWN6    True   COOP  \n",
      "1611               True     BRLN3    True   COOP  \n",
      "1612               True     SURN3    True   COOP  \n",
      "1646               True  IA-CN-17    True   COOP  \n",
      "\n",
      "[851 rows x 10 columns]\n"
     ]
    }
   ],
   "source": [
    "cull = ['IA-WY-3']\n",
    "if cull:\n",
    "    df.loc[df['nwsli'].isin(cull), USEME] = False\n",
    "# df.loc[df[df[\"val\"] < 1].index, USEME] = False\n",
    "hardcode = [\n",
    "    ['IA-CN-17', 1],\n",
    "    [1000, 2.5],\n",
    "]\n",
    "for nwsli, val in hardcode:\n",
    "    df.loc[df['nwsli'] == nwsli, 'val'] = val\n",
    "\n",
    "ctx['csector'] = \"IA\"\n",
    "mp = workflow(ctx, df, isfinal=True, lower=1, upper=5)\n",
    "res = mp.postprocess(filename='210216.png')\n",
    "mp.close()"
   ]
  },
  {
   "cell_type": "code",
   "execution_count": null,
   "metadata": {},
   "outputs": [],
   "source": []
  },
  {
   "cell_type": "code",
   "execution_count": null,
   "metadata": {},
   "outputs": [],
   "source": []
  }
 ],
 "metadata": {
  "kernelspec": {
   "display_name": "Python 3",
   "language": "python",
   "name": "python3"
  },
  "language_info": {
   "codemirror_mode": {
    "name": "ipython",
    "version": 3
   },
   "file_extension": ".py",
   "mimetype": "text/x-python",
   "name": "python",
   "nbconvert_exporter": "python",
   "pygments_lexer": "ipython3",
   "version": "3.8.6"
  }
 },
 "nbformat": 4,
 "nbformat_minor": 1
}

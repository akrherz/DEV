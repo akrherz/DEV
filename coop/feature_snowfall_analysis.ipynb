{
 "cells": [
  {
   "cell_type": "code",
   "execution_count": 1,
   "metadata": {},
   "outputs": [],
   "source": [
    "# Use autoplot 207's code for this app\n",
    "import sys\n",
    "sys.path.insert(0, \"/opt/iem/htdocs/plotting/auto/scripts200/\")\n",
    "from p207 import load_data, compute_grid_bounds, add_zeros, do_analysis, USEME\n",
    "from pyiem.plot import MapPlot, nwssnow\n",
    "from pyiem.util import get_dbconn, utc\n",
    "import numpy as np"
   ]
  },
  {
   "cell_type": "code",
   "execution_count": 2,
   "metadata": {},
   "outputs": [],
   "source": [
    "STORM_NUMBER = 2\n",
    "TITLE = \"19 October 2020\"\n",
    "SUBTITLE = \"4 PM 19 October 2020\"\n",
    "sts = utc(2020, 10, 19, 17)\n",
    "ets = utc(2020, 10, 20, 23, 0)\n",
    "# Get available data\n",
    "ctx = {'coop': 'yes', 'csector': 'IA', 't': 'state', 'sz': 15, 'z': 'yes', 'f': 'linear'}\n",
    "df = load_data(ctx, sts, ets)\n",
    "# figure out our grid bounds\n",
    "ctx[\"bnds2163\"] = compute_grid_bounds(ctx)\n",
    "# add zeros and QC\n",
    "df = add_zeros(df, ctx)"
   ]
  },
  {
   "cell_type": "code",
   "execution_count": 3,
   "metadata": {},
   "outputs": [],
   "source": [
    "def workflow(ctx, df, isfinal=False, lower=0, upper=2):\n",
    "    # do gridding\n",
    "    df2 = df[df[USEME]]\n",
    "    lons, lats, vals = do_analysis(df2, ctx)\n",
    "    mp = MapPlot(\n",
    "        sector=\"state\",\n",
    "        state=ctx[\"csector\"],\n",
    "        axisbg=\"white\",\n",
    "        title=\"%s - IEM Snowfall Total Analysis\" % (TITLE, ),\n",
    "        subtitle=(\"Snowfall totals till %s, \"\n",
    "                  \"IEM 2020-2021 Winter Storm #%s\") % (SUBTITLE, STORM_NUMBER),\n",
    "    )\n",
    "    mp.contourf(\n",
    "        lons, lats, vals, np.array([0.1, 1, 2, 3, 4, 6, 8, 12, 18, 24, 30, 36]), cmap=nwssnow(), clip_on=True)\n",
    "    df_useme_plot = df2[(df2['val']>=lower)&(df2['val'] < upper)]\n",
    "    print(df_useme_plot)\n",
    "    mp.drawcounties()\n",
    "    if isfinal:\n",
    "        mp.drawcities()\n",
    "    else:\n",
    "        mp.plot_values(df_useme_plot['lon'], df_useme_plot['lat'], df_useme_plot['val'],\n",
    "            '%s', labels=df_useme_plot['nwsli'].values,\n",
    "            textsize=10, labeltextsize=10, labelbuffer=0)\n",
    "    return mp"
   ]
  },
  {
   "cell_type": "code",
   "execution_count": 24,
   "metadata": {},
   "outputs": [
    {
     "name": "stdout",
     "output_type": "stream",
     "text": [
      "     state  wfo  val        lon        lat                             geo  \\\n",
      "58      IA  DMX  1.3 -94.110000  41.850000  POINT (487523.812 -332728.849)   \n",
      "59      IA  DMX  1.2 -93.660000  41.540000  POINT (527260.400 -364339.181)   \n",
      "60      IA  DVN  1.2 -90.540000  41.690000  POINT (783685.035 -322815.383)   \n",
      "61      IA  DMX  1.1 -93.820000  41.880000  POINT (511228.697 -327636.476)   \n",
      "62      IL  DVN  1.0 -89.980000  42.090000  POINT (824529.323 -273080.991)   \n",
      "...    ...  ...  ...        ...        ...                             ...   \n",
      "1590     Z  NaN  0.0 -94.731777  43.355474  POINT (425614.744 -169110.167)   \n",
      "1591     Z  NaN  0.0 -93.621303  43.297744  POINT (515614.744 -169110.167)   \n",
      "1592     Z  NaN  0.0 -91.406732  43.149415  POINT (695614.744 -169110.167)   \n",
      "1593     Z  NaN  0.0 -90.303303  43.058896  POINT (785614.744 -169110.167)   \n",
      "1594     Z  NaN  0.0 -94.696048  43.759140  POINT (425614.744 -124110.167)   \n",
      "\n",
      "      used_for_analysis nwsli  plotme source  \n",
      "58                 True    58    True    LSR  \n",
      "59                 True    59    True    LSR  \n",
      "60                 True    60    True    LSR  \n",
      "61                 True    61    True    LSR  \n",
      "62                 True    62    True    LSR  \n",
      "...                 ...   ...     ...    ...  \n",
      "1590               True   Z39   False    NaN  \n",
      "1591               True   Z40   False    NaN  \n",
      "1592               True   Z41   False    NaN  \n",
      "1593               True   Z42   False    NaN  \n",
      "1594               True   Z43   False    NaN  \n",
      "\n",
      "[98 rows x 10 columns]\n"
     ]
    }
   ],
   "source": [
    "cull = ['CHES2', 'FSDS2', 'CNNS2', 'WRNM5', 'ORCI4', 'SPRI4', 'WDOM5', 'NESN1', 'PTRI4', 'CKPI4', 'Z24']\n",
    "if cull:\n",
    "    df.loc[df['nwsli'].isin(cull), USEME] = False\n",
    "# df.loc[df[df[\"state\"] == \"MN\"].index, USEME] = False\n",
    "hardcode = [\n",
    "    ['Z23', 3],\n",
    "]\n",
    "for nwsli, val in hardcode:\n",
    "    df.loc[df['nwsli'] == nwsli, 'val'] = val\n",
    "\n",
    "ctx['csector'] = \"IA\"\n",
    "mp = workflow(ctx, df, isfinal=True, lower=0, upper=2)\n",
    "res = mp.postprocess(filename='201019.png')\n",
    "mp.close()"
   ]
  },
  {
   "cell_type": "code",
   "execution_count": null,
   "metadata": {},
   "outputs": [],
   "source": []
  },
  {
   "cell_type": "code",
   "execution_count": null,
   "metadata": {},
   "outputs": [],
   "source": []
  }
 ],
 "metadata": {
  "kernelspec": {
   "display_name": "Python 3",
   "language": "python",
   "name": "python3"
  },
  "language_info": {
   "codemirror_mode": {
    "name": "ipython",
    "version": 3
   },
   "file_extension": ".py",
   "mimetype": "text/x-python",
   "name": "python",
   "nbconvert_exporter": "python",
   "pygments_lexer": "ipython3",
   "version": "3.8.6"
  }
 },
 "nbformat": 4,
 "nbformat_minor": 1
}

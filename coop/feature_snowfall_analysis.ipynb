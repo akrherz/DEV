{
 "cells": [
  {
   "cell_type": "code",
   "execution_count": 1,
   "metadata": {},
   "outputs": [],
   "source": [
    "# Use autoplot 207's code for this app\n",
    "import sys\n",
    "sys.path.insert(0, \"/opt/iem/htdocs/plotting/auto/scripts200/\")\n",
    "from p207 import load_data, compute_grid_bounds, add_zeros, do_analysis, USEME\n",
    "from pyiem.plot import MapPlot, nwssnow\n",
    "from pyiem.util import get_dbconn, utc\n",
    "import numpy as np"
   ]
  },
  {
   "cell_type": "code",
   "execution_count": 18,
   "metadata": {},
   "outputs": [],
   "source": [
    "STORM_NUMBER = 25\n",
    "TITLE = \"19-20 April 2021\"\n",
    "SUBTITLE = \"8 AM 21 April 2021\"\n",
    "sts = utc(2021, 4, 18, 0)\n",
    "ets = utc(2021, 4, 22, 17, 0)\n",
    "# Get available data\n",
    "ctx = {'coop': 'yes', 'csector': 'IA', 't': 'state', 'sz': 50, 'z': 'yes', 'f': 'linear', 'v': 'snow'}\n",
    "df = load_data(ctx, sts, ets)\n",
    "# figure out our grid bounds\n",
    "ctx[\"bnds2163\"] = compute_grid_bounds(ctx)\n",
    "# add zeros and QC\n",
    "df = add_zeros(df, ctx)"
   ]
  },
  {
   "cell_type": "code",
   "execution_count": 12,
   "metadata": {},
   "outputs": [],
   "source": [
    "def workflow(ctx, df, isfinal=False, lower=0, upper=2):\n",
    "    # do gridding\n",
    "    df2 = df[df[USEME]]\n",
    "    lons, lats, vals = do_analysis(df2, ctx)\n",
    "    mp = MapPlot(\n",
    "        sector=\"state\",\n",
    "        state=ctx[\"csector\"],\n",
    "        axisbg=\"white\",\n",
    "        title=\"%s - IEM Snowfall Total Analysis\" % (TITLE, ),\n",
    "        subtitle=(\"Snowfall totals till %s from NWS COOP, LSR, CoCoRaHS Reports; \"\n",
    "                  \"IEM 2020-2021 Winter Storm #%s\") % (SUBTITLE, STORM_NUMBER),\n",
    "        twitter=True,\n",
    "    )\n",
    "    mp.contourf(\n",
    "        lons, lats, vals, np.array([0.1, 1, 2, 3, 4, 6, 8, 12, 18, 24, 30, 36]), cmap=nwssnow(), clip_on=True)\n",
    "    df_useme_plot = df2[(df2['val']>=lower)&(df2['val'] < upper)]\n",
    "    print(df_useme_plot)\n",
    "    mp.drawcounties()\n",
    "    if isfinal:\n",
    "        mp.drawcities()\n",
    "    else:\n",
    "        mp.plot_values(df_useme_plot['lon'], df_useme_plot['lat'], df_useme_plot['val'],\n",
    "            '%s', labels=df_useme_plot['nwsli'].values,\n",
    "            textsize=10, labeltextsize=10, labelbuffer=1)\n",
    "    return mp"
   ]
  },
  {
   "cell_type": "code",
   "execution_count": 23,
   "metadata": {},
   "outputs": [
    {
     "name": "stdout",
     "output_type": "stream",
     "text": [
      "     state  wfo  val         lon        lat                              geo  \\\n",
      "589     OH  ILN  3.9  -83.370000  40.240000  POINT (1400964.974 -387370.303)   \n",
      "590     CO  BOU  3.9 -104.930000  39.920000  POINT (-420535.815 -552167.774)   \n",
      "591     SD  UNR  3.9 -103.870000  44.510000   POINT (-306733.960 -47173.246)   \n",
      "592     SD  ABR  3.9  -97.030000  44.730000    POINT (234554.160 -25728.042)   \n",
      "593     CO  BOU  3.9 -105.490000  39.020000  POINT (-474502.271 -648976.833)   \n",
      "...    ...  ...  ...         ...        ...                              ...   \n",
      "4395    SD  UNR  0.0 -101.470000  44.870000   POINT (-115835.265 -13405.140)   \n",
      "4396    TN  HUN  0.0  -86.215000  35.342200  POINT (1247954.769 -970472.719)   \n",
      "4397    TN  MEG  0.0  -89.258600  35.589400   POINT (971339.067 -983324.248)   \n",
      "4398    TN  MEG  0.0  -89.803900  35.129400  POINT (927928.953 -1040196.792)   \n",
      "4399    TN  MEG  0.0  -88.727143  35.933035  POINT (1014402.493 -939167.338)   \n",
      "\n",
      "      used_for_analysis  nwsli  plotme source  \n",
      "589                True    589    True    LSR  \n",
      "590                True    590    True    LSR  \n",
      "591                True    591    True    LSR  \n",
      "592                True    592    True    LSR  \n",
      "593                True    593    True    LSR  \n",
      "...                 ...    ...     ...    ...  \n",
      "4395               True  DPRS2    True   COOP  \n",
      "4396               True  TULT1    True   COOP  \n",
      "4397               True  BROT1    True   COOP  \n",
      "4398               True  MEGT1    True   COOP  \n",
      "4399               True  MILT1    True   COOP  \n",
      "\n",
      "[3468 rows x 10 columns]\n"
     ]
    }
   ],
   "source": [
    "cull = ['LSXI4', 'IA-PK-73', 'SXRI4', 'ROKI4', 'PEAI4', 'IA-DV-3', 'MMPM7', 'SACI4', 'IA-ID-4']\n",
    "if cull:\n",
    "    df.loc[df['nwsli'].isin(cull), USEME] = False\n",
    "# df.loc[df[df[\"val\"] < 1].index, USEME] = False\n",
    "hardcode = [\n",
    "\n",
    "]\n",
    "for nwsli, val in hardcode:\n",
    "    df.loc[df['nwsli'] == nwsli, 'val'] = val\n",
    "\n",
    "ctx['csector'] = \"IA\"\n",
    "mp = workflow(ctx, df, isfinal=True, lower=0, upper=4)\n",
    "res = mp.postprocess(filename='210421.png')\n",
    "mp.close()"
   ]
  },
  {
   "cell_type": "code",
   "execution_count": null,
   "metadata": {},
   "outputs": [],
   "source": []
  },
  {
   "cell_type": "code",
   "execution_count": null,
   "metadata": {},
   "outputs": [],
   "source": []
  }
 ],
 "metadata": {
  "kernelspec": {
   "display_name": "Python 3",
   "language": "python",
   "name": "python3"
  },
  "language_info": {
   "codemirror_mode": {
    "name": "ipython",
    "version": 3
   },
   "file_extension": ".py",
   "mimetype": "text/x-python",
   "name": "python",
   "nbconvert_exporter": "python",
   "pygments_lexer": "ipython3",
   "version": "3.8.8"
  }
 },
 "nbformat": 4,
 "nbformat_minor": 1
}

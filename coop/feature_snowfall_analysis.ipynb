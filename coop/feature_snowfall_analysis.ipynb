{
 "cells": [
  {
   "cell_type": "code",
   "execution_count": 1,
   "metadata": {},
   "outputs": [],
   "source": [
    "# Use autoplot 207's code for this app\n",
    "import sys\n",
    "sys.path.insert(0, \"/opt/iem/htdocs/plotting/auto/scripts200/\")\n",
    "from p207 import load_data, compute_grid_bounds, add_zeros, do_analysis, USEME\n",
    "from pyiem.plot import MapPlot, nwssnow\n",
    "from pyiem.util import get_dbconn, utc\n",
    "import numpy as np\n",
    "import pandas as pd"
   ]
  },
  {
   "cell_type": "code",
   "execution_count": 3,
   "metadata": {},
   "outputs": [],
   "source": [
    "STORM_NUMBER = 8\n",
    "TITLE = \"16-17 February 2022\"\n",
    "SUBTITLE = \"8 AM 18 February 2022\"\n",
    "sts = utc(2022, 2, 17, 12)\n",
    "ets = utc(2022, 2, 18, 20, 0)\n",
    "# Get available data\n",
    "ctx = {'coop': 'yes', 't': 'state', 'sz': 60, 'z': 'yes', 'f': 'linear', 'v': 'snow', 'wfo': 'DMX'}\n",
    "df = load_data(ctx, sts, ets)\n",
    "# figure out our grid bounds\n",
    "ctx[\"bnds2163\"] = compute_grid_bounds(ctx, 'IA')\n",
    "# add zeros and QC\n",
    "df = add_zeros(df, ctx)"
   ]
  },
  {
   "cell_type": "code",
   "execution_count": 4,
   "metadata": {},
   "outputs": [],
   "source": [
    "def workflow(ctx, df, isfinal=False, lower=0, upper=2):\n",
    "    # do gridding\n",
    "    df2 = df[df[USEME]]\n",
    "    lons, lats, vals = do_analysis(df2, ctx)\n",
    "    mp = MapPlot(\n",
    "        sector=\"state\",\n",
    "        state=ctx[\"csector\"],\n",
    "        axisbg=\"white\",\n",
    "        title=\"%s - IEM Snowfall Total Analysis\" % (TITLE, ),\n",
    "        subtitle=(\"Snowfall totals till %s from NWS COOP, LSR, CoCoRaHS Reports; \"\n",
    "                  \"IEM 2021-2022 Winter Storm #%s\") % (SUBTITLE, STORM_NUMBER),\n",
    "        twitter=True,\n",
    "    )\n",
    "    mp.contourf(\n",
    "        lons, lats, vals, np.array([0.1, 1, 2, 3, 4, 6, 8, 12, 18, 24, 30, 36]), cmap=nwssnow(), clip_on=True)\n",
    "    df_useme_plot = df2[(df2['val']>=lower)&(df2['val'] < upper)]\n",
    "    print(df2)\n",
    "    mp.drawcounties()\n",
    "    if isfinal:\n",
    "        mp.drawcities()\n",
    "    else:\n",
    "        mp.plot_values(df_useme_plot['lon'], df_useme_plot['lat'], df_useme_plot['val'].values,\n",
    "            '%s', labels=df_useme_plot['nwsli'].values,\n",
    "            textsize=10, labeltextsize=10, labelbuffer=1)\n",
    "    return mp"
   ]
  },
  {
   "cell_type": "code",
   "execution_count": 14,
   "metadata": {},
   "outputs": [
    {
     "name": "stdout",
     "output_type": "stream",
     "text": [
      "     state  wfo   val       lon      lat                              geo  \\\n",
      "0       IL  ILX  12.0  -89.7800  40.4300   POINT (862987.505 -454547.319)   \n",
      "1       CO  BOU  11.5 -105.2800  39.6200  POINT (-452364.928 -583606.253)   \n",
      "2       CO  BOU  11.3 -105.1600  39.5100  POINT (-442822.969 -596455.378)   \n",
      "3       CO  BOU  11.2 -105.2800  39.7000  POINT (-451826.563 -574732.305)   \n",
      "4       CO  BOU  11.1 -105.2800  39.9300  POINT (-450275.283 -549218.304)   \n",
      "...    ...  ...   ...       ...      ...                              ...   \n",
      "3755    OR  MFR   0.0 -122.8820  42.3771  POINT (-1849611.611 -29985.546)   \n",
      "3756    OR  MFR   0.0 -123.2655  43.0394   POINT (-1859179.314 50313.877)   \n",
      "3757    OR  MFR   0.0 -121.9638  43.5491   POINT (-1743507.835 76386.805)   \n",
      "3758    OR  MFR   0.0 -122.5164  42.7342     POINT (-1810393.419 365.255)   \n",
      "3759    OR  MFR   0.0 -123.3572  42.9506   POINT (-1869007.446 42846.192)   \n",
      "\n",
      "      used_for_analysis  nwsli  plotme source  xcell  ycell  \n",
      "0                  True      0    True    LSR     11      1  \n",
      "1                  True      1    True    LSR    -10      0  \n",
      "2                  True      2    True    LSR    -10     -1  \n",
      "3                  True      3    True    LSR    -10      0  \n",
      "4                  True      4    True    LSR    -10      0  \n",
      "...                 ...    ...     ...    ...    ...    ...  \n",
      "3755               True  MWOO3    True   COOP    -34      8  \n",
      "3756               True  MYCO3    True   COOP    -34      9  \n",
      "3757               True  OLEO3    True   COOP    -32     10  \n",
      "3758               True  PRSO3    True   COOP    -33      8  \n",
      "3759               True  RIDO3    True   COOP    -34      9  \n",
      "\n",
      "[1930 rows x 12 columns]\n"
     ]
    }
   ],
   "source": [
    "cull = ['IA-ST-3', 'IA-DM-15']\n",
    "if cull:\n",
    "    df.loc[df['nwsli'].isin(cull), USEME] = False\n",
    "# df.loc[df[df[\"val\"] < 1].index, USEME] = False\n",
    "hardcode = [\n",
    "    ['IA-ST-48', 0.5],\n",
    "    ['MZUI4', 0.1],\n",
    "]\n",
    "for nwsli, val in hardcode:\n",
    "    df.loc[df['nwsli'] == nwsli, 'val'] = val\n",
    "\n",
    "ctx['csector'] = \"IA\"\n",
    "mp = workflow(ctx, df, isfinal=True, lower=0.1, upper=6)\n",
    "res = mp.postprocess(filename='220218.png')\n",
    "mp.close()"
   ]
  },
  {
   "cell_type": "code",
   "execution_count": null,
   "metadata": {},
   "outputs": [],
   "source": []
  },
  {
   "cell_type": "code",
   "execution_count": null,
   "metadata": {},
   "outputs": [],
   "source": []
  }
 ],
 "metadata": {
  "kernelspec": {
   "display_name": "Python 3 (ipykernel)",
   "language": "python",
   "name": "python3"
  },
  "language_info": {
   "codemirror_mode": {
    "name": "ipython",
    "version": 3
   },
   "file_extension": ".py",
   "mimetype": "text/x-python",
   "name": "python",
   "nbconvert_exporter": "python",
   "pygments_lexer": "ipython3",
   "version": "3.10.2"
  }
 },
 "nbformat": 4,
 "nbformat_minor": 1
}

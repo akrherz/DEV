{
 "cells": [
  {
   "cell_type": "code",
   "execution_count": 3,
   "metadata": {},
   "outputs": [],
   "source": [
    "# Use autoplot 207's code for this app\n",
    "import sys\n",
    "sys.path.insert(0, \"/opt/iem/htdocs/plotting/auto/scripts200/\")\n",
    "from p207 import load_data, compute_grid_bounds, add_zeros, do_analysis, USEME\n",
    "from pyiem.plot import MapPlot, nwssnow\n",
    "from pyiem.util import get_dbconn, utc\n",
    "import numpy as np"
   ]
  },
  {
   "cell_type": "code",
   "execution_count": 4,
   "metadata": {},
   "outputs": [],
   "source": [
    "STORM_NUMBER = 15\n",
    "TITLE = \"30-31 January 2021\"\n",
    "SUBTITLE = \"8 PM 31 January 2021\"\n",
    "sts = utc(2021, 1, 31, 6)\n",
    "ets = utc(2021, 12, 30, 23, 0)\n",
    "# Get available data\n",
    "ctx = {'coop': 'yes', 'csector': 'IA', 't': 'state', 'sz': 30, 'z': 'yes', 'f': 'linear', 'v': 'snow'}\n",
    "df = load_data(ctx, sts, ets)\n",
    "# figure out our grid bounds\n",
    "ctx[\"bnds2163\"] = compute_grid_bounds(ctx)\n",
    "# add zeros and QC\n",
    "df = add_zeros(df, ctx)"
   ]
  },
  {
   "cell_type": "code",
   "execution_count": 5,
   "metadata": {},
   "outputs": [],
   "source": [
    "def workflow(ctx, df, isfinal=False, lower=0, upper=2):\n",
    "    # do gridding\n",
    "    df2 = df[df[USEME]]\n",
    "    lons, lats, vals = do_analysis(df2, ctx)\n",
    "    mp = MapPlot(\n",
    "        sector=\"state\",\n",
    "        state=ctx[\"csector\"],\n",
    "        axisbg=\"white\",\n",
    "        title=\"%s - IEM Snowfall Total Analysis\" % (TITLE, ),\n",
    "        subtitle=(\"Snowfall totals till %s from NWS COOP, LSR, CoCoRaHS Reports; \"\n",
    "                  \"IEM 2020-2021 Winter Storm #%s\") % (SUBTITLE, STORM_NUMBER),\n",
    "        twitter=True,\n",
    "    )\n",
    "    mp.contourf(\n",
    "        lons, lats, vals, np.array([0.1, 1, 2, 3, 4, 6, 8, 12, 18, 24, 30, 36]), cmap=nwssnow(), clip_on=True)\n",
    "    df_useme_plot = df2[(df2['val']>=lower)&(df2['val'] < upper)]\n",
    "    print(df_useme_plot)\n",
    "    mp.drawcounties()\n",
    "    if isfinal:\n",
    "        mp.drawcities()\n",
    "    else:\n",
    "        mp.plot_values(df_useme_plot['lon'], df_useme_plot['lat'], df_useme_plot['val'],\n",
    "            '%s', labels=df_useme_plot['nwsli'].values,\n",
    "            textsize=10, labeltextsize=10, labelbuffer=1)\n",
    "    return mp"
   ]
  },
  {
   "cell_type": "code",
   "execution_count": 15,
   "metadata": {},
   "outputs": [
    {
     "name": "stdout",
     "output_type": "stream",
     "text": [
      "     state  wfo  val      lon      lat                              geo  \\\n",
      "1766    VA  LWX  1.9 -77.4500  38.8500  POINT (1925932.370 -419347.250)   \n",
      "1767    WI  ARX  1.9 -91.6700  44.5600    POINT (658528.359 -15081.551)   \n",
      "1768    VA  LWX  1.9 -77.4700  38.3000  POINT (1939760.509 -479415.190)   \n",
      "1769    MD  LWX  1.9 -77.0900  39.0800  POINT (1949086.066 -385967.468)   \n",
      "1770    IL  DVN  1.9 -89.1700  41.3500   POINT (901226.127 -346348.760)   \n",
      "...    ...  ...  ...      ...      ...                              ...   \n",
      "2717    PA  CTP  1.0 -78.5500  40.6500  POINT (1785593.654 -249001.681)   \n",
      "2718    WI  DLH  1.0 -90.1953  46.4608    POINT (748741.199 208129.685)   \n",
      "2719    WI  DLH  1.0 -90.9808  46.1694    POINT (692749.850 168860.784)   \n",
      "2720    MI  MQT  1.0 -89.1794  46.3976    POINT (826715.305 211104.842)   \n",
      "2721    IL  ILX  1.0 -89.0339  40.9125   POINT (918707.912 -393168.885)   \n",
      "\n",
      "      used_for_analysis  nwsli  plotme source  \n",
      "1766               True   1766    True    LSR  \n",
      "1767               True   1767    True    LSR  \n",
      "1768               True   1768    True    LSR  \n",
      "1769               True   1769    True    LSR  \n",
      "1770               True   1770    True    LSR  \n",
      "...                 ...    ...     ...    ...  \n",
      "2717               True  PGLP1    True   COOP  \n",
      "2718               True  HURW3    True   COOP  \n",
      "2719               True  CMKW3    True   COOP  \n",
      "2720               True  PDGM4    True   COOP  \n",
      "2721               True  MINI2    True   COOP  \n",
      "\n",
      "[475 rows x 10 columns]\n"
     ]
    }
   ],
   "source": [
    "cull = []\n",
    "if cull:\n",
    "    df.loc[df['nwsli'].isin(cull), USEME] = False\n",
    "# df.loc[df[df[\"state\"] == \"MN\"].index, USEME] = False\n",
    "hardcode = [\n",
    "    [685, 3.5],\n",
    "    ['WAUI4', 4],\n",
    "    ['IA-BH-17', 4],\n",
    "    ['IA-DV-14', 2],\n",
    "    [1952, 0.8],\n",
    "    \n",
    "]\n",
    "for nwsli, val in hardcode:\n",
    "    df.loc[df['nwsli'] == nwsli, 'val'] = val\n",
    "\n",
    "ctx['csector'] = \"IA\"\n",
    "mp = workflow(ctx, df, isfinal=True, lower=1, upper=2)\n",
    "res = mp.postprocess(filename='210131.png')\n",
    "mp.close()"
   ]
  },
  {
   "cell_type": "code",
   "execution_count": null,
   "metadata": {},
   "outputs": [],
   "source": []
  },
  {
   "cell_type": "code",
   "execution_count": null,
   "metadata": {},
   "outputs": [],
   "source": []
  }
 ],
 "metadata": {
  "kernelspec": {
   "display_name": "Python 3",
   "language": "python",
   "name": "python3"
  },
  "language_info": {
   "codemirror_mode": {
    "name": "ipython",
    "version": 3
   },
   "file_extension": ".py",
   "mimetype": "text/x-python",
   "name": "python",
   "nbconvert_exporter": "python",
   "pygments_lexer": "ipython3",
   "version": "3.8.6"
  }
 },
 "nbformat": 4,
 "nbformat_minor": 1
}

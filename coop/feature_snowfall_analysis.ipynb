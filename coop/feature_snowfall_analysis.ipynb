{
 "cells": [
  {
   "cell_type": "code",
   "execution_count": 1,
   "metadata": {},
   "outputs": [],
   "source": [
    "# Use autoplot 207's code for this app\n",
    "import sys\n",
    "sys.path.insert(0, \"/opt/iem/htdocs/plotting/auto/scripts200/\")\n",
    "from p207 import load_data, compute_grid_bounds, add_zeros, do_analysis, USEME\n",
    "from pyiem.plot import MapPlot, nwssnow\n",
    "from pyiem.util import get_dbconn, utc\n",
    "import numpy as np"
   ]
  },
  {
   "cell_type": "code",
   "execution_count": 2,
   "metadata": {},
   "outputs": [],
   "source": [
    "STORM_NUMBER = 19\n",
    "TITLE = \"8 February 2021\"\n",
    "SUBTITLE = \"8 AM 9 February 2021\"\n",
    "sts = utc(2021, 2, 8, 17)\n",
    "ets = utc(2021, 2, 9, 17, 0)\n",
    "# Get available data\n",
    "ctx = {'coop': 'yes', 'csector': 'IA', 't': 'state', 'sz': 30, 'z': 'yes', 'f': 'linear', 'v': 'snow'}\n",
    "df = load_data(ctx, sts, ets)\n",
    "# figure out our grid bounds\n",
    "ctx[\"bnds2163\"] = compute_grid_bounds(ctx)\n",
    "# add zeros and QC\n",
    "df = add_zeros(df, ctx)"
   ]
  },
  {
   "cell_type": "code",
   "execution_count": 3,
   "metadata": {},
   "outputs": [],
   "source": [
    "def workflow(ctx, df, isfinal=False, lower=0, upper=2):\n",
    "    # do gridding\n",
    "    df2 = df[df[USEME]]\n",
    "    lons, lats, vals = do_analysis(df2, ctx)\n",
    "    mp = MapPlot(\n",
    "        sector=\"state\",\n",
    "        state=ctx[\"csector\"],\n",
    "        axisbg=\"white\",\n",
    "        title=\"%s - IEM Snowfall Total Analysis\" % (TITLE, ),\n",
    "        subtitle=(\"Snowfall totals till %s from NWS COOP, LSR, CoCoRaHS Reports; \"\n",
    "                  \"IEM 2020-2021 Winter Storm #%s\") % (SUBTITLE, STORM_NUMBER),\n",
    "        twitter=True,\n",
    "    )\n",
    "    mp.contourf(\n",
    "        lons, lats, vals, np.array([0.1, 1, 2, 3, 4, 6, 8, 12, 18, 24, 30, 36]), cmap=nwssnow(), clip_on=True)\n",
    "    df_useme_plot = df2[(df2['val']>=lower)&(df2['val'] < upper)]\n",
    "    print(df_useme_plot)\n",
    "    mp.drawcounties()\n",
    "    if isfinal:\n",
    "        mp.drawcities()\n",
    "    else:\n",
    "        mp.plot_values(df_useme_plot['lon'], df_useme_plot['lat'], df_useme_plot['val'],\n",
    "            '%s', labels=df_useme_plot['nwsli'].values,\n",
    "            textsize=10, labeltextsize=10, labelbuffer=1)\n",
    "    return mp"
   ]
  },
  {
   "cell_type": "code",
   "execution_count": 9,
   "metadata": {},
   "outputs": [
    {
     "name": "stdout",
     "output_type": "stream",
     "text": [
      "    state  wfo  val       lon      lat                               geo  \\\n",
      "215    AK  AJK  3.8 -131.6900  55.3600  POINT (-1939725.867 1557476.477)   \n",
      "216    IN  IND  3.8  -86.2300  39.2800   POINT (1179955.192 -537545.762)   \n",
      "217    IA  DVN  3.8  -90.5400  41.6900    POINT (783685.035 -322815.383)   \n",
      "218    IL  LOT  3.8  -87.7800  41.7400   POINT (1009664.318 -287111.152)   \n",
      "219    OH  ILN  3.8  -84.4200  39.1400   POINT (1335675.400 -525425.295)   \n",
      "..    ...  ...  ...       ...      ...                               ...   \n",
      "533    IN  ILN  3.0  -84.9302  39.6323   POINT (1283142.638 -479448.913)   \n",
      "534    IL  LSX  3.0  -88.9461  38.6333    POINT (958144.879 -643847.162)   \n",
      "535    IL  PAH  3.0  -88.3117  38.6058   POINT (1013101.443 -639360.120)   \n",
      "536    IL  LOT  3.0  -88.3500  41.7500    POINT (962819.899 -292866.473)   \n",
      "537    PA  PBZ  3.0  -79.6681  40.6842   POINT (1694063.924 -269046.781)   \n",
      "\n",
      "     used_for_analysis  nwsli  plotme source  \n",
      "215               True    215    True    LSR  \n",
      "216               True    216    True    LSR  \n",
      "217               True    217    True    LSR  \n",
      "218               True    218    True    LSR  \n",
      "219               True    219    True    LSR  \n",
      "..                 ...    ...     ...    ...  \n",
      "533               True  LBTI3    True   COOP  \n",
      "534               True  SLOI2    True   COOP  \n",
      "535               True  CLYI2    True   COOP  \n",
      "536               True  ARRI2    True   COOP  \n",
      "537               True  SCHP1    True   COOP  \n",
      "\n",
      "[78 rows x 10 columns]\n"
     ]
    }
   ],
   "source": [
    "cull = ['IA-DL-33', 'RMSI4']\n",
    "if cull:\n",
    "    df.loc[df['nwsli'].isin(cull), USEME] = False\n",
    "# df.loc[df[df[\"val\"] < 1].index, USEME] = False\n",
    "hardcode = [\n",
    "]\n",
    "for nwsli, val in hardcode:\n",
    "    df.loc[df['nwsli'] == nwsli, 'val'] = val\n",
    "\n",
    "ctx['csector'] = \"IA\"\n",
    "mp = workflow(ctx, df, isfinal=True, lower=3, upper=4)\n",
    "res = mp.postprocess(filename='210209.png')\n",
    "mp.close()"
   ]
  },
  {
   "cell_type": "code",
   "execution_count": null,
   "metadata": {},
   "outputs": [],
   "source": []
  },
  {
   "cell_type": "code",
   "execution_count": null,
   "metadata": {},
   "outputs": [],
   "source": []
  }
 ],
 "metadata": {
  "kernelspec": {
   "display_name": "Python 3",
   "language": "python",
   "name": "python3"
  },
  "language_info": {
   "codemirror_mode": {
    "name": "ipython",
    "version": 3
   },
   "file_extension": ".py",
   "mimetype": "text/x-python",
   "name": "python",
   "nbconvert_exporter": "python",
   "pygments_lexer": "ipython3",
   "version": "3.8.6"
  }
 },
 "nbformat": 4,
 "nbformat_minor": 1
}

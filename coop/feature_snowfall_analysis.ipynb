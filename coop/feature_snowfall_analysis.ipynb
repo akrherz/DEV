{
 "cells": [
  {
   "cell_type": "code",
   "execution_count": 1,
   "metadata": {},
   "outputs": [],
   "source": [
    "# Use autoplot 207's code for this app\n",
    "import sys\n",
    "sys.path.insert(0, \"/opt/iem/htdocs/plotting/auto/scripts200/\")\n",
    "from p207 import load_data, compute_grid_bounds, add_zeros, do_analysis, USEME\n",
    "from pyiem.plot import MapPlot, nwssnow\n",
    "from pyiem.util import get_dbconn, utc\n",
    "import numpy as np"
   ]
  },
  {
   "cell_type": "code",
   "execution_count": 5,
   "metadata": {},
   "outputs": [],
   "source": [
    "STORM_NUMBER = 21\n",
    "TITLE = \"12-13 February 2021\"\n",
    "SUBTITLE = \"8 AM 13 February 2021\"\n",
    "sts = utc(2021, 2, 12, 20)\n",
    "ets = utc(2021, 2, 14, 17, 0)\n",
    "# Get available data\n",
    "ctx = {'coop': 'yes', 'csector': 'IA', 't': 'state', 'sz': 30, 'z': 'yes', 'f': 'linear', 'v': 'snow'}\n",
    "df = load_data(ctx, sts, ets)\n",
    "# figure out our grid bounds\n",
    "ctx[\"bnds2163\"] = compute_grid_bounds(ctx)\n",
    "# add zeros and QC\n",
    "df = add_zeros(df, ctx)"
   ]
  },
  {
   "cell_type": "code",
   "execution_count": 3,
   "metadata": {},
   "outputs": [],
   "source": [
    "def workflow(ctx, df, isfinal=False, lower=0, upper=2):\n",
    "    # do gridding\n",
    "    df2 = df[df[USEME]]\n",
    "    lons, lats, vals = do_analysis(df2, ctx)\n",
    "    mp = MapPlot(\n",
    "        sector=\"state\",\n",
    "        state=ctx[\"csector\"],\n",
    "        axisbg=\"white\",\n",
    "        title=\"%s - IEM Snowfall Total Analysis\" % (TITLE, ),\n",
    "        subtitle=(\"Snowfall totals till %s from NWS COOP, LSR, CoCoRaHS Reports; \"\n",
    "                  \"IEM 2020-2021 Winter Storm #%s\") % (SUBTITLE, STORM_NUMBER),\n",
    "        twitter=True,\n",
    "    )\n",
    "    mp.contourf(\n",
    "        lons, lats, vals, np.array([0.1, 1, 2, 3, 4, 6, 8, 12, 18, 24, 30, 36]), cmap=nwssnow(), clip_on=True)\n",
    "    df_useme_plot = df2[(df2['val']>=lower)&(df2['val'] < upper)]\n",
    "    print(df_useme_plot)\n",
    "    mp.drawcounties()\n",
    "    if isfinal:\n",
    "        mp.drawcities()\n",
    "    else:\n",
    "        mp.plot_values(df_useme_plot['lon'], df_useme_plot['lat'], df_useme_plot['val'],\n",
    "            '%s', labels=df_useme_plot['nwsli'].values,\n",
    "            textsize=10, labeltextsize=10, labelbuffer=1)\n",
    "    return mp"
   ]
  },
  {
   "cell_type": "code",
   "execution_count": 14,
   "metadata": {},
   "outputs": [
    {
     "name": "stdout",
     "output_type": "stream",
     "text": [
      "     state  wfo  val         lon        lat                              geo  \\\n",
      "378     NE  CYS  6.7 -103.650000  41.820000  POINT (-302458.187 -346834.354)   \n",
      "379     CO  GJT  6.7 -107.840000  38.480000  POINT (-682303.070 -692481.522)   \n",
      "380     WA  SEW  6.6 -123.070000  46.830000  POINT (-1725013.971 454416.491)   \n",
      "381     CO  GJT  6.6 -106.760000  37.040000  POINT (-600648.703 -860188.217)   \n",
      "382     WA  SEW  6.5 -122.020000  47.750000  POINT (-1620652.570 531406.571)   \n",
      "...    ...  ...  ...         ...        ...                              ...   \n",
      "1834    WY  RIW  3.0 -107.974400  41.671400  POINT (-661335.707 -337949.811)   \n",
      "1835    CO  BOU  3.0 -106.035300  39.626100  POINT (-516895.834 -578515.456)   \n",
      "1836    IA  DMX  3.0  -92.454300  40.626167   POINT (636176.189 -457131.922)   \n",
      "1837    VA  AKQ  3.0  -75.821700  37.583100  POINT (2098279.556 -516723.059)   \n",
      "1838    IA  DMX  3.0  -93.651113  42.107890   POINT (523259.496 -301292.101)   \n",
      "\n",
      "      used_for_analysis     nwsli  plotme source  \n",
      "378                True       378    True    LSR  \n",
      "379                True       379    True    LSR  \n",
      "380                True       380    True    LSR  \n",
      "381                True       381    True    LSR  \n",
      "382                True       382    True    LSR  \n",
      "...                 ...       ...     ...    ...  \n",
      "1834               True     WMSW4    True   COOP  \n",
      "1835               True     DLLC2    True   COOP  \n",
      "1836               True   IA-DV-3    True   COOP  \n",
      "1837               True     PAIV2    True   COOP  \n",
      "1838               True  IA-SR-19    True   COOP  \n",
      "\n",
      "[632 rows x 10 columns]\n"
     ]
    }
   ],
   "source": [
    "cull = [831, 1180, 705, 846]\n",
    "if cull:\n",
    "    df.loc[df['nwsli'].isin(cull), USEME] = False\n",
    "# df.loc[df[df[\"val\"] < 1].index, USEME] = False\n",
    "hardcode = [\n",
    "    ['IA-BH-17', 2],\n",
    "    ['CLUI4', 2],\n",
    "]\n",
    "for nwsli, val in hardcode:\n",
    "    df.loc[df['nwsli'] == nwsli, 'val'] = val\n",
    "\n",
    "ctx['csector'] = \"IA\"\n",
    "mp = workflow(ctx, df, isfinal=True, lower=3, upper=7)\n",
    "res = mp.postprocess(filename='210214.png')\n",
    "mp.close()"
   ]
  },
  {
   "cell_type": "code",
   "execution_count": null,
   "metadata": {},
   "outputs": [],
   "source": []
  },
  {
   "cell_type": "code",
   "execution_count": null,
   "metadata": {},
   "outputs": [],
   "source": []
  }
 ],
 "metadata": {
  "kernelspec": {
   "display_name": "Python 3",
   "language": "python",
   "name": "python3"
  },
  "language_info": {
   "codemirror_mode": {
    "name": "ipython",
    "version": 3
   },
   "file_extension": ".py",
   "mimetype": "text/x-python",
   "name": "python",
   "nbconvert_exporter": "python",
   "pygments_lexer": "ipython3",
   "version": "3.8.6"
  }
 },
 "nbformat": 4,
 "nbformat_minor": 1
}

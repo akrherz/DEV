{
 "cells": [
  {
   "cell_type": "code",
   "execution_count": 1,
   "metadata": {},
   "outputs": [],
   "source": [
    "# Use autoplot 207's code for this app\n",
    "import sys\n",
    "sys.path.insert(0, \"/opt/iem/htdocs/plotting/auto/scripts200/\")\n",
    "from p207 import load_data, compute_grid_bounds, add_zeros, do_analysis, USEME\n",
    "from pyiem.plot import MapPlot, nwssnow\n",
    "from pyiem.util import get_dbconn, utc\n",
    "import numpy as np\n",
    "import pandas as pd"
   ]
  },
  {
   "cell_type": "code",
   "execution_count": 19,
   "metadata": {},
   "outputs": [],
   "source": [
    "STORM_NUMBER = 2\n",
    "TITLE = \"28 December 2021\"\n",
    "SUBTITLE = \"8 AM 29 December 2021\"\n",
    "sts = utc(2021, 12, 28, 0)\n",
    "ets = utc(2021, 12, 29, 20, 0)\n",
    "# Get available data\n",
    "ctx = {'coop': 'yes', 'csector': 'IA', 't': 'state', 'sz': 50, 'z': 'yes', 'f': 'linear', 'v': 'snow'}\n",
    "df = load_data(ctx, sts, ets)\n",
    "# figure out our grid bounds\n",
    "ctx[\"bnds2163\"] = compute_grid_bounds(ctx)\n",
    "# add zeros and QC\n",
    "df = add_zeros(df, ctx)"
   ]
  },
  {
   "cell_type": "code",
   "execution_count": 14,
   "metadata": {},
   "outputs": [],
   "source": [
    "def workflow(ctx, df, isfinal=False, lower=0, upper=2):\n",
    "    # do gridding\n",
    "    df2 = df[df[USEME]]\n",
    "    lons, lats, vals = do_analysis(df2, ctx)\n",
    "    mp = MapPlot(\n",
    "        sector=\"state\",\n",
    "        state=ctx[\"csector\"],\n",
    "        axisbg=\"white\",\n",
    "        title=\"%s - IEM Snowfall Total Analysis\" % (TITLE, ),\n",
    "        subtitle=(\"Snowfall totals till %s from NWS COOP, LSR, CoCoRaHS Reports; \"\n",
    "                  \"IEM 2021-2022 Winter Storm #%s\") % (SUBTITLE, STORM_NUMBER),\n",
    "        twitter=True,\n",
    "    )\n",
    "    mp.contourf(\n",
    "        lons, lats, vals, np.array([0.1, 1, 2, 3, 4, 6, 8, 12, 18, 24, 30, 36]), cmap=nwssnow(), clip_on=True)\n",
    "    df_useme_plot = df2[(df2['val']>=lower)&(df2['val'] < upper)]\n",
    "    print(df2)\n",
    "    mp.drawcounties()\n",
    "    if isfinal:\n",
    "        mp.drawcities()\n",
    "    else:\n",
    "        mp.plot_values(df_useme_plot['lon'], df_useme_plot['lat'], df_useme_plot['val'].values,\n",
    "            '%s', labels=df_useme_plot['nwsli'].values,\n",
    "            textsize=10, labeltextsize=10, labelbuffer=1)\n",
    "    return mp"
   ]
  },
  {
   "cell_type": "code",
   "execution_count": 22,
   "metadata": {},
   "outputs": [
    {
     "name": "stdout",
     "output_type": "stream",
     "text": [
      "     state  wfo   val       lon      lat                              geo  \\\n",
      "0       WY  CYS  42.0 -106.7100  41.0600  POINT (-562150.128 -415119.858)   \n",
      "1       WY  CYS  38.0 -106.3500  41.3800  POINT (-529418.416 -382020.879)   \n",
      "2       WY  CYS  32.0 -106.2300  41.3600  POINT (-519600.362 -385004.234)   \n",
      "3       WY  CYS  32.0 -106.9200  41.0100  POINT (-580142.560 -419207.250)   \n",
      "4       WY  CYS  28.0 -106.2300  41.2400  POINT (-520575.681 -398314.232)   \n",
      "...    ...  ...   ...       ...      ...                              ...   \n",
      "3221    IL  ILX   0.0  -87.9747  39.2972  POINT (1031585.392 -558946.480)   \n",
      "3222    IL  ILX   0.0  -89.4162  39.8563   POINT (901288.867 -514057.954)   \n",
      "3224    IL  DVN   0.0  -89.7100  41.7800   POINT (850799.311 -304594.247)   \n",
      "3225    IL  DVN   0.0  -89.4833  41.3833   POINT (874877.249 -346056.344)   \n",
      "3226    IL  DVN   0.0  -91.0167  41.4167   POINT (747608.492 -357502.409)   \n",
      "\n",
      "      used_for_analysis  nwsli  plotme source  \n",
      "0                  True      0    True    LSR  \n",
      "1                  True      1    True    LSR  \n",
      "2                  True      2    True    LSR  \n",
      "3                  True      3    True    LSR  \n",
      "4                  True      4    True    LSR  \n",
      "...                 ...    ...     ...    ...  \n",
      "3221               True  CASI2    True   COOP  \n",
      "3222               True  BUFI2    True   COOP  \n",
      "3224               True  RCFI2    True   COOP  \n",
      "3225               True  PTNI2    True   COOP  \n",
      "3226               True  ILNI2    True   COOP  \n",
      "\n",
      "[3029 rows x 10 columns]\n"
     ]
    }
   ],
   "source": [
    "cull = [651, 'IA-BT-11', 'IA-BT-16', 'GLDI2']\n",
    "if cull:\n",
    "    df.loc[df['nwsli'].isin(cull), USEME] = False\n",
    "# df.loc[df[df[\"val\"] < 1].index, USEME] = False\n",
    "hardcode = [\n",
    "\n",
    "]\n",
    "for nwsli, val in hardcode:\n",
    "    df.loc[df['nwsli'] == nwsli, 'val'] = val\n",
    "\n",
    "ctx['csector'] = \"IA\"\n",
    "mp = workflow(ctx, df, isfinal=True, lower=0, upper=3)\n",
    "res = mp.postprocess(filename='211229.png')\n",
    "mp.close()"
   ]
  },
  {
   "cell_type": "code",
   "execution_count": null,
   "metadata": {},
   "outputs": [],
   "source": []
  },
  {
   "cell_type": "code",
   "execution_count": null,
   "metadata": {},
   "outputs": [],
   "source": []
  }
 ],
 "metadata": {
  "kernelspec": {
   "display_name": "Python 3 (ipykernel)",
   "language": "python",
   "name": "python3"
  },
  "language_info": {
   "codemirror_mode": {
    "name": "ipython",
    "version": 3
   },
   "file_extension": ".py",
   "mimetype": "text/x-python",
   "name": "python",
   "nbconvert_exporter": "python",
   "pygments_lexer": "ipython3",
   "version": "3.8.12"
  }
 },
 "nbformat": 4,
 "nbformat_minor": 1
}

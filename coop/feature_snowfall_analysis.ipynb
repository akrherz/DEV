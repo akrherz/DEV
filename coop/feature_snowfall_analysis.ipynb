{
 "cells": [
  {
   "cell_type": "code",
   "execution_count": 1,
   "metadata": {},
   "outputs": [],
   "source": [
    "# Use autoplot 207's code for this app\n",
    "import sys\n",
    "sys.path.insert(0, \"/opt/iem/htdocs/plotting/auto/scripts200/\")\n",
    "from p207 import load_data, compute_grid_bounds, add_zeros, do_analysis, USEME\n",
    "from pyiem.plot import MapPlot, nwssnow\n",
    "from pyiem.util import get_dbconn, utc\n",
    "import numpy as np"
   ]
  },
  {
   "cell_type": "code",
   "execution_count": 7,
   "metadata": {},
   "outputs": [],
   "source": [
    "STORM_NUMBER = 10\n",
    "TITLE = \"1 January 2021\"\n",
    "SUBTITLE = \"8 AM 2 January 2021\"\n",
    "sts = utc(2021, 1, 1, 18)\n",
    "ets = utc(2021, 12, 30, 23, 0)\n",
    "# Get available data\n",
    "ctx = {'coop': 'yes', 'csector': 'IA', 't': 'state', 'sz': 40, 'z': 'yes', 'f': 'linear'}\n",
    "df = load_data(ctx, sts, ets)\n",
    "# figure out our grid bounds\n",
    "ctx[\"bnds2163\"] = compute_grid_bounds(ctx)\n",
    "# add zeros and QC\n",
    "df = add_zeros(df, ctx)"
   ]
  },
  {
   "cell_type": "code",
   "execution_count": 8,
   "metadata": {},
   "outputs": [],
   "source": [
    "def workflow(ctx, df, isfinal=False, lower=0, upper=2):\n",
    "    # do gridding\n",
    "    df2 = df[df[USEME]]\n",
    "    lons, lats, vals = do_analysis(df2, ctx)\n",
    "    mp = MapPlot(\n",
    "        sector=\"state\",\n",
    "        state=ctx[\"csector\"],\n",
    "        axisbg=\"white\",\n",
    "        title=\"%s - IEM Snowfall Total Analysis\" % (TITLE, ),\n",
    "        subtitle=(\"Snowfall totals till %s from NWS COOP, LSR, CoCoRaHS Reports; \"\n",
    "                  \"IEM 2020-2021 Winter Storm #%s\") % (SUBTITLE, STORM_NUMBER),\n",
    "        twitter=True,\n",
    "    )\n",
    "    mp.contourf(\n",
    "        lons, lats, vals, np.array([0.1, 1, 2, 3, 4, 6, 8, 12, 18, 24, 30, 36]), cmap=nwssnow(), clip_on=True)\n",
    "    df_useme_plot = df2[(df2['val']>=lower)&(df2['val'] < upper)]\n",
    "    print(df_useme_plot)\n",
    "    mp.drawcounties()\n",
    "    if isfinal:\n",
    "        mp.drawcities()\n",
    "    else:\n",
    "        mp.plot_values(df_useme_plot['lon'], df_useme_plot['lat'], df_useme_plot['val'],\n",
    "            '%s', labels=df_useme_plot['nwsli'].values,\n",
    "            textsize=10, labeltextsize=10, labelbuffer=1)\n",
    "    return mp"
   ]
  },
  {
   "cell_type": "code",
   "execution_count": 11,
   "metadata": {},
   "outputs": [
    {
     "name": "stdout",
     "output_type": "stream",
     "text": [
      "     state  wfo  val       lon      lat                              geo  \\\n",
      "426     WI  MKX  3.9  -87.9800  43.2400   POINT (969402.322 -124083.453)   \n",
      "427     NH  GYX  3.8  -71.8100  43.8200   POINT (2205248.913 258296.996)   \n",
      "428     WI  MKX  3.8  -88.1100  43.2300   POINT (959170.447 -126726.078)   \n",
      "429     VT  BTV  3.8  -73.2500  44.3000   POINT (2080708.832 270919.024)   \n",
      "430     MI  DTX  3.8  -83.9700  43.1200   POINT (1290815.520 -81572.462)   \n",
      "...    ...  ...  ...       ...      ...                              ...   \n",
      "3050    ND  FGF  0.0  -97.1667  46.0667    POINT (218540.224 122449.245)   \n",
      "3051    ND  FGF  0.0  -97.2400  46.4000    POINT (211606.637 159295.554)   \n",
      "3052    ND  FGF  0.0  -97.2386  48.9742    POINT (201619.976 445317.908)   \n",
      "3053    NE  CYS  0.0 -103.7347  42.4244  POINT (-306491.436 -279383.054)   \n",
      "3054    NE  CYS  0.0 -103.3678  41.5639  POINT (-280222.293 -376281.684)   \n",
      "\n",
      "      used_for_analysis  nwsli  plotme source  \n",
      "426                True    426    True    LSR  \n",
      "427                True    427    True    LSR  \n",
      "428                True    428    True    LSR  \n",
      "429                True    429    True    LSR  \n",
      "430                True    430    True    LSR  \n",
      "...                 ...    ...     ...    ...  \n",
      "3050               True  LGRN8    True   COOP  \n",
      "3051               True  MCLN8    True   COOP  \n",
      "3052               True  PBAN8    True   COOP  \n",
      "3053               True  AGAN1    True   COOP  \n",
      "3054               True  BGWN1    True   COOP  \n",
      "\n",
      "[2467 rows x 10 columns]\n"
     ]
    }
   ],
   "source": [
    "cull = []\n",
    "if cull:\n",
    "    df.loc[df['nwsli'].isin(cull), USEME] = False\n",
    "# df.loc[df[df[\"state\"] == \"MN\"].index, USEME] = False\n",
    "hardcode = [\n",
    "    ['IA-LN-31', 0.5],\n",
    "]\n",
    "for nwsli, val in hardcode:\n",
    "    df.loc[df['nwsli'] == nwsli, 'val'] = val\n",
    "\n",
    "ctx['csector'] = \"IA\"\n",
    "mp = workflow(ctx, df, isfinal=True, lower=0, upper=4)\n",
    "res = mp.postprocess(filename='210102.png')\n",
    "mp.close()"
   ]
  },
  {
   "cell_type": "code",
   "execution_count": null,
   "metadata": {},
   "outputs": [],
   "source": []
  },
  {
   "cell_type": "code",
   "execution_count": null,
   "metadata": {},
   "outputs": [],
   "source": []
  }
 ],
 "metadata": {
  "kernelspec": {
   "display_name": "Python 3",
   "language": "python",
   "name": "python3"
  },
  "language_info": {
   "codemirror_mode": {
    "name": "ipython",
    "version": 3
   },
   "file_extension": ".py",
   "mimetype": "text/x-python",
   "name": "python",
   "nbconvert_exporter": "python",
   "pygments_lexer": "ipython3",
   "version": "3.8.6"
  }
 },
 "nbformat": 4,
 "nbformat_minor": 1
}

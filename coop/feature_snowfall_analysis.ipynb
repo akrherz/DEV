{
 "cells": [
  {
   "cell_type": "code",
   "execution_count": 1,
   "metadata": {},
   "outputs": [],
   "source": [
    "# Use autoplot 207's code for this app\n",
    "import sys\n",
    "sys.path.insert(0, \"/opt/iem/htdocs/plotting/auto/scripts200/\")\n",
    "from p207 import load_data, compute_grid_bounds, add_zeros, do_analysis, USEME\n",
    "from pyiem.plot import MapPlot, nwssnow\n",
    "from pyiem.util import get_dbconn, utc\n",
    "import numpy as np\n",
    "import pandas as pd"
   ]
  },
  {
   "cell_type": "code",
   "execution_count": 10,
   "metadata": {},
   "outputs": [],
   "source": [
    "STORM_NUMBER = 5\n",
    "TITLE = \"14-15 January 2022\"\n",
    "SUBTITLE = \"8 AM 15 January 2022\"\n",
    "sts = utc(2022, 1, 15, 6)\n",
    "ets = utc(2022, 1, 30, 20, 0)\n",
    "# Get available data\n",
    "ctx = {'coop': 'yes', 'csector': 'IA', 't': 'state', 'sz': 60, 'z': 'yes', 'f': 'linear', 'v': 'snow'}\n",
    "df = load_data(ctx, sts, ets)\n",
    "# figure out our grid bounds\n",
    "ctx[\"bnds2163\"] = compute_grid_bounds(ctx)\n",
    "# add zeros and QC\n",
    "df = add_zeros(df, ctx)"
   ]
  },
  {
   "cell_type": "code",
   "execution_count": 11,
   "metadata": {},
   "outputs": [],
   "source": [
    "def workflow(ctx, df, isfinal=False, lower=0, upper=2):\n",
    "    # do gridding\n",
    "    df2 = df[df[USEME]]\n",
    "    lons, lats, vals = do_analysis(df2, ctx)\n",
    "    mp = MapPlot(\n",
    "        sector=\"state\",\n",
    "        state=ctx[\"csector\"],\n",
    "        axisbg=\"white\",\n",
    "        title=\"%s - IEM Snowfall Total Analysis\" % (TITLE, ),\n",
    "        subtitle=(\"Snowfall totals till %s from NWS COOP, LSR, CoCoRaHS Reports; \"\n",
    "                  \"IEM 2021-2022 Winter Storm #%s\") % (SUBTITLE, STORM_NUMBER),\n",
    "        twitter=True,\n",
    "    )\n",
    "    mp.contourf(\n",
    "        lons, lats, vals, np.array([0.1, 1, 2, 3, 4, 6, 8, 12, 18, 24, 30, 36]), cmap=nwssnow(), clip_on=True)\n",
    "    df_useme_plot = df2[(df2['val']>=lower)&(df2['val'] < upper)]\n",
    "    print(df2)\n",
    "    mp.drawcounties()\n",
    "    if isfinal:\n",
    "        mp.drawcities()\n",
    "    else:\n",
    "        mp.plot_values(df_useme_plot['lon'], df_useme_plot['lat'], df_useme_plot['val'].values,\n",
    "            '%s', labels=df_useme_plot['nwsli'].values,\n",
    "            textsize=10, labeltextsize=10, labelbuffer=1)\n",
    "    return mp"
   ]
  },
  {
   "cell_type": "code",
   "execution_count": 20,
   "metadata": {},
   "outputs": [
    {
     "name": "stdout",
     "output_type": "stream",
     "text": [
      "     state  wfo   val      lon      lat                             geo  \\\n",
      "1       IA  DMX  12.9 -93.7200  41.7400  POINT (520636.294 -342538.038)   \n",
      "2       IA  DMX  12.6 -93.6900  42.0300  POINT (520710.510 -310179.590)   \n",
      "3       IA  DMX  12.0 -93.6300  42.0400  POINT (525565.521 -308687.684)   \n",
      "4       IA  DMX  11.5 -92.3900  41.0500  POINT (637398.591 -409674.365)   \n",
      "5       IA  DMX  11.5 -92.6400  41.2900  POINT (614229.587 -384979.166)   \n",
      "...    ...  ...   ...      ...      ...                             ...   \n",
      "1658    WI  GRB   0.0 -87.7356  45.0281    POINT (959231.190 76006.192)   \n",
      "1660    WI  GRB   0.0 -88.6183  44.7631    POINT (894912.758 36652.353)   \n",
      "1662    WI  GRB   0.0 -89.4380  45.9147   POINT (814196.107 155137.197)   \n",
      "1663    WI  GRB   0.0 -89.5855  44.5113    POINT (822990.317 -1418.857)   \n",
      "1664    WI  GRB   0.0 -90.0899  44.8175    POINT (779244.616 27440.362)   \n",
      "\n",
      "      used_for_analysis  nwsli  plotme source  xcell  ycell  \n",
      "1                  True      1    True    LSR      4      3  \n",
      "2                  True      2    True    LSR      4      3  \n",
      "3                  True      3    True    LSR      4      3  \n",
      "4                  True      4    True    LSR      6      1  \n",
      "5                  True      5    True    LSR      6      2  \n",
      "...                 ...    ...     ...    ...    ...    ...  \n",
      "1658               True  PSHW3    True   COOP     11     10  \n",
      "1660               True  SHHW3    True   COOP     10      9  \n",
      "1662               True  STGW3    True   COOP      9     11  \n",
      "1663               True  STPW3    True   COOP      9      8  \n",
      "1664               True  STRW3    True   COOP      8      9  \n",
      "\n",
      "[1146 rows x 12 columns]\n"
     ]
    }
   ],
   "source": [
    "cull = [0, 'DSXI4', 'SXGI4', 156, 49, 50]\n",
    "if cull:\n",
    "    df.loc[df['nwsli'].isin(cull), USEME] = False\n",
    "# df.loc[df[df[\"val\"] < 1].index, USEME] = False\n",
    "hardcode = [\n",
    "\n",
    "]\n",
    "for nwsli, val in hardcode:\n",
    "    df.loc[df['nwsli'] == nwsli, 'val'] = val\n",
    "\n",
    "ctx['csector'] = \"IA\"\n",
    "mp = workflow(ctx, df, isfinal=True, lower=6, upper=8)\n",
    "res = mp.postprocess(filename='220115.png')\n",
    "mp.close()"
   ]
  },
  {
   "cell_type": "code",
   "execution_count": null,
   "metadata": {},
   "outputs": [],
   "source": []
  },
  {
   "cell_type": "code",
   "execution_count": null,
   "metadata": {},
   "outputs": [],
   "source": []
  }
 ],
 "metadata": {
  "kernelspec": {
   "display_name": "Python 3 (ipykernel)",
   "language": "python",
   "name": "python3"
  },
  "language_info": {
   "codemirror_mode": {
    "name": "ipython",
    "version": 3
   },
   "file_extension": ".py",
   "mimetype": "text/x-python",
   "name": "python",
   "nbconvert_exporter": "python",
   "pygments_lexer": "ipython3",
   "version": "3.8.12"
  }
 },
 "nbformat": 4,
 "nbformat_minor": 1
}

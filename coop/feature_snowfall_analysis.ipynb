{
 "cells": [
  {
   "cell_type": "code",
   "execution_count": 1,
   "metadata": {},
   "outputs": [],
   "source": [
    "# Use autoplot 207's code for this app\n",
    "import sys\n",
    "sys.path.insert(0, \"/opt/iem/htdocs/plotting/auto/scripts200/\")\n",
    "from p207 import load_data, compute_grid_bounds, add_zeros, do_analysis, USEME\n",
    "from pyiem.plot import MapPlot, nwssnow\n",
    "from pyiem.util import get_dbconn, utc\n",
    "import numpy as np"
   ]
  },
  {
   "cell_type": "code",
   "execution_count": 5,
   "metadata": {},
   "outputs": [],
   "source": [
    "STORM_NUMBER = 17\n",
    "TITLE = \"6 February 2021\"\n",
    "SUBTITLE = \"8 AM 7 February 2021\"\n",
    "sts = utc(2021, 2, 6, 12)\n",
    "ets = utc(2021, 2, 7, 14, 0)\n",
    "# Get available data\n",
    "ctx = {'coop': 'yes', 'csector': 'IA', 't': 'state', 'sz': 30, 'z': 'yes', 'f': 'linear', 'v': 'snow'}\n",
    "df = load_data(ctx, sts, ets)\n",
    "# figure out our grid bounds\n",
    "ctx[\"bnds2163\"] = compute_grid_bounds(ctx)\n",
    "# add zeros and QC\n",
    "df = add_zeros(df, ctx)"
   ]
  },
  {
   "cell_type": "code",
   "execution_count": 6,
   "metadata": {},
   "outputs": [],
   "source": [
    "def workflow(ctx, df, isfinal=False, lower=0, upper=2):\n",
    "    # do gridding\n",
    "    df2 = df[df[USEME]]\n",
    "    lons, lats, vals = do_analysis(df2, ctx)\n",
    "    mp = MapPlot(\n",
    "        sector=\"state\",\n",
    "        state=ctx[\"csector\"],\n",
    "        axisbg=\"white\",\n",
    "        title=\"%s - IEM Snowfall Total Analysis\" % (TITLE, ),\n",
    "        subtitle=(\"Snowfall totals till %s from NWS COOP, LSR, CoCoRaHS Reports; \"\n",
    "                  \"IEM 2020-2021 Winter Storm #%s\") % (SUBTITLE, STORM_NUMBER),\n",
    "        twitter=True,\n",
    "    )\n",
    "    mp.contourf(\n",
    "        lons, lats, vals, np.array([0.1, 1, 2, 3, 4, 6, 8, 12, 18, 24, 30, 36]), cmap=nwssnow(), clip_on=True)\n",
    "    df_useme_plot = df2[(df2['val']>=lower)&(df2['val'] < upper)]\n",
    "    print(df_useme_plot)\n",
    "    mp.drawcounties()\n",
    "    if isfinal:\n",
    "        mp.drawcities()\n",
    "    else:\n",
    "        mp.plot_values(df_useme_plot['lon'], df_useme_plot['lat'], df_useme_plot['val'],\n",
    "            '%s', labels=df_useme_plot['nwsli'].values,\n",
    "            textsize=10, labeltextsize=10, labelbuffer=1)\n",
    "    return mp"
   ]
  },
  {
   "cell_type": "code",
   "execution_count": 25,
   "metadata": {},
   "outputs": [
    {
     "name": "stdout",
     "output_type": "stream",
     "text": [
      "     state  wfo  val       lon      lat                               geo  \\\n",
      "239     NE  GID  4.9  -98.4300  40.6000    POINT (132638.379 -487876.843)   \n",
      "240     NE  GID  4.8  -97.9400  40.5000    POINT (174291.688 -498076.106)   \n",
      "241     CO  BOU  4.8 -105.8900  40.0100   POINT (-501589.419 -536838.288)   \n",
      "242     VA  RNK  4.8  -79.2200  37.9100   POINT (1803246.924 -561351.445)   \n",
      "243     MT  TFX  4.8 -111.3300  45.2800     POINT (-882855.119 93135.873)   \n",
      "...    ...  ...  ...       ...      ...                               ...   \n",
      "1259    AK  AFG  3.0 -147.6814  64.8972  POINT (-2082313.772 2909832.933)   \n",
      "1260    WV  RLX  3.0  -81.1833  37.7833   POINT (1639629.762 -615899.982)   \n",
      "1261    NE  LBF  3.0  -98.7894  41.7989    POINT (100386.775 -355160.159)   \n",
      "1262    WY  RIW  3.0 -110.9322  42.7306   POINT (-889791.263 -192718.911)   \n",
      "1263    SD  UNR  3.0 -102.1431  43.4401   POINT (-173020.591 -171174.750)   \n",
      "\n",
      "      used_for_analysis  nwsli  plotme source  \n",
      "239                True    239    True    LSR  \n",
      "240                True    240    True    LSR  \n",
      "241                True    241    True    LSR  \n",
      "242                True    242    True    LSR  \n",
      "243                True    243    True    LSR  \n",
      "...                 ...    ...     ...    ...  \n",
      "1259               True  EFLA2    True   COOP  \n",
      "1260               True  BCKW2    True   COOP  \n",
      "1261               True  ECSN1    True   COOP  \n",
      "1262               True  AFOW4    True   COOP  \n",
      "1263               True  KYLS2    True   COOP  \n",
      "\n",
      "[333 rows x 10 columns]\n"
     ]
    }
   ],
   "source": [
    "cull = ['IA-DL-33', 'IA-DV-14', 'RANI4', 'IA-AP-9', 'ALRI4', 'CHRI4', 'IA-WY-10', 'IA-LC-12', 'IA-WY-7', 'IA-WY-9']\n",
    "if cull:\n",
    "    df.loc[df['nwsli'].isin(cull), USEME] = False\n",
    "# df.loc[df[df[\"val\"] < 1].index, USEME] = False\n",
    "hardcode = [\n",
    "    ['IA-WB-17', 0.0001],\n",
    "    ['OAKI4', 2],\n",
    "    ['UNDI4', 2],\n",
    "    ['GRTM7', 2],\n",
    "    ['KNXI4', 1],\n",
    "    ['PEAI4', 1],\n",
    "    ['IA-WR-5', 2],\n",
    "    ['IA-WR-7', 2],\n",
    "    ['IA-DV-3', 2],\n",
    "    ['IA-IA-13', 0.9],\n",
    "    ['WSHI4', 0.9],\n",
    "    [924, 2],\n",
    "    ['FRFI4', 1],\n",
    "]\n",
    "for nwsli, val in hardcode:\n",
    "    df.loc[df['nwsli'] == nwsli, 'val'] = val\n",
    "\n",
    "ctx['csector'] = \"IA\"\n",
    "mp = workflow(ctx, df, isfinal=True, lower=3, upper=5)\n",
    "res = mp.postprocess(filename='210207.png')\n",
    "mp.close()"
   ]
  },
  {
   "cell_type": "code",
   "execution_count": null,
   "metadata": {},
   "outputs": [],
   "source": []
  },
  {
   "cell_type": "code",
   "execution_count": null,
   "metadata": {},
   "outputs": [],
   "source": []
  }
 ],
 "metadata": {
  "kernelspec": {
   "display_name": "Python 3",
   "language": "python",
   "name": "python3"
  },
  "language_info": {
   "codemirror_mode": {
    "name": "ipython",
    "version": 3
   },
   "file_extension": ".py",
   "mimetype": "text/x-python",
   "name": "python",
   "nbconvert_exporter": "python",
   "pygments_lexer": "ipython3",
   "version": "3.8.6"
  }
 },
 "nbformat": 4,
 "nbformat_minor": 1
}

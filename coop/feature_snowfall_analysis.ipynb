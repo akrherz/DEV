{
 "cells": [
  {
   "cell_type": "code",
   "execution_count": 1,
   "metadata": {},
   "outputs": [],
   "source": [
    "# Use autoplot 207's code for this app\n",
    "import sys\n",
    "sys.path.insert(0, \"/opt/iem/htdocs/plotting/auto/scripts200/\")\n",
    "from p207 import load_data, compute_grid_bounds, add_zeros, do_analysis, USEME\n",
    "from pyiem.plot import MapPlot, nwssnow\n",
    "from pyiem.util import get_dbconn, utc\n",
    "import numpy as np"
   ]
  },
  {
   "cell_type": "code",
   "execution_count": 11,
   "metadata": {},
   "outputs": [],
   "source": [
    "STORM_NUMBER = 16\n",
    "TITLE = \"4 February 2021\"\n",
    "SUBTITLE = \"8 AM 5 February 2021\"\n",
    "sts = utc(2021, 2, 4, 12)\n",
    "ets = utc(2021, 12, 30, 23, 0)\n",
    "# Get available data\n",
    "ctx = {'coop': 'yes', 'csector': 'IA', 't': 'state', 'sz': 30, 'z': 'yes', 'f': 'linear', 'v': 'snow'}\n",
    "df = load_data(ctx, sts, ets)\n",
    "# figure out our grid bounds\n",
    "ctx[\"bnds2163\"] = compute_grid_bounds(ctx)\n",
    "# add zeros and QC\n",
    "df = add_zeros(df, ctx)"
   ]
  },
  {
   "cell_type": "code",
   "execution_count": 9,
   "metadata": {},
   "outputs": [],
   "source": [
    "def workflow(ctx, df, isfinal=False, lower=0, upper=2):\n",
    "    # do gridding\n",
    "    df2 = df[df[USEME]]\n",
    "    lons, lats, vals = do_analysis(df2, ctx)\n",
    "    mp = MapPlot(\n",
    "        sector=\"state\",\n",
    "        state=ctx[\"csector\"],\n",
    "        axisbg=\"white\",\n",
    "        title=\"%s - IEM Snowfall Total Analysis\" % (TITLE, ),\n",
    "        subtitle=(\"Snowfall totals till %s from NWS COOP, LSR, CoCoRaHS Reports; \"\n",
    "                  \"IEM 2020-2021 Winter Storm #%s\") % (SUBTITLE, STORM_NUMBER),\n",
    "        twitter=True,\n",
    "    )\n",
    "    mp.contourf(\n",
    "        lons, lats, vals, np.array([0.1, 1, 2, 3, 4, 6, 8, 12, 18, 24, 30, 36]), cmap=nwssnow(), clip_on=True)\n",
    "    df_useme_plot = df2[(df2['val']>=lower)&(df2['val'] < upper)]\n",
    "    print(df_useme_plot)\n",
    "    mp.drawcounties()\n",
    "    if isfinal:\n",
    "        mp.drawcities()\n",
    "    else:\n",
    "        mp.plot_values(df_useme_plot['lon'], df_useme_plot['lat'], df_useme_plot['val'],\n",
    "            '%s', labels=df_useme_plot['nwsli'].values,\n",
    "            textsize=10, labeltextsize=10, labelbuffer=1)\n",
    "    return mp"
   ]
  },
  {
   "cell_type": "code",
   "execution_count": 41,
   "metadata": {},
   "outputs": [
    {
     "name": "stdout",
     "output_type": "stream",
     "text": [
      "     state  wfo  val       lon      lat                              geo  \\\n",
      "20      MI  APX  9.6  -84.3700  46.4800   POINT (1187451.979 280552.196)   \n",
      "21      WI  GRB  9.5  -89.8800  46.1300    POINT (777327.290 174556.867)   \n",
      "22      WI  GRB  9.5  -89.1100  44.5600      POINT (859567.275 8899.259)   \n",
      "23      WY  CYS  9.0 -106.7100  41.0600  POINT (-562150.128 -415119.858)   \n",
      "24      WI  GRB  9.0  -87.9400  45.3600    POINT (937897.775 110195.872)   \n",
      "...    ...  ...  ...       ...      ...                              ...   \n",
      "1171    IA  DMX  6.0  -93.7233  41.7361   POINT (520395.505 -342991.551)   \n",
      "1172    WI  ARX  6.0  -91.2295  43.5705   POINT (704938.954 -120961.697)   \n",
      "1173    MI  APX  6.0  -85.2672  45.3172   POINT (1143996.831 139995.056)   \n",
      "1174    CO  BOU  6.0 -105.7080  39.6552  POINT (-488708.876 -577273.448)   \n",
      "1175    CO  PUB  6.0 -106.3513  39.0935  POINT (-548187.958 -635530.248)   \n",
      "\n",
      "      used_for_analysis  nwsli  plotme source  \n",
      "20                 True     20    True    LSR  \n",
      "21                 True     21    True    LSR  \n",
      "22                 True     22    True    LSR  \n",
      "23                 True     23    True    LSR  \n",
      "24                 True     24    True    LSR  \n",
      "...                 ...    ...     ...    ...  \n",
      "1171               True    DMX    True   COOP  \n",
      "1172               True  GENW3    True   COOP  \n",
      "1173               True  CHRM4    True   COOP  \n",
      "1174               True  GCRC2    True   COOP  \n",
      "1175               True  TWNC2    True   COOP  \n",
      "\n",
      "[222 rows x 10 columns]\n"
     ]
    }
   ],
   "source": [
    "cull = ['DVNI4', 'OSAI4', 1003, 989, 'IWAI4', 'GNDI4', 1041, 686, 772, 577, 582, 371]\n",
    "if cull:\n",
    "    df.loc[df['nwsli'].isin(cull), USEME] = False\n",
    "df.loc[df[df[\"val\"] < 1].index, USEME] = False\n",
    "hardcode = [\n",
    "    [907, 2],\n",
    "    ['AESI4', 2.5],\n",
    "    [1042, 2],\n",
    "    [1041, 2.5],\n",
    "    [371, 3],\n",
    "    [581, 2.5],\n",
    "    ['IA-PK-21', 2.5],\n",
    "    ['CINI4', 2],\n",
    "    [903, 2],\n",
    "    ['SLBI4', 2],\n",
    "    [471, 2.5],\n",
    "    [621, 2.5],\n",
    "    [653, 2.5],\n",
    "    ['PERI4', 2.5],\n",
    "    \n",
    "    \n",
    "]\n",
    "for nwsli, val in hardcode:\n",
    "    df.loc[df['nwsli'] == nwsli, 'val'] = val\n",
    "\n",
    "ctx['csector'] = \"IA\"\n",
    "mp = workflow(ctx, df, isfinal=True, lower=6, upper=10)\n",
    "res = mp.postprocess(filename='210205.png')\n",
    "mp.close()"
   ]
  },
  {
   "cell_type": "code",
   "execution_count": null,
   "metadata": {},
   "outputs": [],
   "source": []
  },
  {
   "cell_type": "code",
   "execution_count": null,
   "metadata": {},
   "outputs": [],
   "source": []
  }
 ],
 "metadata": {
  "kernelspec": {
   "display_name": "Python 3",
   "language": "python",
   "name": "python3"
  },
  "language_info": {
   "codemirror_mode": {
    "name": "ipython",
    "version": 3
   },
   "file_extension": ".py",
   "mimetype": "text/x-python",
   "name": "python",
   "nbconvert_exporter": "python",
   "pygments_lexer": "ipython3",
   "version": "3.8.6"
  }
 },
 "nbformat": 4,
 "nbformat_minor": 1
}

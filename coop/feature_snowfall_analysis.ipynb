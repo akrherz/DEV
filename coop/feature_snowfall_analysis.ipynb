{
 "cells": [
  {
   "cell_type": "code",
   "execution_count": 1,
   "metadata": {},
   "outputs": [],
   "source": [
    "# Use autoplot 207's code for this app\n",
    "import sys\n",
    "sys.path.insert(0, \"/opt/iem/htdocs/plotting/auto/scripts200/\")\n",
    "from p207 import load_data, compute_grid_bounds, add_zeros, do_analysis, USEME\n",
    "from pyiem.plot import MapPlot, nwssnow\n",
    "from pyiem.util import get_dbconn, utc\n",
    "import numpy as np"
   ]
  },
  {
   "cell_type": "code",
   "execution_count": 2,
   "metadata": {},
   "outputs": [],
   "source": [
    "STORM_NUMBER = 18\n",
    "TITLE = \"7-8 February 2021\"\n",
    "SUBTITLE = \"8 AM 8 February 2021\"\n",
    "sts = utc(2021, 2, 7, 17)\n",
    "ets = utc(2021, 2, 8, 17, 0)\n",
    "# Get available data\n",
    "ctx = {'coop': 'yes', 'csector': 'IA', 't': 'state', 'sz': 30, 'z': 'yes', 'f': 'linear', 'v': 'snow'}\n",
    "df = load_data(ctx, sts, ets)\n",
    "# figure out our grid bounds\n",
    "ctx[\"bnds2163\"] = compute_grid_bounds(ctx)\n",
    "# add zeros and QC\n",
    "df = add_zeros(df, ctx)"
   ]
  },
  {
   "cell_type": "code",
   "execution_count": 3,
   "metadata": {},
   "outputs": [],
   "source": [
    "def workflow(ctx, df, isfinal=False, lower=0, upper=2):\n",
    "    # do gridding\n",
    "    df2 = df[df[USEME]]\n",
    "    lons, lats, vals = do_analysis(df2, ctx)\n",
    "    mp = MapPlot(\n",
    "        sector=\"state\",\n",
    "        state=ctx[\"csector\"],\n",
    "        axisbg=\"white\",\n",
    "        title=\"%s - IEM Snowfall Total Analysis\" % (TITLE, ),\n",
    "        subtitle=(\"Snowfall totals till %s from NWS COOP, LSR, CoCoRaHS Reports; \"\n",
    "                  \"IEM 2020-2021 Winter Storm #%s\") % (SUBTITLE, STORM_NUMBER),\n",
    "        twitter=True,\n",
    "    )\n",
    "    mp.contourf(\n",
    "        lons, lats, vals, np.array([0.1, 1, 2, 3, 4, 6, 8, 12, 18, 24, 30, 36]), cmap=nwssnow(), clip_on=True)\n",
    "    df_useme_plot = df2[(df2['val']>=lower)&(df2['val'] < upper)]\n",
    "    print(df_useme_plot)\n",
    "    mp.drawcounties()\n",
    "    if isfinal:\n",
    "        mp.drawcities()\n",
    "    else:\n",
    "        mp.plot_values(df_useme_plot['lon'], df_useme_plot['lat'], df_useme_plot['val'],\n",
    "            '%s', labels=df_useme_plot['nwsli'].values,\n",
    "            textsize=10, labeltextsize=10, labelbuffer=1)\n",
    "    return mp"
   ]
  },
  {
   "cell_type": "code",
   "execution_count": 15,
   "metadata": {},
   "outputs": [
    {
     "name": "stdout",
     "output_type": "stream",
     "text": [
      "     state  wfo  val      lon      lat                              geo  \\\n",
      "998     MA  BOX  1.9 -70.9300  42.5300   POINT (2320106.002 146094.522)   \n",
      "999     ME  CAR  1.9 -68.3500  47.3500   POINT (2306935.583 728440.357)   \n",
      "1000    NJ  PHI  1.9 -74.8200  40.0100  POINT (2105443.726 -229471.142)   \n",
      "1001    NH  GYX  1.9 -71.5800  43.3000   POINT (2242007.523 209420.971)   \n",
      "1002    VT  ALY  1.9 -72.8300  43.2900   POINT (2148554.933 174230.795)   \n",
      "...    ...  ...  ...      ...      ...                              ...   \n",
      "1541    MA  BOX  1.0 -72.6000  42.5667   POINT (2192095.432 103268.016)   \n",
      "1542    MA  BOX  1.0 -72.8692  42.7350   POINT (2165553.132 113957.824)   \n",
      "1543    MI  GRR  1.0 -86.2037  43.1839  POINT (1112095.136 -107552.438)   \n",
      "1544    MD  PHI  1.0 -76.3386  38.9717  POINT (2014087.009 -379585.033)   \n",
      "1545    MI  APX  1.0 -85.2672  45.3172   POINT (1143996.831 139995.056)   \n",
      "\n",
      "      used_for_analysis  nwsli  plotme source  \n",
      "998                True    998    True    LSR  \n",
      "999                True    999    True    LSR  \n",
      "1000               True   1000    True    LSR  \n",
      "1001               True   1001    True    LSR  \n",
      "1002               True   1002    True    LSR  \n",
      "...                 ...    ...     ...    ...  \n",
      "1541               True  GRFM3    True   COOP  \n",
      "1542               True  ROWM3    True   COOP  \n",
      "1543               True  MKNM4    True   COOP  \n",
      "1544               True  STVM2    True   COOP  \n",
      "1545               True  CHRM4    True   COOP  \n",
      "\n",
      "[328 rows x 10 columns]\n"
     ]
    }
   ],
   "source": [
    "cull = ['DSXI4', 1052, 1171, 'IA-DL-33', 'RKWI4', 'BRCM5', 'IA-PK-73', 'DMX']\n",
    "if cull:\n",
    "    df.loc[df['nwsli'].isin(cull), USEME] = False\n",
    "# df.loc[df[df[\"val\"] < 1].index, USEME] = False\n",
    "hardcode = [\n",
    "]\n",
    "for nwsli, val in hardcode:\n",
    "    df.loc[df['nwsli'] == nwsli, 'val'] = val\n",
    "\n",
    "ctx['csector'] = \"IA\"\n",
    "mp = workflow(ctx, df, isfinal=True, lower=1, upper=2)\n",
    "res = mp.postprocess(filename='210208.png')\n",
    "mp.close()"
   ]
  },
  {
   "cell_type": "code",
   "execution_count": null,
   "metadata": {},
   "outputs": [],
   "source": []
  },
  {
   "cell_type": "code",
   "execution_count": null,
   "metadata": {},
   "outputs": [],
   "source": []
  }
 ],
 "metadata": {
  "kernelspec": {
   "display_name": "Python 3",
   "language": "python",
   "name": "python3"
  },
  "language_info": {
   "codemirror_mode": {
    "name": "ipython",
    "version": 3
   },
   "file_extension": ".py",
   "mimetype": "text/x-python",
   "name": "python",
   "nbconvert_exporter": "python",
   "pygments_lexer": "ipython3",
   "version": "3.8.6"
  }
 },
 "nbformat": 4,
 "nbformat_minor": 1
}

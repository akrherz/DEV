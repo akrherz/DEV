{
 "cells": [
  {
   "cell_type": "code",
   "execution_count": 4,
   "metadata": {
    "collapsed": true
   },
   "outputs": [],
   "source": [
    "from pandas.io.sql import read_sql\n",
    "from pyiem.plot import MapPlot\n",
    "from pyiem.util import get_dbconn\n",
    "import matplotlib.pyplot as plt"
   ]
  },
  {
   "cell_type": "code",
   "execution_count": 2,
   "metadata": {},
   "outputs": [],
   "source": [
    "pgconn = get_dbconn('postgis')\n",
    "df = read_sql(\"\"\"with data as (select ugc,\n",
    " valid - lag(valid) OVER (PARTITION by ugc ORDER by valid ASC) as delta, hour01 from ffg)\n",
    " select ugc, substr(ugc, 3, 1) as ztype,\n",
    " extract(epoch from sum(case when hour01 < 1. then delta else '0 minutes'::interval end))\n",
    " / extract(epoch from sum(delta) + '1 minute'::interval) * 100. as p from data\n",
    " GROUP by ugc, ztype\"\"\", pgconn, index_col='ugc')"
   ]
  },
  {
   "cell_type": "code",
   "execution_count": 14,
   "metadata": {},
   "outputs": [],
   "source": [
    "mp = MapPlot(sector='conus', continentalcolor='white',\n",
    "            title='2001-2016 Percentage of Time 1 Hour Flash Flood Guidance < 1 inch',\n",
    "            subtitle=(\"Estimated amount of Rainfall \"\n",
    "                      \"needed for non-urban Flash Flooding to commence\"))\n",
    "cmap = plt.get_cmap('gist_rainbow_r')\n",
    "cmap.set_under('tan')\n",
    "cmap.set_over('pink')\n",
    "df2 = df[df['ztype'] == 'C']\n",
    "bins = range(0, 11, 1)\n",
    "bins[0] = 0.01\n",
    "mp.fill_ugcs(df2['p'].to_dict(), bins, cmap=cmap, plotmissing=False,\n",
    "               ilabel=False)\n",
    "df2 = df[df['ztype'] == 'Z']\n",
    "mp.fill_ugcs(df2['p'].to_dict(), bins, cmap=cmap, plotmissing=False,\n",
    "               units='Percentage', ilabel=False)\n",
    "mp.postprocess(filename='test.png')"
   ]
  },
  {
   "cell_type": "code",
   "execution_count": null,
   "metadata": {
    "collapsed": true
   },
   "outputs": [],
   "source": []
  }
 ],
 "metadata": {
  "kernelspec": {
   "display_name": "Python 3 (ipykernel)",
   "language": "python",
   "name": "python3"
  },
  "language_info": {
   "codemirror_mode": {
    "name": "ipython",
    "version": 3
   },
   "file_extension": ".py",
   "mimetype": "text/x-python",
   "name": "python",
   "nbconvert_exporter": "python",
   "pygments_lexer": "ipython3",
   "version": "3.10.11"
  }
 },
 "nbformat": 4,
 "nbformat_minor": 1
}

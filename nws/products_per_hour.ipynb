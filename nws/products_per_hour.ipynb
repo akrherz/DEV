{
 "cells": [
  {
   "cell_type": "code",
   "execution_count": 11,
   "metadata": {
    "collapsed": true,
    "jupyter": {
     "outputs_hidden": true
    }
   },
   "outputs": [],
   "source": [
    "import psycopg2\n",
    "import datetime\n",
    "import numpy as np\n",
    "import matplotlib.pyplot as plt\n",
    "from pandas.io.sql import read_sql\n",
    "from pyiem.util import get_dbconn"
   ]
  },
  {
   "cell_type": "code",
   "execution_count": 6,
   "metadata": {},
   "outputs": [],
   "source": [
    "pgconn = get_dbconn('afos')\n",
    "df = read_sql(\"\"\"\n",
    "    SELECT date(entered at time zone 'UTC') as dt,\n",
    "    extract(hour from entered at time zone 'UTC') as hr, count(*) from products\n",
    "    where source = 'KUNR' and entered > '2009-01-01' GROUP by dt, hr\n",
    "\"\"\", pgconn, index_col=None)"
   ]
  },
  {
   "cell_type": "code",
   "execution_count": 14,
   "metadata": {},
   "outputs": [],
   "source": [
    "data = np.zeros((24, 8*366))\n",
    "base = datetime.date(2009, 1, 1)\n",
    "for _, row in df.iterrows():\n",
    "    x = int((row['dt'] - base).days)\n",
    "    data[int(row['hr']), x] = row['count']"
   ]
  },
  {
   "cell_type": "code",
   "execution_count": 21,
   "metadata": {
    "collapsed": true,
    "jupyter": {
     "outputs_hidden": true
    }
   },
   "outputs": [],
   "source": [
    "xticks = []\n",
    "xticklabels = []\n",
    "for i in range(3000):\n",
    "    ts = base + datetime.timedelta(days=i)\n",
    "    if ts.month == 1 and ts.day == 1:\n",
    "        xticks.append(i)\n",
    "        xticklabels.append(ts.year)"
   ]
  },
  {
   "cell_type": "code",
   "execution_count": 1,
   "metadata": {},
   "outputs": [
    {
     "ename": "NameError",
     "evalue": "name 'plt' is not defined",
     "output_type": "error",
     "traceback": [
      "\u001b[0;31m---------------------------------------------------------------------------\u001b[0m",
      "\u001b[0;31mNameError\u001b[0m                                 Traceback (most recent call last)",
      "Cell \u001b[0;32mIn[1], line 1\u001b[0m\n\u001b[0;32m----> 1\u001b[0m (fig, ax) \u001b[38;5;241m=\u001b[39m \u001b[43mplt\u001b[49m\u001b[38;5;241m.\u001b[39msubplots(\u001b[38;5;241m1\u001b[39m, \u001b[38;5;241m1\u001b[39m, figsize\u001b[38;5;241m=\u001b[39m(\u001b[38;5;241m12\u001b[39m, \u001b[38;5;241m7\u001b[39m))\n\u001b[1;32m      2\u001b[0m res \u001b[38;5;241m=\u001b[39m ax\u001b[38;5;241m.\u001b[39mimshow(data, aspect\u001b[38;5;241m=\u001b[39m\u001b[38;5;124m'\u001b[39m\u001b[38;5;124mauto\u001b[39m\u001b[38;5;124m'\u001b[39m, interpolation\u001b[38;5;241m=\u001b[39m\u001b[38;5;124m'\u001b[39m\u001b[38;5;124mnearest\u001b[39m\u001b[38;5;124m'\u001b[39m,\n\u001b[1;32m      3\u001b[0m                cmap\u001b[38;5;241m=\u001b[39mplt\u001b[38;5;241m.\u001b[39mget_cmap(\u001b[38;5;124m'\u001b[39m\u001b[38;5;124mGreens\u001b[39m\u001b[38;5;124m'\u001b[39m), vmax\u001b[38;5;241m=\u001b[39m\u001b[38;5;241m12\u001b[39m)\n\u001b[1;32m      4\u001b[0m fig\u001b[38;5;241m.\u001b[39mcolorbar(res, label\u001b[38;5;241m=\u001b[39m\u001b[38;5;124m'\u001b[39m\u001b[38;5;124mproducts\u001b[39m\u001b[38;5;124m'\u001b[39m)\n",
      "\u001b[0;31mNameError\u001b[0m: name 'plt' is not defined"
     ]
    }
   ],
   "source": [
    "(fig, ax) = plt.subplots(1, 1, figsize=(12, 7))\n",
    "res = ax.imshow(data, aspect='auto', interpolation='nearest',\n",
    "               cmap=plt.get_cmap('Greens'), vmax=12)\n",
    "fig.colorbar(res, label='products')\n",
    "ax.set_ylim(-0.5, 23.5)\n",
    "ax.set_yticks([0, 4, 8, 12, 16, 20])\n",
    "ax.set_xticks(xticks)\n",
    "ax.set_xticklabels(xticklabels)\n",
    "ax.set_yticklabels(['00', '04', '08', '12', '16', '20'])\n",
    "ax.set_ylabel(\"UTC Hour\")\n",
    "xlim = int((datetime.date(2016, 8, 1) - base).days)\n",
    "ax.set_xlim(0, xlim)\n",
    "ax.grid(True)\n",
    "ax.set_title((\"1 Jan 2009 - 1 Aug 2016 KUNR Text Products by Hour\\n\"\n",
    "             \"display capped at 12 products per hour\"))\n",
    "fig.savefig('kunr_daily.png')"
   ]
  },
  {
   "cell_type": "code",
   "execution_count": null,
   "metadata": {
    "collapsed": true,
    "jupyter": {
     "outputs_hidden": true
    }
   },
   "outputs": [],
   "source": []
  }
 ],
 "metadata": {
  "kernelspec": {
   "display_name": "Python 3 (ipykernel)",
   "language": "python",
   "name": "python3"
  },
  "language_info": {
   "codemirror_mode": {
    "name": "ipython",
    "version": 3
   },
   "file_extension": ".py",
   "mimetype": "text/x-python",
   "name": "python",
   "nbconvert_exporter": "python",
   "pygments_lexer": "ipython3",
   "version": "3.11.6"
  }
 },
 "nbformat": 4,
 "nbformat_minor": 4
}

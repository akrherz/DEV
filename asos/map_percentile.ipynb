{
 "cells": [
  {
   "cell_type": "code",
   "execution_count": 1,
   "metadata": {},
   "outputs": [
    {
     "name": "stdout",
     "output_type": "stream",
     "text": [
      "Populating the interactive namespace from numpy and matplotlib\n"
     ]
    }
   ],
   "source": [
    "from pyiem.network import Table as NetworkTable\n",
    "import pandas as pd\n",
    "from pandas.io.sql import read_sql\n",
    "from pyiem.plot import MapPlot\n",
    "import numpy as np\n",
    "from tqdm import tqdm\n",
    "from pyiem.meteorology import windchill\n",
    "from pyiem.datatypes import temperature, speed\n",
    "from pyiem.util import get_dbconn"
   ]
  },
  {
   "cell_type": "code",
   "execution_count": 2,
   "metadata": {},
   "outputs": [
    {
     "name": "stderr",
     "output_type": "stream",
     "text": [
      "CRP: 100%|██████████| 690/690 [3:00:49<00:00, 15.72s/it]  \n"
     ]
    }
   ],
   "source": [
    "ASOS = get_dbconn('asos')\n",
    "\n",
    "MESOSITE = get_dbconn('mesosite')\n",
    "mcursor = MESOSITE.cursor()\n",
    "\n",
    "mcursor.execute(\"\"\"\n",
    "    SELECT id, network, st_x(geom) as lon, st_y(geom) as lat from stations where country = 'US' and \n",
    "    network ~* 'ASOS' and state not in ('AK', 'HI') and\n",
    "    archive_begin < '1973-01-01' and archive_end is null and length(id) = 3\"\"\")\n",
    "\n",
    "rows = []\n",
    "progress = tqdm(mcursor, total=mcursor.rowcount)\n",
    "for row in progress:\n",
    "    progress.set_description(row[0])\n",
    "    # Figure out what our archive coverage is, 41 years would be perfect\n",
    "    # https://leafo.net/guides/postgresql-calculating-percentile.html#calculating-all-percentiles\n",
    "    df = read_sql(\"\"\"\n",
    "        with data as (\n",
    "        SELECT date_trunc('hour', valid) as hr, max(feel)::int as val from alldata\n",
    "        where station = %s and valid > '1973-01-01' and feel is not null and feel < 200\n",
    "        and extract(month from valid) in (4, 5, 6, 7, 8, 9)\n",
    "        and report_type = 2 GROUP by hr)\n",
    "        select percentile_disc(0.990) within group (ORDER by val) from data\n",
    "    \"\"\", ASOS, params=(row[0],) )\n",
    "\n",
    "    # 12 coldest hours over 6 winter months is 99.8th percentile\n",
    "    # val = np.percentile(df['val'].values, np.arange(98.5, 100.1, 0.1))\n",
    "    rows.append(dict(sid=row[0], lat=row[3], lon=row[2],\n",
    "                     val=df.iat[0, 0], network=row[1]))\n",
    "\n",
    "df = pd.DataFrame(rows)\n",
    "df.set_index('sid', inplace=True)\n",
    "df['useme'] = True"
   ]
  },
  {
   "cell_type": "code",
   "execution_count": 3,
   "metadata": {},
   "outputs": [
    {
     "name": "stdout",
     "output_type": "stream",
     "text": [
      "     sid        lat        lon  val  network  useme\n",
      "0    MCN  32.692850 -83.649210  103  GA_ASOS   True\n",
      "1    MCO  28.429390 -81.308990  102  FL_ASOS   True\n",
      "2    BAK  39.261920 -85.896330   96  IN_ASOS   True\n",
      "3    BTV  44.470000 -73.150000   90  VT_ASOS   True\n",
      "4    CVG  39.043060 -84.671670   97  KY_ASOS   True\n",
      "..   ...        ...        ...  ...      ...    ...\n",
      "685  EYW  24.556111 -81.759556  103  FL_ASOS   True\n",
      "686  PIT  40.491470 -80.232860   91  PA_ASOS   True\n",
      "687  SHV  32.447200 -93.824400  105  LA_ASOS   True\n",
      "688  JAN  32.320000 -90.080000  104  MS_ASOS   True\n",
      "689  CRP  27.773060 -97.512780  107  TX_ASOS   True\n",
      "\n",
      "[690 rows x 6 columns]\n"
     ]
    }
   ],
   "source": [
    "df = pd.read_csv('heat_percentiles.csv')\n",
    "#df.at['3A1', 'useme'] = False\n",
    "#df.at['87Q', 'useme'] = False\n",
    "print(df)"
   ]
  },
  {
   "cell_type": "code",
   "execution_count": 4,
   "metadata": {},
   "outputs": [],
   "source": [
    "df2 = df[df['useme'] == True]\n",
    "for percentile in [99.0, ]:\n",
    "    # percentile = 100. - (p * 0.1)\n",
    "    values = df2['val']\n",
    "    hours = 182. * 24. * ((100. - percentile) / 100.)\n",
    "    m = MapPlot(sector='conus',\n",
    "                title=(\"%.1fth Percentile Hottest Heat Index Temperature (April thru September)\"\n",
    "                       ) % (percentile,),\n",
    "                subtitle=(\"based on longterm automated stations hourly METARs, \"\n",
    "                          \"%.1f is ~%.0f hours out of six months\"\n",
    "                         ) % (percentile, hours))\n",
    "    m.contourf(np.array(df2.lon), np.array(df2.lat), np.array(values), np.arange(80, 111, 5), units='F',\n",
    "              cmap=plt.get_cmap('jet'))\n",
    "    m.plot_values(df2.lon, df2.lat, values, fmt='%.0f', labelbuffer=15)\n",
    "    m.postprocess(filename='hdx_%.0f.png' % (percentile * 10,))\n",
    "    m.close()"
   ]
  },
  {
   "cell_type": "code",
   "execution_count": null,
   "metadata": {},
   "outputs": [],
   "source": []
  }
 ],
 "metadata": {
  "kernelspec": {
   "display_name": "Python 3 (ipykernel)",
   "language": "python",
   "name": "python3"
  },
  "language_info": {
   "codemirror_mode": {
    "name": "ipython",
    "version": 3
   },
   "file_extension": ".py",
   "mimetype": "text/x-python",
   "name": "python",
   "nbconvert_exporter": "python",
   "pygments_lexer": "ipython3",
   "version": "3.10.5"
  }
 },
 "nbformat": 4,
 "nbformat_minor": 1
}

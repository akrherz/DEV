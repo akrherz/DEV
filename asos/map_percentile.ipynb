{
 "cells": [
  {
   "cell_type": "code",
   "execution_count": 1,
   "metadata": {
    "collapsed": false
   },
   "outputs": [
    {
     "name": "stdout",
     "output_type": "stream",
     "text": [
      "Populating the interactive namespace from numpy and matplotlib\n"
     ]
    },
    {
     "name": "stderr",
     "output_type": "stream",
     "text": [
      "/usr/lib64/python2.7/site-packages/matplotlib/__init__.py:1357: UserWarning:  This call to matplotlib.use() has no effect\n",
      "because the backend has already been chosen;\n",
      "matplotlib.use() must be called *before* pylab, matplotlib.pyplot,\n",
      "or matplotlib.backends is imported for the first time.\n",
      "\n",
      "  warnings.warn(_use_error_msg)\n"
     ]
    }
   ],
   "source": [
    "%pylab inline\n",
    "import psycopg2\n",
    "from pyiem.network import Table as NetworkTable\n",
    "import pandas as pd\n",
    "from pyiem.plot import MapPlot\n",
    "import numpy as np\n",
    "from tqdm import tqdm\n",
    "from pyiem.meteorology import windchill\n",
    "from pyiem.datatypes import temperature, speed"
   ]
  },
  {
   "cell_type": "code",
   "execution_count": 2,
   "metadata": {
    "collapsed": false
   },
   "outputs": [
    {
     "name": "stderr",
     "output_type": "stream",
     "text": [
      "100%|██████████| 2385/2385 [1:04:07<00:00,  3.04s/it]\n"
     ]
    }
   ],
   "source": [
    "ASOS = psycopg2.connect(database='asos', user='nobody', host='localhost', port=5555)\n",
    "acursor = ASOS.cursor()\n",
    "\n",
    "MESOSITE = psycopg2.connect(database='mesosite', user='nobody', host='localhost', port=5555)\n",
    "mcursor = MESOSITE.cursor()\n",
    "\n",
    "networks = ['AWOS',]\n",
    "mcursor.execute(\"\"\"SELECT distinct network from stations where country = 'US' and \n",
    " network ~* 'ASOS' and state not in ('AK', 'HI') and length(id) = 3\"\"\")\n",
    "for row in mcursor:\n",
    "    networks.append( row[0] )\n",
    "\n",
    "nt = NetworkTable(networks)\n",
    "rows = []\n",
    "sids = nt.sts.keys()\n",
    "sids.sort()\n",
    "for sid in tqdm(sids):\n",
    "    if nt.sts[sid]['archive_begin'] is None or nt.sts[sid]['archive_begin'].year > 1973:\n",
    "        continue\n",
    "\n",
    "    # Figure out what our archive coverage is, 41 years would be perfect\n",
    "    acursor.execute(\"\"\"\n",
    "    WITH obs as (\n",
    "        SELECT date_trunc('hour', valid) as hr, tmpf, sknt from alldata\n",
    "        where station = %s and valid > '1973-01-01' and tmpf is not null\n",
    "        and sknt >= 0 and extract(month from valid) in (10, 11, 12, 1, 2, 3)\n",
    "        and report_type = 2\n",
    "    ), agg1 as (\n",
    "        SELECT hr, tmpf, sknt, count(*) over (PARTITION by hr) from obs\n",
    "    )\n",
    "    SELECT hr, tmpf, sknt from agg1 where count = 1\n",
    "    \"\"\", (sid,) )\n",
    "\n",
    "    w = []\n",
    "    for row in acursor:\n",
    "        w.append(windchill(temperature(row[1], 'F'), speed(row[2], 'KT')).value('F'))\n",
    "    if len(w) < 100:\n",
    "        continue\n",
    "    # 12 coldest hours over 6 winter months is 99.8th percentile\n",
    "    val = np.percentile(np.array(w), np.arange(0, 1.5, 0.1))\n",
    "    rows.append(dict(sid=sid, lat=nt.sts[sid]['lat'], lon=nt.sts[sid]['lon'],\n",
    "                     val0=val[0], val1=val[1], val2=val[2], val3=val[3], val4=val[4],\n",
    "                     val5=val[5], val6=val[6], val7=val[7], val8=val[8], val9=val[9],\n",
    "                     val10=val[10], val11=val[11], val12=val[12], val13=val[13],\n",
    "                    obs=len(w), network=nt.sts[sid]['network']))\n",
    "    # print sid, len(w), val\n",
    "\n",
    "df = pd.DataFrame(rows)\n",
    "df.set_index('sid', inplace=True)\n",
    "df['useme'] = True"
   ]
  },
  {
   "cell_type": "code",
   "execution_count": 7,
   "metadata": {
    "collapsed": false
   },
   "outputs": [
    {
     "name": "stdout",
     "output_type": "stream",
     "text": [
      "          lat       lon  network     obs       val0       val1      val10  \\\n",
      "sid                                                                         \n",
      "DHN  31.32000 -85.45000  AL_ASOS  169780 -68.090892   7.841168  20.176041   \n",
      "79J  31.30875 -86.39378  AL_ASOS   54480 -26.445132   2.696331  18.084801   \n",
      "HSV  34.64389 -86.78611  AL_ASOS  184356 -25.003046  -7.597758   8.259502   \n",
      "MSL  34.74385 -87.59962  AL_ASOS  169707 -22.907461  -6.438875   9.724472   \n",
      "BHM  33.56546 -86.74488  AL_ASOS  179233 -22.494960  -1.895847  12.319945   \n",
      "ANB  33.58817 -85.85811  AL_ASOS  170668 -22.007657   0.302002  14.133991   \n",
      "MGM  32.30064 -86.39397  AL_ASOS  184543 -17.514402   5.897717  18.337974   \n",
      "TCL  33.21190 -87.61610  AL_ASOS  171710 -14.797734   2.273748  16.141860   \n",
      "MOB  30.68833 -88.24556  AL_ASOS  182933 -12.424623   7.491762  20.157599   \n",
      "TOI  31.86042 -86.01214  AL_ASOS   71749 -10.949120   9.581153  20.176041   \n",
      "GAD  33.97265 -86.08908  AL_ASOS   24239 -10.252605   0.014099  12.146652   \n",
      "MXF  32.38294 -86.36578  AL_ASOS  137944  -7.814126  10.331448  21.496178   \n",
      "BFM  30.62678 -88.06808  AL_ASOS   71842  -7.691059  10.773134  22.424681   \n",
      "OZR  31.27577 -85.71335  AL_ASOS  167255  -6.270334   9.728276  20.816431   \n",
      "3A1  34.27000 -86.86000  AL_ASOS   16743   3.648451  16.897676  30.200000   \n",
      "\n",
      "         val11      val12      val13       val2       val3       val4  \\\n",
      "sid                                                                     \n",
      "DHN  20.581397  21.158153  21.496178  11.686940  14.105427  15.423755   \n",
      "79J  18.819019  19.156638  19.640048   8.652635  11.017882  12.903806   \n",
      "HSV   8.779673   9.437513   9.724472  -2.108434   0.516993   2.634039   \n",
      "MSL  10.220000  10.796309  11.179519  -0.075690   2.444235   4.218944   \n",
      "BHM  13.021977  13.373607  14.105427   2.634221   5.105567   7.003903   \n",
      "ANB  14.392981  15.201404  15.447802   4.570293   7.152064   8.652635   \n",
      "MGM  18.830531  19.156638  19.852980   9.603038  11.839313  13.198547   \n",
      "TCL  16.641248  17.036543  17.703536   7.366431   9.511843  11.027164   \n",
      "MOB  20.724299  21.156158  21.514679  11.463393  13.640674  15.431974   \n",
      "TOI  20.764077  21.215310  21.514679  12.200000  14.146099  15.512392   \n",
      "GAD  13.076529  13.967858  14.292374   2.532968   4.996291   6.456266   \n",
      "MXF  21.990440  22.611661  22.847523  13.368718  15.512392  16.641248   \n",
      "BFM  22.782844  23.481784  23.727144  14.004081  16.438880  17.689135   \n",
      "OZR  21.367578  21.839474  22.242787  12.898525  14.747208  16.207139   \n",
      "3A1  31.304346  31.352812  32.000000  21.158153  22.184998  23.208503   \n",
      "\n",
      "          val5       val6       val7       val8       val9  useme  \n",
      "sid                                                                \n",
      "DHN  16.602297  17.623293  18.287005  18.936096  19.422738   True  \n",
      "79J  14.226188  15.231974  15.984119  16.798596  17.623293   True  \n",
      "HSV   3.836519   5.124500   6.080227   7.050926   7.614779   True  \n",
      "MSL   5.542137   6.709223   7.708689   8.470923   9.002769   True  \n",
      "BHM   8.438268   9.437513  10.118252  10.962592  11.853652   True  \n",
      "ANB   9.877958  10.966242  11.871123  12.790253  13.314383   True  \n",
      "MGM  14.525971  15.632157  16.504905  17.139080  17.802285   True  \n",
      "TCL  12.217921  13.198547  14.146099  14.728874  15.430964   True  \n",
      "MOB  16.798596  17.773429  18.485790  19.041952  19.735688   True  \n",
      "TOI  16.662776  17.612555  18.065767  19.040000  19.662008   True  \n",
      "GAD   8.110090   8.955961   9.661031  10.611306  11.236880   True  \n",
      "MXF  17.831750  18.927728  19.583194  20.268765  20.988882   True  \n",
      "BFM  18.850457  19.806372  20.310476  21.200000  21.808933   True  \n",
      "OZR  17.393359  18.196270  18.988885  19.760183  20.242901   True  \n",
      "3A1  24.961728  26.357613  27.280657  28.284530  29.459891  False  \n"
     ]
    }
   ],
   "source": [
    "df.to_csv('windchill_percentiles.csv')\n",
    "df.at['3A1', 'useme'] = False\n",
    "df.at['87Q', 'useme'] = False\n",
    "print df[df['network'] == 'AL_ASOS'].sort_values('val0')\n"
   ]
  },
  {
   "cell_type": "code",
   "execution_count": 8,
   "metadata": {
    "collapsed": false
   },
   "outputs": [],
   "source": [
    "df2 = df[df['useme'] == True]\n",
    "for p in range(14):\n",
    "    percentile = 100. - (p * 0.1)\n",
    "    values = df2['val%s' % (p,)]\n",
    "    hours = 182. * 24. * ((100. - percentile) / 100.)\n",
    "    m = MapPlot(sector='conus',\n",
    "                title=(\"%.1fth Percentile Coldest Windchill Temperature (October thru March)\"\n",
    "                       ) % (percentile,),\n",
    "                subtitle=(\"based on longterm automated stations hourly METARs, \"\n",
    "                          \"%.1f is ~%.0f hours out of six months\"\n",
    "                         ) % (percentile, hours))\n",
    "    m.contourf(np.array(df2.lon), np.array(df2.lat), np.array(values), np.arange(-50, 40, 5), units='F',\n",
    "              cmap=plt.get_cmap('jet'))\n",
    "    m.plot_values(df2.lon, df2.lat, values, fmt='%.0f', labelbuffer=15)\n",
    "    m.postprocess(filename='windchill_%.0f.png' % (percentile * 10,))\n",
    "    m.close()"
   ]
  },
  {
   "cell_type": "code",
   "execution_count": null,
   "metadata": {
    "collapsed": false
   },
   "outputs": [],
   "source": []
  }
 ],
 "metadata": {
  "kernelspec": {
   "display_name": "Python 2",
   "language": "python",
   "name": "python2"
  },
  "language_info": {
   "codemirror_mode": {
    "name": "ipython",
    "version": 2
   },
   "file_extension": ".py",
   "mimetype": "text/x-python",
   "name": "python",
   "nbconvert_exporter": "python",
   "pygments_lexer": "ipython2",
   "version": "2.7.5"
  }
 },
 "nbformat": 4,
 "nbformat_minor": 0
}
